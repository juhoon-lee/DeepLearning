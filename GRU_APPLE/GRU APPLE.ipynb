{
 "cells": [
  {
   "cell_type": "markdown",
   "id": "302e6018",
   "metadata": {},
   "source": [
    "#### 패키지 Import"
   ]
  },
  {
   "cell_type": "code",
   "execution_count": 1,
   "id": "1f08c128",
   "metadata": {},
   "outputs": [],
   "source": [
    "import numpy as np\n",
    "import pandas as pd\n",
    "import matplotlib.pyplot as plt\n",
    "import time\n",
    "from sklearn.preprocessing import MinMaxScaler\n",
    "from keras.models import Sequential\n",
    "from keras.layers import GRU, Dense\n",
    "from keras.callbacks import EarlyStopping, ModelCheckpoint"
   ]
  },
  {
   "cell_type": "markdown",
   "id": "49e7140b",
   "metadata": {},
   "source": [
    "#### 변수 설정"
   ]
  },
  {
   "cell_type": "code",
   "execution_count": 2,
   "id": "0e722bcf",
   "metadata": {},
   "outputs": [],
   "source": [
    "trainGraphTitle = \"Train Data\"\n",
    "testGraphTitle = \"Test Data\"\n",
    "checkpointPath = \"./weightCheckpoint/bestParam.hdf5\"\n",
    "loss = \"mse\" \n",
    "\n",
    "title = \"ETC\"\n",
    "detail = \"Test\"\n",
    "resultComment = f\"{title} - {detail}\"\n",
    "fileSavePath = f\"./result/{title}/{detail}\"\n",
    "\n",
    "depth = \"SingleGRU\" # Default\n",
    "# depth = \"DoubleGRU\" \n",
    "# depth = \"TripleGRU\"\n",
    "\n",
    "# 변수 \"\" 가 Default\n",
    "hiddenState = 32 # units: 16 \"32\" 64\n",
    "timeStep = 20 # input_length 10 \"20\" 40\n",
    "activation = \"tanh\" # \"tanh\" sigmoid\n",
    "epochs = 100 # 50 \"100\" 200\n",
    "batchSize = 64 # 32 \"64\" 256\n",
    "dataSize = 10 # 5 \"10\" 40\n",
    "optimizer = \"adam\" # \"adam\" sgd\n",
    "patience = 30 # 10 \"30\" 50"
   ]
  },
  {
   "cell_type": "markdown",
   "id": "76e7e235",
   "metadata": {},
   "source": [
    "#### Pandas Setting"
   ]
  },
  {
   "cell_type": "code",
   "execution_count": 3,
   "id": "171b5b82",
   "metadata": {},
   "outputs": [],
   "source": [
    "pd.set_option('display.max_rows', None) # row 생략 없이 출력\n",
    "pd.set_option('display.max_columns', None) # col 생략 없이 출력"
   ]
  },
  {
   "cell_type": "markdown",
   "id": "c77fd75b",
   "metadata": {},
   "source": [
    "#### Data Load"
   ]
  },
  {
   "cell_type": "code",
   "execution_count": 4,
   "id": "33458f40",
   "metadata": {},
   "outputs": [],
   "source": [
    "apple = pd.read_csv(\"Apple_5Y.csv\")\n",
    "\n",
    "if dataSize == 10:\n",
    "    apple = pd.read_csv(\"Apple_10Y.csv\")\n",
    "elif dataSize == 40:\n",
    "    apple = pd.read_csv(\"Apple_Whole_Period.csv\")"
   ]
  },
  {
   "cell_type": "markdown",
   "id": "fb778e6d",
   "metadata": {},
   "source": [
    "#### Describe 확인"
   ]
  },
  {
   "cell_type": "code",
   "execution_count": 5,
   "id": "3da62313",
   "metadata": {
    "scrolled": true
   },
   "outputs": [
    {
     "data": {
      "text/html": [
       "<div>\n",
       "<style scoped>\n",
       "    .dataframe tbody tr th:only-of-type {\n",
       "        vertical-align: middle;\n",
       "    }\n",
       "\n",
       "    .dataframe tbody tr th {\n",
       "        vertical-align: top;\n",
       "    }\n",
       "\n",
       "    .dataframe thead th {\n",
       "        text-align: right;\n",
       "    }\n",
       "</style>\n",
       "<table border=\"1\" class=\"dataframe\">\n",
       "  <thead>\n",
       "    <tr style=\"text-align: right;\">\n",
       "      <th></th>\n",
       "      <th>Open</th>\n",
       "      <th>High</th>\n",
       "      <th>Low</th>\n",
       "      <th>Close</th>\n",
       "      <th>Adj Close</th>\n",
       "      <th>Volume</th>\n",
       "    </tr>\n",
       "  </thead>\n",
       "  <tbody>\n",
       "    <tr>\n",
       "      <th>count</th>\n",
       "      <td>2518.000000</td>\n",
       "      <td>2518.000000</td>\n",
       "      <td>2518.000000</td>\n",
       "      <td>2518.000000</td>\n",
       "      <td>2518.000000</td>\n",
       "      <td>2.518000e+03</td>\n",
       "    </tr>\n",
       "    <tr>\n",
       "      <th>mean</th>\n",
       "      <td>62.383387</td>\n",
       "      <td>63.087693</td>\n",
       "      <td>61.696664</td>\n",
       "      <td>62.416599</td>\n",
       "      <td>60.637030</td>\n",
       "      <td>1.713540e+08</td>\n",
       "    </tr>\n",
       "    <tr>\n",
       "      <th>std</th>\n",
       "      <td>48.683035</td>\n",
       "      <td>49.322128</td>\n",
       "      <td>48.051043</td>\n",
       "      <td>48.709794</td>\n",
       "      <td>49.248659</td>\n",
       "      <td>1.250498e+08</td>\n",
       "    </tr>\n",
       "    <tr>\n",
       "      <th>min</th>\n",
       "      <td>13.856071</td>\n",
       "      <td>14.271429</td>\n",
       "      <td>13.753571</td>\n",
       "      <td>13.947500</td>\n",
       "      <td>12.064585</td>\n",
       "      <td>3.519590e+07</td>\n",
       "    </tr>\n",
       "    <tr>\n",
       "      <th>25%</th>\n",
       "      <td>26.971249</td>\n",
       "      <td>27.219376</td>\n",
       "      <td>26.705000</td>\n",
       "      <td>26.983750</td>\n",
       "      <td>24.676634</td>\n",
       "      <td>9.188698e+07</td>\n",
       "    </tr>\n",
       "    <tr>\n",
       "      <th>50%</th>\n",
       "      <td>41.353750</td>\n",
       "      <td>41.872500</td>\n",
       "      <td>40.888750</td>\n",
       "      <td>41.313750</td>\n",
       "      <td>39.511671</td>\n",
       "      <td>1.301368e+08</td>\n",
       "    </tr>\n",
       "    <tr>\n",
       "      <th>75%</th>\n",
       "      <td>91.272499</td>\n",
       "      <td>92.881876</td>\n",
       "      <td>90.824377</td>\n",
       "      <td>91.526875</td>\n",
       "      <td>90.122925</td>\n",
       "      <td>2.045116e+08</td>\n",
       "    </tr>\n",
       "    <tr>\n",
       "      <th>max</th>\n",
       "      <td>182.630005</td>\n",
       "      <td>182.940002</td>\n",
       "      <td>179.119995</td>\n",
       "      <td>182.009995</td>\n",
       "      <td>180.959732</td>\n",
       "      <td>1.460852e+09</td>\n",
       "    </tr>\n",
       "  </tbody>\n",
       "</table>\n",
       "</div>"
      ],
      "text/plain": [
       "              Open         High          Low        Close    Adj Close  \\\n",
       "count  2518.000000  2518.000000  2518.000000  2518.000000  2518.000000   \n",
       "mean     62.383387    63.087693    61.696664    62.416599    60.637030   \n",
       "std      48.683035    49.322128    48.051043    48.709794    49.248659   \n",
       "min      13.856071    14.271429    13.753571    13.947500    12.064585   \n",
       "25%      26.971249    27.219376    26.705000    26.983750    24.676634   \n",
       "50%      41.353750    41.872500    40.888750    41.313750    39.511671   \n",
       "75%      91.272499    92.881876    90.824377    91.526875    90.122925   \n",
       "max     182.630005   182.940002   179.119995   182.009995   180.959732   \n",
       "\n",
       "             Volume  \n",
       "count  2.518000e+03  \n",
       "mean   1.713540e+08  \n",
       "std    1.250498e+08  \n",
       "min    3.519590e+07  \n",
       "25%    9.188698e+07  \n",
       "50%    1.301368e+08  \n",
       "75%    2.045116e+08  \n",
       "max    1.460852e+09  "
      ]
     },
     "execution_count": 5,
     "metadata": {},
     "output_type": "execute_result"
    }
   ],
   "source": [
    "apple.describe()"
   ]
  },
  {
   "cell_type": "markdown",
   "id": "58bf3bfa",
   "metadata": {},
   "source": [
    "#### trainData, testData 가공"
   ]
  },
  {
   "cell_type": "code",
   "execution_count": 6,
   "id": "2a0c99c3",
   "metadata": {},
   "outputs": [],
   "source": [
    "def transformData(data: [[float]]):\n",
    "    # 날짜 제외\n",
    "    data = data.drop(columns=[\"Date\"])\n",
    "\n",
    "    # 데이터 분리 test: 200개와 나머지\n",
    "    trainSet = data[ : -200]\n",
    "    testSet = data[-200 : ]\n",
    "    \n",
    "    # 데이터 0~1로 정규화\n",
    "    sc = MinMaxScaler(feature_range=(0, 1)) \n",
    "    sc.fit(trainSet)\n",
    "    trainSet = sc.transform(trainSet)\n",
    "    testSet = sc.transform(testSet)\n",
    "    \n",
    "    # trainX, trainY, testX, testY 분리\n",
    "    def parsingData(dataSet: [[float]]) -> ([[[float]]], [[float]]):\n",
    "        dataX, dataY = [], []\n",
    "        for index in range(len(dataSet) - timeStep):\n",
    "            temp = []\n",
    "            for step in range(timeStep):\n",
    "                temp.append(dataSet[index + step])\n",
    "            dataX.append(temp)\n",
    "            dataY.append(dataSet[index + timeStep])\n",
    "\n",
    "        return np.array(dataX), np.array(dataY)\n",
    "\n",
    "    trainDataX, trainDataY = parsingData(trainSet)\n",
    "    testDataX, testDataY = parsingData(testSet)\n",
    "    \n",
    "    \n",
    "    return trainDataX, trainDataY, testDataX[:-30], testDataY, sc"
   ]
  },
  {
   "cell_type": "markdown",
   "id": "8075389b",
   "metadata": {},
   "source": [
    "#### Data Parsing"
   ]
  },
  {
   "cell_type": "code",
   "execution_count": 7,
   "id": "a8d6ba5d",
   "metadata": {
    "scrolled": true
   },
   "outputs": [],
   "source": [
    "trainX, trainY, testX, testY, scaler = transformData(apple)"
   ]
  },
  {
   "cell_type": "markdown",
   "id": "22d1cb98",
   "metadata": {},
   "source": [
    "#### Model Implementation"
   ]
  },
  {
   "cell_type": "code",
   "execution_count": 8,
   "id": "587777f1",
   "metadata": {},
   "outputs": [
    {
     "name": "stdout",
     "output_type": "stream",
     "text": [
      "Metal device set to: Apple M1\n",
      "Model: \"sequential\"\n",
      "_________________________________________________________________\n",
      " Layer (type)                Output Shape              Param #   \n",
      "=================================================================\n",
      " gru (GRU)                   (None, 32)                3840      \n",
      "                                                                 \n",
      " dense (Dense)               (None, 6)                 198       \n",
      "                                                                 \n",
      "=================================================================\n",
      "Total params: 4,038\n",
      "Trainable params: 4,038\n",
      "Non-trainable params: 0\n",
      "_________________________________________________________________\n"
     ]
    },
    {
     "name": "stderr",
     "output_type": "stream",
     "text": [
      "2023-01-05 15:20:43.573214: I tensorflow/core/common_runtime/pluggable_device/pluggable_device_factory.cc:305] Could not identify NUMA node of platform GPU ID 0, defaulting to 0. Your kernel may not have been built with NUMA support.\n",
      "2023-01-05 15:20:43.573298: I tensorflow/core/common_runtime/pluggable_device/pluggable_device_factory.cc:271] Created TensorFlow device (/job:localhost/replica:0/task:0/device:GPU:0 with 0 MB memory) -> physical PluggableDevice (device: 0, name: METAL, pci bus id: <undefined>)\n"
     ]
    }
   ],
   "source": [
    "model = Sequential()\n",
    "\n",
    "if depth == \"SingleGRU\":\n",
    "    model.add(\n",
    "    GRU(\n",
    "        units = hiddenState,\n",
    "        input_length = trainX.shape[1],\n",
    "        input_dim = trainX.shape[2],\n",
    "        activation = activation\n",
    "        )\n",
    "    )\n",
    "    model.add(Dense(6))\n",
    "    \n",
    "    \n",
    "    \n",
    "    \n",
    "elif depth == \"DoubleGRU\":\n",
    "    model.add(\n",
    "        GRU(\n",
    "            units = hiddenState,\n",
    "            input_length = trainX.shape[1],\n",
    "            input_dim = trainX.shape[2],\n",
    "            activation = activation,\n",
    "            return_sequences = True\n",
    "        )\n",
    "    )\n",
    "    model.add(\n",
    "        GRU(\n",
    "            units = hiddenState,\n",
    "            activation = activation\n",
    "        )\n",
    "    )\n",
    "    \n",
    "    model.add(Dense(6))\n",
    "    \n",
    "elif depth == \"TripleGRU\":\n",
    "    model.add(\n",
    "        GRU(\n",
    "            units = hiddenState,\n",
    "            input_length = trainX.shape[1],\n",
    "            input_dim = trainX.shape[2],\n",
    "            activation = activation,\n",
    "            return_sequences = True\n",
    "        )\n",
    "    )\n",
    "    model.add(\n",
    "        GRU(\n",
    "            units = hiddenState,\n",
    "            activation = activation,\n",
    "            return_sequences = True\n",
    "        )\n",
    "    )\n",
    "    model.add(\n",
    "        GRU(\n",
    "            units = hiddenState,\n",
    "            activation = activation\n",
    "        )\n",
    "    )\n",
    "    \n",
    "    model.add(Dense(6))\n",
    "\n",
    "model.summary()"
   ]
  },
  {
   "cell_type": "markdown",
   "id": "9e77d196",
   "metadata": {},
   "source": [
    "#### Model Complie"
   ]
  },
  {
   "cell_type": "code",
   "execution_count": 9,
   "id": "ee7eafae",
   "metadata": {},
   "outputs": [],
   "source": [
    "model.compile(\n",
    "    loss = loss,\n",
    "    optimizer = optimizer,\n",
    "    metrics = [\"mae\"]\n",
    ")"
   ]
  },
  {
   "cell_type": "markdown",
   "id": "4de53be4",
   "metadata": {},
   "source": [
    "#### Model Training"
   ]
  },
  {
   "cell_type": "code",
   "execution_count": 10,
   "id": "08fb9d38",
   "metadata": {
    "scrolled": false
   },
   "outputs": [
    {
     "name": "stdout",
     "output_type": "stream",
     "text": [
      "Epoch 1/100\n"
     ]
    },
    {
     "name": "stderr",
     "output_type": "stream",
     "text": [
      "2023-01-05 15:20:43.794012: W tensorflow/core/platform/profile_utils/cpu_utils.cc:128] Failed to get CPU frequency: 0 Hz\n",
      "2023-01-05 15:20:44.462200: I tensorflow/core/grappler/optimizers/custom_graph_optimizer_registry.cc:113] Plugin optimizer for device_type GPU is enabled.\n",
      "2023-01-05 15:20:44.558425: I tensorflow/core/grappler/optimizers/custom_graph_optimizer_registry.cc:113] Plugin optimizer for device_type GPU is enabled.\n"
     ]
    },
    {
     "name": "stdout",
     "output_type": "stream",
     "text": [
      " 5/36 [===>..........................] - ETA: 0s - loss: 0.1261 - mae: 0.2308 "
     ]
    },
    {
     "name": "stderr",
     "output_type": "stream",
     "text": [
      "2023-01-05 15:20:44.683894: I tensorflow/core/grappler/optimizers/custom_graph_optimizer_registry.cc:113] Plugin optimizer for device_type GPU is enabled.\n"
     ]
    },
    {
     "name": "stdout",
     "output_type": "stream",
     "text": [
      "36/36 [==============================] - ETA: 0s - loss: 0.0492 - mae: 0.1373\n",
      "Epoch 1: loss improved from inf to 0.04920, saving model to ./weightCheckpoint/bestParam.hdf5\n",
      "36/36 [==============================] - 2s 16ms/step - loss: 0.0492 - mae: 0.1373\n",
      "Epoch 2/100\n",
      "35/36 [============================>.] - ETA: 0s - loss: 0.0043 - mae: 0.0489\n",
      "Epoch 2: loss improved from 0.04920 to 0.00419, saving model to ./weightCheckpoint/bestParam.hdf5\n",
      "36/36 [==============================] - 0s 12ms/step - loss: 0.0042 - mae: 0.0482\n",
      "Epoch 3/100\n",
      "36/36 [==============================] - ETA: 0s - loss: 9.2365e-04 - mae: 0.0197\n",
      "Epoch 3: loss improved from 0.00419 to 0.00092, saving model to ./weightCheckpoint/bestParam.hdf5\n",
      "36/36 [==============================] - 0s 11ms/step - loss: 9.2365e-04 - mae: 0.0197\n",
      "Epoch 4/100\n",
      "36/36 [==============================] - ETA: 0s - loss: 7.7837e-04 - mae: 0.0162\n",
      "Epoch 4: loss improved from 0.00092 to 0.00078, saving model to ./weightCheckpoint/bestParam.hdf5\n",
      "36/36 [==============================] - 0s 12ms/step - loss: 7.7837e-04 - mae: 0.0162\n",
      "Epoch 5/100\n",
      "36/36 [==============================] - ETA: 0s - loss: 7.2915e-04 - mae: 0.0156\n",
      "Epoch 5: loss improved from 0.00078 to 0.00073, saving model to ./weightCheckpoint/bestParam.hdf5\n",
      "36/36 [==============================] - 0s 13ms/step - loss: 7.2915e-04 - mae: 0.0156\n",
      "Epoch 6/100\n",
      "33/36 [==========================>...] - ETA: 0s - loss: 6.8150e-04 - mae: 0.0148\n",
      "Epoch 6: loss improved from 0.00073 to 0.00069, saving model to ./weightCheckpoint/bestParam.hdf5\n",
      "36/36 [==============================] - 0s 12ms/step - loss: 6.8859e-04 - mae: 0.0149\n",
      "Epoch 7/100\n",
      "35/36 [============================>.] - ETA: 0s - loss: 6.5904e-04 - mae: 0.0144\n",
      "Epoch 7: loss improved from 0.00069 to 0.00066, saving model to ./weightCheckpoint/bestParam.hdf5\n",
      "36/36 [==============================] - 0s 12ms/step - loss: 6.5604e-04 - mae: 0.0144\n",
      "Epoch 8/100\n",
      "34/36 [===========================>..] - ETA: 0s - loss: 6.2884e-04 - mae: 0.0138\n",
      "Epoch 8: loss improved from 0.00066 to 0.00062, saving model to ./weightCheckpoint/bestParam.hdf5\n",
      "36/36 [==============================] - 0s 13ms/step - loss: 6.2362e-04 - mae: 0.0138\n",
      "Epoch 9/100\n",
      "34/36 [===========================>..] - ETA: 0s - loss: 6.0383e-04 - mae: 0.0133\n",
      "Epoch 9: loss improved from 0.00062 to 0.00060, saving model to ./weightCheckpoint/bestParam.hdf5\n",
      "36/36 [==============================] - 0s 12ms/step - loss: 5.9867e-04 - mae: 0.0133\n",
      "Epoch 10/100\n",
      "33/36 [==========================>...] - ETA: 0s - loss: 5.7774e-04 - mae: 0.0129\n",
      "Epoch 10: loss improved from 0.00060 to 0.00059, saving model to ./weightCheckpoint/bestParam.hdf5\n",
      "36/36 [==============================] - 0s 12ms/step - loss: 5.8610e-04 - mae: 0.0129\n",
      "Epoch 11/100\n",
      "34/36 [===========================>..] - ETA: 0s - loss: 5.6416e-04 - mae: 0.0125\n",
      "Epoch 11: loss improved from 0.00059 to 0.00056, saving model to ./weightCheckpoint/bestParam.hdf5\n",
      "36/36 [==============================] - 0s 12ms/step - loss: 5.6493e-04 - mae: 0.0125\n",
      "Epoch 12/100\n",
      "36/36 [==============================] - ETA: 0s - loss: 5.5311e-04 - mae: 0.0123\n",
      "Epoch 12: loss improved from 0.00056 to 0.00055, saving model to ./weightCheckpoint/bestParam.hdf5\n",
      "36/36 [==============================] - 0s 11ms/step - loss: 5.5311e-04 - mae: 0.0123\n",
      "Epoch 13/100\n",
      "35/36 [============================>.] - ETA: 0s - loss: 5.4851e-04 - mae: 0.0120\n",
      "Epoch 13: loss improved from 0.00055 to 0.00054, saving model to ./weightCheckpoint/bestParam.hdf5\n",
      "36/36 [==============================] - 0s 11ms/step - loss: 5.4379e-04 - mae: 0.0120\n",
      "Epoch 14/100\n",
      "34/36 [===========================>..] - ETA: 0s - loss: 5.4412e-04 - mae: 0.0119\n",
      "Epoch 14: loss improved from 0.00054 to 0.00054, saving model to ./weightCheckpoint/bestParam.hdf5\n",
      "36/36 [==============================] - 0s 13ms/step - loss: 5.3644e-04 - mae: 0.0118\n",
      "Epoch 15/100\n",
      "36/36 [==============================] - ETA: 0s - loss: 5.3384e-04 - mae: 0.0118\n",
      "Epoch 15: loss improved from 0.00054 to 0.00053, saving model to ./weightCheckpoint/bestParam.hdf5\n",
      "36/36 [==============================] - 0s 12ms/step - loss: 5.3384e-04 - mae: 0.0118\n",
      "Epoch 16/100\n",
      "33/36 [==========================>...] - ETA: 0s - loss: 5.2983e-04 - mae: 0.0116\n",
      "Epoch 16: loss improved from 0.00053 to 0.00053, saving model to ./weightCheckpoint/bestParam.hdf5\n",
      "36/36 [==============================] - 0s 12ms/step - loss: 5.3345e-04 - mae: 0.0117\n",
      "Epoch 17/100\n",
      "35/36 [============================>.] - ETA: 0s - loss: 5.2364e-04 - mae: 0.0116\n",
      "Epoch 17: loss improved from 0.00053 to 0.00053, saving model to ./weightCheckpoint/bestParam.hdf5\n",
      "36/36 [==============================] - 0s 12ms/step - loss: 5.2581e-04 - mae: 0.0116\n",
      "Epoch 18/100\n",
      "35/36 [============================>.] - ETA: 0s - loss: 5.2105e-04 - mae: 0.0114\n",
      "Epoch 18: loss improved from 0.00053 to 0.00052, saving model to ./weightCheckpoint/bestParam.hdf5\n",
      "36/36 [==============================] - 0s 12ms/step - loss: 5.2057e-04 - mae: 0.0114\n",
      "Epoch 19/100\n",
      "36/36 [==============================] - ETA: 0s - loss: 5.1720e-04 - mae: 0.0113\n",
      "Epoch 19: loss improved from 0.00052 to 0.00052, saving model to ./weightCheckpoint/bestParam.hdf5\n",
      "36/36 [==============================] - 0s 11ms/step - loss: 5.1720e-04 - mae: 0.0113\n",
      "Epoch 20/100\n",
      "35/36 [============================>.] - ETA: 0s - loss: 5.2243e-04 - mae: 0.0113\n",
      "Epoch 20: loss did not improve from 0.00052\n",
      "36/36 [==============================] - 0s 12ms/step - loss: 5.1758e-04 - mae: 0.0113\n",
      "Epoch 21/100\n",
      "34/36 [===========================>..] - ETA: 0s - loss: 5.1624e-04 - mae: 0.0112\n",
      "Epoch 21: loss improved from 0.00052 to 0.00051, saving model to ./weightCheckpoint/bestParam.hdf5\n",
      "36/36 [==============================] - 0s 12ms/step - loss: 5.1330e-04 - mae: 0.0112\n",
      "Epoch 22/100\n",
      "34/36 [===========================>..] - ETA: 0s - loss: 5.1317e-04 - mae: 0.0110\n",
      "Epoch 22: loss did not improve from 0.00051\n",
      "36/36 [==============================] - 0s 12ms/step - loss: 5.1355e-04 - mae: 0.0111\n",
      "Epoch 23/100\n",
      "33/36 [==========================>...] - ETA: 0s - loss: 5.1731e-04 - mae: 0.0112\n",
      "Epoch 23: loss improved from 0.00051 to 0.00051, saving model to ./weightCheckpoint/bestParam.hdf5\n",
      "36/36 [==============================] - 0s 12ms/step - loss: 5.0709e-04 - mae: 0.0110\n",
      "Epoch 24/100\n",
      "35/36 [============================>.] - ETA: 0s - loss: 5.1646e-04 - mae: 0.0111\n",
      "Epoch 24: loss did not improve from 0.00051\n",
      "36/36 [==============================] - 0s 12ms/step - loss: 5.1086e-04 - mae: 0.0110\n",
      "Epoch 25/100\n",
      "35/36 [============================>.] - ETA: 0s - loss: 4.9514e-04 - mae: 0.0109\n",
      "Epoch 25: loss improved from 0.00051 to 0.00050, saving model to ./weightCheckpoint/bestParam.hdf5\n",
      "36/36 [==============================] - 0s 11ms/step - loss: 5.0487e-04 - mae: 0.0109\n",
      "Epoch 26/100\n",
      "33/36 [==========================>...] - ETA: 0s - loss: 5.0116e-04 - mae: 0.0109\n",
      "Epoch 26: loss did not improve from 0.00050\n",
      "36/36 [==============================] - 0s 12ms/step - loss: 5.0506e-04 - mae: 0.0110\n",
      "Epoch 27/100\n",
      "36/36 [==============================] - ETA: 0s - loss: 4.9996e-04 - mae: 0.0108\n",
      "Epoch 27: loss improved from 0.00050 to 0.00050, saving model to ./weightCheckpoint/bestParam.hdf5\n",
      "36/36 [==============================] - 0s 12ms/step - loss: 4.9996e-04 - mae: 0.0108\n",
      "Epoch 28/100\n",
      "33/36 [==========================>...] - ETA: 0s - loss: 4.9474e-04 - mae: 0.0107\n",
      "Epoch 28: loss improved from 0.00050 to 0.00050, saving model to ./weightCheckpoint/bestParam.hdf5\n",
      "36/36 [==============================] - 0s 13ms/step - loss: 4.9740e-04 - mae: 0.0108\n",
      "Epoch 29/100\n",
      "35/36 [============================>.] - ETA: 0s - loss: 5.0702e-04 - mae: 0.0109\n",
      "Epoch 29: loss did not improve from 0.00050\n",
      "36/36 [==============================] - 0s 11ms/step - loss: 5.0541e-04 - mae: 0.0109\n",
      "Epoch 30/100\n",
      "34/36 [===========================>..] - ETA: 0s - loss: 4.8354e-04 - mae: 0.0107\n",
      "Epoch 30: loss improved from 0.00050 to 0.00050, saving model to ./weightCheckpoint/bestParam.hdf5\n",
      "36/36 [==============================] - 0s 12ms/step - loss: 4.9562e-04 - mae: 0.0108\n",
      "Epoch 31/100\n"
     ]
    },
    {
     "name": "stdout",
     "output_type": "stream",
     "text": [
      "35/36 [============================>.] - ETA: 0s - loss: 5.0411e-04 - mae: 0.0109\n",
      "Epoch 31: loss did not improve from 0.00050\n",
      "36/36 [==============================] - 1s 14ms/step - loss: 5.0153e-04 - mae: 0.0109\n",
      "Epoch 32/100\n",
      "32/36 [=========================>....] - ETA: 0s - loss: 5.0703e-04 - mae: 0.0110\n",
      "Epoch 32: loss did not improve from 0.00050\n",
      "36/36 [==============================] - 0s 13ms/step - loss: 5.0492e-04 - mae: 0.0110\n",
      "Epoch 33/100\n",
      "35/36 [============================>.] - ETA: 0s - loss: 4.8469e-04 - mae: 0.0105\n",
      "Epoch 33: loss improved from 0.00050 to 0.00049, saving model to ./weightCheckpoint/bestParam.hdf5\n",
      "36/36 [==============================] - 0s 13ms/step - loss: 4.9049e-04 - mae: 0.0105\n",
      "Epoch 34/100\n",
      "35/36 [============================>.] - ETA: 0s - loss: 4.8039e-04 - mae: 0.0105\n",
      "Epoch 34: loss improved from 0.00049 to 0.00049, saving model to ./weightCheckpoint/bestParam.hdf5\n",
      "36/36 [==============================] - 0s 11ms/step - loss: 4.8960e-04 - mae: 0.0105\n",
      "Epoch 35/100\n",
      "32/36 [=========================>....] - ETA: 0s - loss: 4.7635e-04 - mae: 0.0106\n",
      "Epoch 35: loss did not improve from 0.00049\n",
      "36/36 [==============================] - 0s 13ms/step - loss: 4.9357e-04 - mae: 0.0106\n",
      "Epoch 36/100\n",
      "35/36 [============================>.] - ETA: 0s - loss: 4.9468e-04 - mae: 0.0106\n",
      "Epoch 36: loss did not improve from 0.00049\n",
      "36/36 [==============================] - 0s 11ms/step - loss: 4.8969e-04 - mae: 0.0106\n",
      "Epoch 37/100\n",
      "35/36 [============================>.] - ETA: 0s - loss: 4.9314e-04 - mae: 0.0106\n",
      "Epoch 37: loss did not improve from 0.00049\n",
      "36/36 [==============================] - 0s 12ms/step - loss: 4.9195e-04 - mae: 0.0106\n",
      "Epoch 38/100\n",
      "32/36 [=========================>....] - ETA: 0s - loss: 4.8659e-04 - mae: 0.0104\n",
      "Epoch 38: loss improved from 0.00049 to 0.00048, saving model to ./weightCheckpoint/bestParam.hdf5\n",
      "36/36 [==============================] - 0s 13ms/step - loss: 4.8481e-04 - mae: 0.0104\n",
      "Epoch 39/100\n",
      "34/36 [===========================>..] - ETA: 0s - loss: 4.9045e-04 - mae: 0.0104\n",
      "Epoch 39: loss did not improve from 0.00048\n",
      "36/36 [==============================] - 0s 12ms/step - loss: 4.8700e-04 - mae: 0.0104\n",
      "Epoch 40/100\n",
      "36/36 [==============================] - ETA: 0s - loss: 4.8177e-04 - mae: 0.0103\n",
      "Epoch 40: loss improved from 0.00048 to 0.00048, saving model to ./weightCheckpoint/bestParam.hdf5\n",
      "36/36 [==============================] - 0s 12ms/step - loss: 4.8177e-04 - mae: 0.0103\n",
      "Epoch 41/100\n",
      "34/36 [===========================>..] - ETA: 0s - loss: 4.4924e-04 - mae: 0.0102\n",
      "Epoch 41: loss improved from 0.00048 to 0.00048, saving model to ./weightCheckpoint/bestParam.hdf5\n",
      "36/36 [==============================] - 0s 12ms/step - loss: 4.8167e-04 - mae: 0.0103\n",
      "Epoch 42/100\n",
      "36/36 [==============================] - ETA: 0s - loss: 4.7857e-04 - mae: 0.0104\n",
      "Epoch 42: loss improved from 0.00048 to 0.00048, saving model to ./weightCheckpoint/bestParam.hdf5\n",
      "36/36 [==============================] - 0s 13ms/step - loss: 4.7857e-04 - mae: 0.0104\n",
      "Epoch 42: early stopping\n"
     ]
    }
   ],
   "source": [
    "earlyStop = EarlyStopping(\n",
    "    monitor = 'loss',\n",
    "    min_delta = 0.0001,\n",
    "    patience = patience,\n",
    "    verbose = 1\n",
    ")\n",
    "saveBest = ModelCheckpoint(\n",
    "    filepath = checkpointPath,\n",
    "    monitor = \"loss\",\n",
    "    verbose = 1,\n",
    "    save_best_only = True,\n",
    "    save_weights_only = True,\n",
    "    mode = \"auto\",\n",
    "    save_freq = \"epoch\"\n",
    ")\n",
    "\n",
    "fitStartTime = time.time()\n",
    "history = model.fit(\n",
    "    trainX,\n",
    "    trainY,\n",
    "    epochs = epochs,\n",
    "    batch_size = batchSize,\n",
    "    callbacks = [earlyStop, saveBest]\n",
    ")\n",
    "fitEndTime = time.time()\n",
    "\n",
    "\n",
    "model.load_weights(checkpointPath)"
   ]
  },
  {
   "cell_type": "markdown",
   "id": "e77355ca",
   "metadata": {},
   "source": [
    "#### 이후 30일 예측"
   ]
  },
  {
   "cell_type": "code",
   "execution_count": 11,
   "id": "3747c7d3",
   "metadata": {
    "scrolled": false
   },
   "outputs": [
    {
     "name": "stdout",
     "output_type": "stream",
     "text": [
      "5/5 [==============================] - 0s 13ms/step\n",
      "1/5 [=====>........................] - ETA: 0s"
     ]
    },
    {
     "name": "stderr",
     "output_type": "stream",
     "text": [
      "2023-01-05 15:21:03.442786: I tensorflow/core/grappler/optimizers/custom_graph_optimizer_registry.cc:113] Plugin optimizer for device_type GPU is enabled.\n",
      "2023-01-05 15:21:03.472971: I tensorflow/core/grappler/optimizers/custom_graph_optimizer_registry.cc:113] Plugin optimizer for device_type GPU is enabled.\n"
     ]
    },
    {
     "name": "stdout",
     "output_type": "stream",
     "text": [
      "5/5 [==============================] - 0s 13ms/step\n",
      "5/5 [==============================] - 0s 15ms/step\n",
      "5/5 [==============================] - 0s 15ms/step\n",
      "5/5 [==============================] - 0s 14ms/step\n",
      "5/5 [==============================] - 0s 14ms/step\n",
      "5/5 [==============================] - 0s 12ms/step\n",
      "5/5 [==============================] - 0s 12ms/step\n",
      "5/5 [==============================] - 0s 12ms/step\n",
      "5/5 [==============================] - 0s 13ms/step\n",
      "5/5 [==============================] - 0s 4ms/step\n",
      "6/6 [==============================] - 0s 13ms/step\n",
      "6/6 [==============================] - 0s 12ms/step\n",
      "6/6 [==============================] - 0s 12ms/step\n",
      "6/6 [==============================] - 0s 11ms/step\n",
      "6/6 [==============================] - 0s 18ms/step\n",
      "6/6 [==============================] - 0s 15ms/step\n",
      "6/6 [==============================] - 0s 14ms/step\n",
      "6/6 [==============================] - 0s 13ms/step\n",
      "6/6 [==============================] - 0s 11ms/step\n",
      "6/6 [==============================] - 0s 11ms/step\n",
      "6/6 [==============================] - 0s 11ms/step\n",
      "6/6 [==============================] - 0s 11ms/step\n",
      "6/6 [==============================] - 0s 11ms/step\n",
      "6/6 [==============================] - 0s 11ms/step\n",
      "6/6 [==============================] - 0s 11ms/step\n",
      "6/6 [==============================] - 0s 11ms/step\n",
      "6/6 [==============================] - 0s 11ms/step\n",
      "6/6 [==============================] - 0s 15ms/step\n",
      "6/6 [==============================] - 0s 14ms/step\n"
     ]
    }
   ],
   "source": [
    "thirtyPredict = testX\n",
    "\n",
    "for _ in range(30):\n",
    "    currentPredict = model.predict(thirtyPredict)\n",
    "    recentPredict = np.reshape(currentPredict[-1], (1, currentPredict[-1].shape[0]))\n",
    "    newPredictStep = thirtyPredict[-1, 1:]\n",
    "    nextPredict = np.append(newPredictStep, recentPredict, axis = 0)\n",
    "    nextPredict = np.reshape(nextPredict, (1, nextPredict.shape[0], nextPredict.shape[1]))\n",
    "    thirtyPredict = np.append(thirtyPredict, nextPredict, axis = 0)"
   ]
  },
  {
   "cell_type": "markdown",
   "id": "ca918f42",
   "metadata": {},
   "source": [
    "#### 결과 기록"
   ]
  },
  {
   "cell_type": "code",
   "execution_count": 12,
   "id": "9260b57f",
   "metadata": {},
   "outputs": [
    {
     "name": "stdout",
     "output_type": "stream",
     "text": [
      "5/5 [==============================] - 0s 16ms/step - loss: 7.2591e-04 - mae: 0.0213\n"
     ]
    },
    {
     "name": "stderr",
     "output_type": "stream",
     "text": [
      "2023-01-05 15:21:06.297189: I tensorflow/core/grappler/optimizers/custom_graph_optimizer_registry.cc:113] Plugin optimizer for device_type GPU is enabled.\n",
      "2023-01-05 15:21:06.331402: I tensorflow/core/grappler/optimizers/custom_graph_optimizer_registry.cc:113] Plugin optimizer for device_type GPU is enabled.\n"
     ]
    },
    {
     "name": "stdout",
     "output_type": "stream",
     "text": [
      "1/1 [==============================] - 0s 56ms/step - loss: 0.0047 - mae: 0.0511\n"
     ]
    }
   ],
   "source": [
    "fitTime = fitEndTime - fitStartTime\n",
    "score = model.evaluate(testX, testY[:-30])\n",
    "predictScore = model.evaluate(thirtyPredict[-30:], testY[-30:])\n",
    "parameters = f\"\"\"\n",
    "layer = {depth}\n",
    "hiddenState = {hiddenState}\n",
    "timeStep = {timeStep}\n",
    "activation = {activation}\n",
    "epochs = {epochs}\n",
    "batchSize = {batchSize}\n",
    "dataSetYear = {dataSize}\n",
    "optimizer = {optimizer}\n",
    "patience = {patience}\n",
    "\"\"\"\n",
    "\n",
    "f = open(\"result.txt\", \"a\")\n",
    "f.write(f\"{resultComment}\\n모델 학습 시간: {fitTime:.3} sec\\n평가 손실: {score[0]}\\n30일 예측 손실: {predictScore[0]}\\n{parameters}\\n--------------------------------------\\n\\n\")\n",
    "f.close()"
   ]
  },
  {
   "cell_type": "code",
   "execution_count": 13,
   "id": "84703a93",
   "metadata": {
    "scrolled": false
   },
   "outputs": [
    {
     "name": "stdout",
     "output_type": "stream",
     "text": [
      "모델 학습 시간: 19.5 sec\n"
     ]
    }
   ],
   "source": [
    "print(f\"모델 학습 시간: {fitTime:.3} sec\")"
   ]
  },
  {
   "cell_type": "code",
   "execution_count": 14,
   "id": "4ef6964d",
   "metadata": {},
   "outputs": [
    {
     "name": "stdout",
     "output_type": "stream",
     "text": [
      "평가 손실: 0.0007259132689796388\n"
     ]
    }
   ],
   "source": [
    "print(f\"평가 손실: {score[0]}\")"
   ]
  },
  {
   "cell_type": "code",
   "execution_count": 15,
   "id": "bc540c26",
   "metadata": {},
   "outputs": [
    {
     "name": "stdout",
     "output_type": "stream",
     "text": [
      "30일 예측 손실: 0.0047469111159443855\n"
     ]
    }
   ],
   "source": [
    "print(f\"30일 예측 손실: {predictScore[0]}\")"
   ]
  },
  {
   "cell_type": "markdown",
   "id": "1a858bad",
   "metadata": {},
   "source": [
    "#### Test Data 예측 및 역정규화"
   ]
  },
  {
   "cell_type": "code",
   "execution_count": 16,
   "id": "21f11463",
   "metadata": {},
   "outputs": [
    {
     "name": "stdout",
     "output_type": "stream",
     "text": [
      "72/72 [==============================] - 0s 5ms/step\n",
      "5/5 [==============================] - 0s 7ms/step\n"
     ]
    }
   ],
   "source": [
    "trainPrediction = scaler.inverse_transform(model.predict(trainX))\n",
    "testPrediction = scaler.inverse_transform(model.predict(testX))\n",
    "\n",
    "inversingTrainY = scaler.inverse_transform(trainY)\n",
    "inversingTestY = scaler.inverse_transform(testY)"
   ]
  },
  {
   "cell_type": "markdown",
   "id": "980a5688",
   "metadata": {},
   "source": [
    "### 그래프"
   ]
  },
  {
   "cell_type": "markdown",
   "id": "9a47448f",
   "metadata": {},
   "source": [
    "#### Loss"
   ]
  },
  {
   "cell_type": "code",
   "execution_count": 17,
   "id": "e0cbdfbf",
   "metadata": {},
   "outputs": [
    {
     "data": {
      "image/png": "[encoded data removed]",
      "text/plain": [
       "<Figure size 640x480 with 1 Axes>"
      ]
     },
     "metadata": {},
     "output_type": "display_data"
    }
   ],
   "source": [
    "loss = history.history[\"loss\"]\n",
    "plt.title(\"Loss\")\n",
    "plt.plot(loss, label=\"loss\")\n",
    "plt.grid(True)\n",
    "plt.savefig(f\"{fileSavePath}/Loss.png\")\n",
    "plt.legend()\n",
    "plt.show()"
   ]
  },
  {
   "cell_type": "markdown",
   "id": "6d850d7d",
   "metadata": {},
   "source": [
    "#### Train Data Graph"
   ]
  },
  {
   "cell_type": "code",
   "execution_count": 18,
   "id": "7ecbefab",
   "metadata": {},
   "outputs": [
    {
     "data": {
      "image/png": "[encoded data removed]",
      "text/plain": [
       "<Figure size 640x480 with 1 Axes>"
      ]
     },
     "metadata": {},
     "output_type": "display_data"
    }
   ],
   "source": [
    "plt.title(trainGraphTitle)\n",
    "plt.plot(inversingTrainY[:, 4], label=\"Train ADJ.Close\")\n",
    "plt.plot(trainPrediction[:, 4], label=\"Predict ADJ.Close\")\n",
    "plt.grid(True)\n",
    "plt.savefig(f\"{fileSavePath}/Train.png\")\n",
    "plt.xlabel('Day')\n",
    "plt.ylabel('Price')\n",
    "plt.legend()\n",
    "plt.show()"
   ]
  },
  {
   "cell_type": "markdown",
   "id": "9f26326e",
   "metadata": {},
   "source": [
    "#### Test Data Graph"
   ]
  },
  {
   "cell_type": "code",
   "execution_count": 19,
   "id": "0a50d286",
   "metadata": {},
   "outputs": [],
   "source": [
    "# plt.title(testGraphTitle)\n",
    "# plt.plot(inversingTestY[:, 4], label=\"Test ADJ.Close\")\n",
    "# plt.plot(testPrediction[:, 4], label=\"Predict ADJ.Close\")\n",
    "# plt.grid(True)\n",
    "# plt.xlabel('Day')\n",
    "# plt.ylabel('Price')\n",
    "# plt.axvline(x=len(testY)-30, color='green', linestyle='-', linewidth=1)\n",
    "# plt.legend()\n",
    "# plt.savefig(f\"{fileSavePath}/Test.png\")\n",
    "# plt.show()"
   ]
  },
  {
   "cell_type": "markdown",
   "id": "f9fdf304",
   "metadata": {},
   "source": [
    "#### Test Data + 30일 예측 그래프"
   ]
  },
  {
   "cell_type": "code",
   "execution_count": 20,
   "id": "fefff00c",
   "metadata": {
    "scrolled": false
   },
   "outputs": [
    {
     "name": "stdout",
     "output_type": "stream",
     "text": [
      "6/6 [==============================] - 0s 13ms/step\n"
     ]
    },
    {
     "data": {
      "image/png": "[encoded data removed]",
      "text/plain": [
       "<Figure size 640x480 with 1 Axes>"
      ]
     },
     "metadata": {},
     "output_type": "display_data"
    }
   ],
   "source": [
    "thirtyDaysAfterpredict = scaler.inverse_transform(model.predict(thirtyPredict))\n",
    "\n",
    "plt.title(\"30 Days After\")\n",
    "plt.plot(inversingTestY[:, 4], label=\"Test ADJ.Close\")\n",
    "plt.plot(thirtyDaysAfterpredict[:, 4], label=\"30 Days predict ADJ.Close\")\n",
    "plt.grid(True)\n",
    "plt.xlabel('Day')\n",
    "plt.ylabel('Price')\n",
    "plt.axvline(x=len(testY)-30, color='green', linestyle='-', linewidth=1)\n",
    "plt.legend()\n",
    "plt.savefig(f\"{fileSavePath}/30Predict.png\")\n",
    "plt.show()"
   ]
  }
 ],
 "metadata": {
  "kernelspec": {
   "display_name": "Python 3 (ipykernel)",
   "language": "python",
   "name": "python3"
  },
  "language_info": {
   "codemirror_mode": {
    "name": "ipython",
    "version": 3
   },
   "file_extension": ".py",
   "mimetype": "text/x-python",
   "name": "python",
   "nbconvert_exporter": "python",
   "pygments_lexer": "ipython3",
   "version": "3.9.15"
  }
 },
 "nbformat": 4,
 "nbformat_minor": 5
}

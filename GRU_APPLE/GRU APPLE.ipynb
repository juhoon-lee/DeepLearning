{
 "cells": [
  {
   "cell_type": "markdown",
   "id": "302e6018",
   "metadata": {},
   "source": [
    "#### 패키지 Import"
   ]
  },
  {
   "cell_type": "code",
   "execution_count": 1,
   "id": "1f08c128",
   "metadata": {},
   "outputs": [],
   "source": [
    "import numpy as np\n",
    "import pandas as pd\n",
    "import matplotlib.pyplot as plt\n",
    "import time\n",
    "from sklearn.preprocessing import MinMaxScaler\n",
    "from keras.models import Sequential\n",
    "from keras.layers import GRU, Dense\n",
    "from keras.callbacks import EarlyStopping, ModelCheckpoint"
   ]
  },
  {
   "cell_type": "markdown",
   "id": "49e7140b",
   "metadata": {},
   "source": [
    "#### 전역변수 설정"
   ]
  },
  {
   "cell_type": "code",
   "execution_count": 2,
   "id": "3a28a7e7",
   "metadata": {},
   "outputs": [],
   "source": [
    "trainGraphTitle = \"Train Data\"\n",
    "testGraphTitle = \"Test Data\"\n",
    "checkpointPath = \"./weightCheckpoint/bestParam.hdf5\"\n",
    "loss = \"mse\" \n",
    "\n",
    "resultComment = \"Optimizer - SGD\"\n",
    "fileSavePath = \"./result/Optimizer/SGD\"\n",
    "\n",
    "depth = \"SingleGRU\" # Default\n",
    "# depth = \"DoubleGRU\" \n",
    "# depth = \"TripleGRU\"\n",
    "\n",
    "# 변수 \"\" 가 Default\n",
    "hiddenState = 32 # units: 16 \"32\" 64\n",
    "timeStep = 20 # input_length 10 \"20\" 40\n",
    "activation = \"tanh\" # \"tanh\" sigmoid\n",
    "epochs = 100 # 50 \"100\" 200\n",
    "batchSize = 64 # 32 \"64\" 256\n",
    "dataSize = 10 # 5 \"10\" 40\n",
    "optimizer = \"sgd\" # \"adam\" sgd\n",
    "patience = 30 # 10 \"30\" \"50\"\n",
    "\n",
    "parameters = f\"\"\"\n",
    "layer = {depth}\n",
    "hiddenState = {hiddenState}\n",
    "timeStep = {timeStep}\n",
    "activation = {activation}\n",
    "epochs = {epochs}\n",
    "batchSize = {batchSize}\n",
    "dataSetYear = {dataSize}\n",
    "optimizer = {optimizer}\n",
    "patience = {patience}\n",
    "\"\"\""
   ]
  },
  {
   "cell_type": "markdown",
   "id": "76e7e235",
   "metadata": {},
   "source": [
    "#### Pandas Setting"
   ]
  },
  {
   "cell_type": "code",
   "execution_count": 3,
   "id": "171b5b82",
   "metadata": {},
   "outputs": [],
   "source": [
    "pd.set_option('display.max_rows', None) # row 생략 없이 출력\n",
    "pd.set_option('display.max_columns', None) # col 생략 없이 출력"
   ]
  },
  {
   "cell_type": "markdown",
   "id": "c77fd75b",
   "metadata": {},
   "source": [
    "#### Data Load"
   ]
  },
  {
   "cell_type": "code",
   "execution_count": 4,
   "id": "33458f40",
   "metadata": {},
   "outputs": [],
   "source": [
    "apple = pd.read_csv(\"Apple_5Y.csv\")\n",
    "\n",
    "if dataSize == 10:\n",
    "    apple = pd.read_csv(\"Apple_10Y.csv\")\n",
    "elif dataSize == 40:\n",
    "    apple = pd.read_csv(\"Apple_Whole_Period.csv\")"
   ]
  },
  {
   "cell_type": "markdown",
   "id": "fb778e6d",
   "metadata": {},
   "source": [
    "#### Describe 확인"
   ]
  },
  {
   "cell_type": "code",
   "execution_count": 5,
   "id": "3da62313",
   "metadata": {
    "scrolled": true
   },
   "outputs": [
    {
     "data": {
      "text/html": [
       "<div>\n",
       "<style scoped>\n",
       "    .dataframe tbody tr th:only-of-type {\n",
       "        vertical-align: middle;\n",
       "    }\n",
       "\n",
       "    .dataframe tbody tr th {\n",
       "        vertical-align: top;\n",
       "    }\n",
       "\n",
       "    .dataframe thead th {\n",
       "        text-align: right;\n",
       "    }\n",
       "</style>\n",
       "<table border=\"1\" class=\"dataframe\">\n",
       "  <thead>\n",
       "    <tr style=\"text-align: right;\">\n",
       "      <th></th>\n",
       "      <th>Open</th>\n",
       "      <th>High</th>\n",
       "      <th>Low</th>\n",
       "      <th>Close</th>\n",
       "      <th>Adj Close</th>\n",
       "      <th>Volume</th>\n",
       "    </tr>\n",
       "  </thead>\n",
       "  <tbody>\n",
       "    <tr>\n",
       "      <th>count</th>\n",
       "      <td>2518.000000</td>\n",
       "      <td>2518.000000</td>\n",
       "      <td>2518.000000</td>\n",
       "      <td>2518.000000</td>\n",
       "      <td>2518.000000</td>\n",
       "      <td>2.518000e+03</td>\n",
       "    </tr>\n",
       "    <tr>\n",
       "      <th>mean</th>\n",
       "      <td>62.383387</td>\n",
       "      <td>63.087693</td>\n",
       "      <td>61.696664</td>\n",
       "      <td>62.416599</td>\n",
       "      <td>60.637030</td>\n",
       "      <td>1.713540e+08</td>\n",
       "    </tr>\n",
       "    <tr>\n",
       "      <th>std</th>\n",
       "      <td>48.683035</td>\n",
       "      <td>49.322128</td>\n",
       "      <td>48.051043</td>\n",
       "      <td>48.709794</td>\n",
       "      <td>49.248659</td>\n",
       "      <td>1.250498e+08</td>\n",
       "    </tr>\n",
       "    <tr>\n",
       "      <th>min</th>\n",
       "      <td>13.856071</td>\n",
       "      <td>14.271429</td>\n",
       "      <td>13.753571</td>\n",
       "      <td>13.947500</td>\n",
       "      <td>12.064585</td>\n",
       "      <td>3.519590e+07</td>\n",
       "    </tr>\n",
       "    <tr>\n",
       "      <th>25%</th>\n",
       "      <td>26.971249</td>\n",
       "      <td>27.219376</td>\n",
       "      <td>26.705000</td>\n",
       "      <td>26.983750</td>\n",
       "      <td>24.676634</td>\n",
       "      <td>9.188698e+07</td>\n",
       "    </tr>\n",
       "    <tr>\n",
       "      <th>50%</th>\n",
       "      <td>41.353750</td>\n",
       "      <td>41.872500</td>\n",
       "      <td>40.888750</td>\n",
       "      <td>41.313750</td>\n",
       "      <td>39.511671</td>\n",
       "      <td>1.301368e+08</td>\n",
       "    </tr>\n",
       "    <tr>\n",
       "      <th>75%</th>\n",
       "      <td>91.272499</td>\n",
       "      <td>92.881876</td>\n",
       "      <td>90.824377</td>\n",
       "      <td>91.526875</td>\n",
       "      <td>90.122925</td>\n",
       "      <td>2.045116e+08</td>\n",
       "    </tr>\n",
       "    <tr>\n",
       "      <th>max</th>\n",
       "      <td>182.630005</td>\n",
       "      <td>182.940002</td>\n",
       "      <td>179.119995</td>\n",
       "      <td>182.009995</td>\n",
       "      <td>180.959732</td>\n",
       "      <td>1.460852e+09</td>\n",
       "    </tr>\n",
       "  </tbody>\n",
       "</table>\n",
       "</div>"
      ],
      "text/plain": [
       "              Open         High          Low        Close    Adj Close  \\\n",
       "count  2518.000000  2518.000000  2518.000000  2518.000000  2518.000000   \n",
       "mean     62.383387    63.087693    61.696664    62.416599    60.637030   \n",
       "std      48.683035    49.322128    48.051043    48.709794    49.248659   \n",
       "min      13.856071    14.271429    13.753571    13.947500    12.064585   \n",
       "25%      26.971249    27.219376    26.705000    26.983750    24.676634   \n",
       "50%      41.353750    41.872500    40.888750    41.313750    39.511671   \n",
       "75%      91.272499    92.881876    90.824377    91.526875    90.122925   \n",
       "max     182.630005   182.940002   179.119995   182.009995   180.959732   \n",
       "\n",
       "             Volume  \n",
       "count  2.518000e+03  \n",
       "mean   1.713540e+08  \n",
       "std    1.250498e+08  \n",
       "min    3.519590e+07  \n",
       "25%    9.188698e+07  \n",
       "50%    1.301368e+08  \n",
       "75%    2.045116e+08  \n",
       "max    1.460852e+09  "
      ]
     },
     "execution_count": 5,
     "metadata": {},
     "output_type": "execute_result"
    }
   ],
   "source": [
    "apple.describe()"
   ]
  },
  {
   "cell_type": "markdown",
   "id": "58bf3bfa",
   "metadata": {},
   "source": [
    "#### trainData, testData 가공하는 함수"
   ]
  },
  {
   "cell_type": "code",
   "execution_count": 6,
   "id": "2a0c99c3",
   "metadata": {},
   "outputs": [],
   "source": [
    "def transformData(data: [[float]]):\n",
    "    # 날짜 제외\n",
    "    data = data.drop(columns=[\"Date\"])\n",
    "\n",
    "    # 데이터 분리 test: 200개와 나머지\n",
    "    trainSet = data[ : -200]\n",
    "    testSet = data[-200 : ]\n",
    "    \n",
    "    # 데이터 0~1로 정규화\n",
    "    sc = MinMaxScaler(feature_range=(0, 1)) \n",
    "    sc.fit(trainSet)\n",
    "    trainSet = sc.transform(trainSet)\n",
    "    testSet = sc.transform(testSet)\n",
    "    \n",
    "    # trainX, trainY, testX, testY 분리\n",
    "    def parsingData(dataSet: [[float]]) -> ([[[float]]], [[float]]):\n",
    "        dataX, dataY = [], []\n",
    "        for index in range(len(dataSet) - timeStep):\n",
    "            temp = []\n",
    "            for step in range(timeStep):\n",
    "                temp.append(dataSet[index + step])\n",
    "            dataX.append(temp)\n",
    "            dataY.append(dataSet[index + timeStep])\n",
    "\n",
    "        return np.array(dataX), np.array(dataY)\n",
    "\n",
    "    trainDataX, trainDataY = parsingData(trainSet)\n",
    "    testDataX, testDataY = parsingData(testSet)\n",
    "    \n",
    "    \n",
    "    return trainDataX, trainDataY, testDataX[:-30], testDataY, sc"
   ]
  },
  {
   "cell_type": "markdown",
   "id": "8075389b",
   "metadata": {},
   "source": [
    "#### Data Parsing"
   ]
  },
  {
   "cell_type": "code",
   "execution_count": 7,
   "id": "a8d6ba5d",
   "metadata": {
    "scrolled": true
   },
   "outputs": [],
   "source": [
    "trainX, trainY, testX, testY, scaler = transformData(apple)"
   ]
  },
  {
   "cell_type": "markdown",
   "id": "22d1cb98",
   "metadata": {},
   "source": [
    "#### Model Implementation"
   ]
  },
  {
   "cell_type": "code",
   "execution_count": 8,
   "id": "587777f1",
   "metadata": {},
   "outputs": [
    {
     "name": "stdout",
     "output_type": "stream",
     "text": [
      "Metal device set to: Apple M1\n",
      "Model: \"sequential\"\n",
      "_________________________________________________________________\n",
      " Layer (type)                Output Shape              Param #   \n",
      "=================================================================\n",
      " gru (GRU)                   (None, 32)                3840      \n",
      "                                                                 \n",
      " dense (Dense)               (None, 6)                 198       \n",
      "                                                                 \n",
      "=================================================================\n",
      "Total params: 4,038\n",
      "Trainable params: 4,038\n",
      "Non-trainable params: 0\n",
      "_________________________________________________________________\n"
     ]
    },
    {
     "name": "stderr",
     "output_type": "stream",
     "text": [
      "2023-01-05 11:55:57.088760: I tensorflow/core/common_runtime/pluggable_device/pluggable_device_factory.cc:305] Could not identify NUMA node of platform GPU ID 0, defaulting to 0. Your kernel may not have been built with NUMA support.\n",
      "2023-01-05 11:55:57.088861: I tensorflow/core/common_runtime/pluggable_device/pluggable_device_factory.cc:271] Created TensorFlow device (/job:localhost/replica:0/task:0/device:GPU:0 with 0 MB memory) -> physical PluggableDevice (device: 0, name: METAL, pci bus id: <undefined>)\n"
     ]
    }
   ],
   "source": [
    "model = Sequential()\n",
    "\n",
    "if depth == \"TripleGRU\":\n",
    "    model.add(\n",
    "        GRU(\n",
    "            units = hiddenState,\n",
    "            input_length = trainX.shape[1],\n",
    "            input_dim = trainX.shape[2],\n",
    "            activation = activation,\n",
    "            return_sequences = True\n",
    "        )\n",
    "    )\n",
    "    model.add(\n",
    "        GRU(\n",
    "            units = hiddenState,\n",
    "            activation = activation,\n",
    "            return_sequences = True\n",
    "        )\n",
    "    )\n",
    "    model.add(\n",
    "        GRU(\n",
    "            units = hiddenState,\n",
    "            activation = activation\n",
    "        )\n",
    "    )\n",
    "    \n",
    "    model.add(Dense(6))\n",
    "    \n",
    "elif depth == \"DoubleGRU\":\n",
    "    model.add(\n",
    "        GRU(\n",
    "            units = hiddenState,\n",
    "            input_length = trainX.shape[1],\n",
    "            input_dim = trainX.shape[2],\n",
    "            activation = activation,\n",
    "            return_sequences = True\n",
    "        )\n",
    "    )\n",
    "    model.add(\n",
    "        GRU(\n",
    "            units = hiddenState,\n",
    "            activation = activation\n",
    "        )\n",
    "    )\n",
    "    \n",
    "    model.add(Dense(6))\n",
    "elif depth == \"SingleGRU\":\n",
    "    model.add(\n",
    "    GRU(\n",
    "        units = hiddenState,\n",
    "        input_length = trainX.shape[1],\n",
    "        input_dim = trainX.shape[2],\n",
    "        activation = activation\n",
    "        )\n",
    "    )\n",
    "    model.add(Dense(6))\n",
    "\n",
    "model.summary()"
   ]
  },
  {
   "cell_type": "markdown",
   "id": "9e77d196",
   "metadata": {},
   "source": [
    "#### Model Complie"
   ]
  },
  {
   "cell_type": "code",
   "execution_count": 9,
   "id": "ee7eafae",
   "metadata": {},
   "outputs": [],
   "source": [
    "model.compile(\n",
    "    loss = loss,\n",
    "    optimizer = optimizer,\n",
    "    metrics = [\"mae\"]\n",
    ")"
   ]
  },
  {
   "cell_type": "markdown",
   "id": "4de53be4",
   "metadata": {},
   "source": [
    "#### Model Training"
   ]
  },
  {
   "cell_type": "code",
   "execution_count": 10,
   "id": "08fb9d38",
   "metadata": {
    "scrolled": false
   },
   "outputs": [
    {
     "name": "stdout",
     "output_type": "stream",
     "text": [
      "Epoch 1/100\n"
     ]
    },
    {
     "name": "stderr",
     "output_type": "stream",
     "text": [
      "2023-01-05 11:55:57.297839: W tensorflow/core/platform/profile_utils/cpu_utils.cc:128] Failed to get CPU frequency: 0 Hz\n",
      "2023-01-05 11:55:57.896388: I tensorflow/core/grappler/optimizers/custom_graph_optimizer_registry.cc:113] Plugin optimizer for device_type GPU is enabled.\n",
      "2023-01-05 11:55:57.985685: I tensorflow/core/grappler/optimizers/custom_graph_optimizer_registry.cc:113] Plugin optimizer for device_type GPU is enabled.\n"
     ]
    },
    {
     "name": "stdout",
     "output_type": "stream",
     "text": [
      "11/36 [========>.....................] - ETA: 0s - loss: 0.1138 - mae: 0.2283"
     ]
    },
    {
     "name": "stderr",
     "output_type": "stream",
     "text": [
      "2023-01-05 11:55:58.104666: I tensorflow/core/grappler/optimizers/custom_graph_optimizer_registry.cc:113] Plugin optimizer for device_type GPU is enabled.\n"
     ]
    },
    {
     "name": "stdout",
     "output_type": "stream",
     "text": [
      "36/36 [==============================] - ETA: 0s - loss: 0.0847 - mae: 0.1877\n",
      "Epoch 1: loss improved from inf to 0.08466, saving model to ./weightCheckpoint/bestParam.hdf5\n",
      "36/36 [==============================] - 1s 13ms/step - loss: 0.0847 - mae: 0.1877\n",
      "Epoch 2/100\n",
      "34/36 [===========================>..] - ETA: 0s - loss: 0.0474 - mae: 0.1382\n",
      "Epoch 2: loss improved from 0.08466 to 0.04761, saving model to ./weightCheckpoint/bestParam.hdf5\n",
      "36/36 [==============================] - 0s 10ms/step - loss: 0.0476 - mae: 0.1390\n",
      "Epoch 3/100\n",
      "33/36 [==========================>...] - ETA: 0s - loss: 0.0328 - mae: 0.1219\n",
      "Epoch 3: loss improved from 0.04761 to 0.03239, saving model to ./weightCheckpoint/bestParam.hdf5\n",
      "36/36 [==============================] - 0s 10ms/step - loss: 0.0324 - mae: 0.1217\n",
      "Epoch 4/100\n",
      "36/36 [==============================] - ETA: 0s - loss: 0.0248 - mae: 0.1137\n",
      "Epoch 4: loss improved from 0.03239 to 0.02484, saving model to ./weightCheckpoint/bestParam.hdf5\n",
      "36/36 [==============================] - 0s 10ms/step - loss: 0.0248 - mae: 0.1137\n",
      "Epoch 5/100\n",
      "34/36 [===========================>..] - ETA: 0s - loss: 0.0202 - mae: 0.1067\n",
      "Epoch 5: loss improved from 0.02484 to 0.02014, saving model to ./weightCheckpoint/bestParam.hdf5\n",
      "36/36 [==============================] - 0s 11ms/step - loss: 0.0201 - mae: 0.1067\n",
      "Epoch 6/100\n",
      "35/36 [============================>.] - ETA: 0s - loss: 0.0168 - mae: 0.1005\n",
      "Epoch 6: loss improved from 0.02014 to 0.01672, saving model to ./weightCheckpoint/bestParam.hdf5\n",
      "36/36 [==============================] - 0s 10ms/step - loss: 0.0167 - mae: 0.1003\n",
      "Epoch 7/100\n",
      "36/36 [==============================] - ETA: 0s - loss: 0.0140 - mae: 0.0934\n",
      "Epoch 7: loss improved from 0.01672 to 0.01403, saving model to ./weightCheckpoint/bestParam.hdf5\n",
      "36/36 [==============================] - 0s 11ms/step - loss: 0.0140 - mae: 0.0934\n",
      "Epoch 8/100\n",
      "36/36 [==============================] - ETA: 0s - loss: 0.0118 - mae: 0.0868\n",
      "Epoch 8: loss improved from 0.01403 to 0.01181, saving model to ./weightCheckpoint/bestParam.hdf5\n",
      "36/36 [==============================] - 0s 11ms/step - loss: 0.0118 - mae: 0.0868\n",
      "Epoch 9/100\n",
      "32/36 [=========================>....] - ETA: 0s - loss: 0.0099 - mae: 0.0797\n",
      "Epoch 9: loss improved from 0.01181 to 0.00997, saving model to ./weightCheckpoint/bestParam.hdf5\n",
      "36/36 [==============================] - 0s 10ms/step - loss: 0.0100 - mae: 0.0800\n",
      "Epoch 10/100\n",
      "36/36 [==============================] - ETA: 0s - loss: 0.0084 - mae: 0.0739\n",
      "Epoch 10: loss improved from 0.00997 to 0.00842, saving model to ./weightCheckpoint/bestParam.hdf5\n",
      "36/36 [==============================] - 0s 11ms/step - loss: 0.0084 - mae: 0.0739\n",
      "Epoch 11/100\n",
      "32/36 [=========================>....] - ETA: 0s - loss: 0.0072 - mae: 0.0683\n",
      "Epoch 11: loss improved from 0.00842 to 0.00713, saving model to ./weightCheckpoint/bestParam.hdf5\n",
      "36/36 [==============================] - 0s 10ms/step - loss: 0.0071 - mae: 0.0679\n",
      "Epoch 12/100\n",
      "36/36 [==============================] - ETA: 0s - loss: 0.0061 - mae: 0.0623\n",
      "Epoch 12: loss improved from 0.00713 to 0.00605, saving model to ./weightCheckpoint/bestParam.hdf5\n",
      "36/36 [==============================] - 0s 10ms/step - loss: 0.0061 - mae: 0.0623\n",
      "Epoch 13/100\n",
      "36/36 [==============================] - ETA: 0s - loss: 0.0052 - mae: 0.0571\n",
      "Epoch 13: loss improved from 0.00605 to 0.00515, saving model to ./weightCheckpoint/bestParam.hdf5\n",
      "36/36 [==============================] - 0s 11ms/step - loss: 0.0052 - mae: 0.0571\n",
      "Epoch 14/100\n",
      "32/36 [=========================>....] - ETA: 0s - loss: 0.0044 - mae: 0.0525\n",
      "Epoch 14: loss improved from 0.00515 to 0.00441, saving model to ./weightCheckpoint/bestParam.hdf5\n",
      "36/36 [==============================] - 0s 13ms/step - loss: 0.0044 - mae: 0.0525\n",
      "Epoch 15/100\n",
      "32/36 [=========================>....] - ETA: 0s - loss: 0.0038 - mae: 0.0482\n",
      "Epoch 15: loss improved from 0.00441 to 0.00380, saving model to ./weightCheckpoint/bestParam.hdf5\n",
      "36/36 [==============================] - 0s 10ms/step - loss: 0.0038 - mae: 0.0481\n",
      "Epoch 16/100\n",
      "35/36 [============================>.] - ETA: 0s - loss: 0.0033 - mae: 0.0443\n",
      "Epoch 16: loss improved from 0.00380 to 0.00329, saving model to ./weightCheckpoint/bestParam.hdf5\n",
      "36/36 [==============================] - 0s 12ms/step - loss: 0.0033 - mae: 0.0441\n",
      "Epoch 17/100\n",
      "36/36 [==============================] - ETA: 0s - loss: 0.0029 - mae: 0.0405\n",
      "Epoch 17: loss improved from 0.00329 to 0.00288, saving model to ./weightCheckpoint/bestParam.hdf5\n",
      "36/36 [==============================] - 0s 13ms/step - loss: 0.0029 - mae: 0.0405\n",
      "Epoch 18/100\n",
      "36/36 [==============================] - ETA: 0s - loss: 0.0025 - mae: 0.0373\n",
      "Epoch 18: loss improved from 0.00288 to 0.00255, saving model to ./weightCheckpoint/bestParam.hdf5\n",
      "36/36 [==============================] - 0s 11ms/step - loss: 0.0025 - mae: 0.0373\n",
      "Epoch 19/100\n",
      "36/36 [==============================] - ETA: 0s - loss: 0.0023 - mae: 0.0344\n",
      "Epoch 19: loss improved from 0.00255 to 0.00227, saving model to ./weightCheckpoint/bestParam.hdf5\n",
      "36/36 [==============================] - 0s 11ms/step - loss: 0.0023 - mae: 0.0344\n",
      "Epoch 20/100\n",
      "32/36 [=========================>....] - ETA: 0s - loss: 0.0021 - mae: 0.0320\n",
      "Epoch 20: loss improved from 0.00227 to 0.00205, saving model to ./weightCheckpoint/bestParam.hdf5\n",
      "36/36 [==============================] - 0s 11ms/step - loss: 0.0021 - mae: 0.0319\n",
      "Epoch 21/100\n",
      "36/36 [==============================] - ETA: 0s - loss: 0.0019 - mae: 0.0297\n",
      "Epoch 21: loss improved from 0.00205 to 0.00187, saving model to ./weightCheckpoint/bestParam.hdf5\n",
      "36/36 [==============================] - 0s 11ms/step - loss: 0.0019 - mae: 0.0297\n",
      "Epoch 22/100\n",
      "32/36 [=========================>....] - ETA: 0s - loss: 0.0017 - mae: 0.0277\n",
      "Epoch 22: loss improved from 0.00187 to 0.00173, saving model to ./weightCheckpoint/bestParam.hdf5\n",
      "36/36 [==============================] - 0s 11ms/step - loss: 0.0017 - mae: 0.0277\n",
      "Epoch 23/100\n",
      "35/36 [============================>.] - ETA: 0s - loss: 0.0016 - mae: 0.0261\n",
      "Epoch 23: loss improved from 0.00173 to 0.00161, saving model to ./weightCheckpoint/bestParam.hdf5\n",
      "36/36 [==============================] - 0s 12ms/step - loss: 0.0016 - mae: 0.0261\n",
      "Epoch 24/100\n",
      "36/36 [==============================] - ETA: 0s - loss: 0.0015 - mae: 0.0247\n",
      "Epoch 24: loss improved from 0.00161 to 0.00151, saving model to ./weightCheckpoint/bestParam.hdf5\n",
      "36/36 [==============================] - 0s 11ms/step - loss: 0.0015 - mae: 0.0247\n",
      "Epoch 25/100\n",
      "35/36 [============================>.] - ETA: 0s - loss: 0.0014 - mae: 0.0235\n",
      "Epoch 25: loss improved from 0.00151 to 0.00144, saving model to ./weightCheckpoint/bestParam.hdf5\n",
      "36/36 [==============================] - 0s 10ms/step - loss: 0.0014 - mae: 0.0235\n",
      "Epoch 26/100\n",
      "33/36 [==========================>...] - ETA: 0s - loss: 0.0014 - mae: 0.0229\n",
      "Epoch 26: loss improved from 0.00144 to 0.00137, saving model to ./weightCheckpoint/bestParam.hdf5\n",
      "36/36 [==============================] - 0s 10ms/step - loss: 0.0014 - mae: 0.0226\n",
      "Epoch 27/100\n",
      "32/36 [=========================>....] - ETA: 0s - loss: 0.0013 - mae: 0.0219\n",
      "Epoch 27: loss improved from 0.00137 to 0.00132, saving model to ./weightCheckpoint/bestParam.hdf5\n",
      "36/36 [==============================] - 0s 11ms/step - loss: 0.0013 - mae: 0.0219\n",
      "Epoch 28/100\n",
      "34/36 [===========================>..] - ETA: 0s - loss: 0.0013 - mae: 0.0213\n",
      "Epoch 28: loss improved from 0.00132 to 0.00128, saving model to ./weightCheckpoint/bestParam.hdf5\n",
      "36/36 [==============================] - 0s 10ms/step - loss: 0.0013 - mae: 0.0212\n",
      "Epoch 29/100\n",
      "32/36 [=========================>....] - ETA: 0s - loss: 0.0012 - mae: 0.0206\n",
      "Epoch 29: loss improved from 0.00128 to 0.00125, saving model to ./weightCheckpoint/bestParam.hdf5\n",
      "36/36 [==============================] - 0s 10ms/step - loss: 0.0012 - mae: 0.0207\n",
      "Epoch 30/100\n",
      "36/36 [==============================] - ETA: 0s - loss: 0.0012 - mae: 0.0203\n",
      "Epoch 30: loss improved from 0.00125 to 0.00122, saving model to ./weightCheckpoint/bestParam.hdf5\n",
      "36/36 [==============================] - 0s 11ms/step - loss: 0.0012 - mae: 0.0203\n",
      "Epoch 31/100\n"
     ]
    },
    {
     "name": "stdout",
     "output_type": "stream",
     "text": [
      "32/36 [=========================>....] - ETA: 0s - loss: 0.0012 - mae: 0.0199\n",
      "Epoch 31: loss improved from 0.00122 to 0.00120, saving model to ./weightCheckpoint/bestParam.hdf5\n",
      "36/36 [==============================] - 0s 11ms/step - loss: 0.0012 - mae: 0.0199\n",
      "Epoch 32/100\n",
      "36/36 [==============================] - ETA: 0s - loss: 0.0012 - mae: 0.0196\n",
      "Epoch 32: loss improved from 0.00120 to 0.00118, saving model to ./weightCheckpoint/bestParam.hdf5\n",
      "36/36 [==============================] - 0s 10ms/step - loss: 0.0012 - mae: 0.0196\n",
      "Epoch 33/100\n",
      "34/36 [===========================>..] - ETA: 0s - loss: 0.0012 - mae: 0.0194\n",
      "Epoch 33: loss improved from 0.00118 to 0.00116, saving model to ./weightCheckpoint/bestParam.hdf5\n",
      "36/36 [==============================] - 0s 10ms/step - loss: 0.0012 - mae: 0.0194\n",
      "Epoch 34/100\n",
      "33/36 [==========================>...] - ETA: 0s - loss: 0.0011 - mae: 0.0191\n",
      "Epoch 34: loss improved from 0.00116 to 0.00115, saving model to ./weightCheckpoint/bestParam.hdf5\n",
      "36/36 [==============================] - 0s 10ms/step - loss: 0.0012 - mae: 0.0192\n",
      "Epoch 35/100\n",
      "34/36 [===========================>..] - ETA: 0s - loss: 0.0011 - mae: 0.0190\n",
      "Epoch 35: loss improved from 0.00115 to 0.00114, saving model to ./weightCheckpoint/bestParam.hdf5\n",
      "36/36 [==============================] - 0s 10ms/step - loss: 0.0011 - mae: 0.0190\n",
      "Epoch 36/100\n",
      "34/36 [===========================>..] - ETA: 0s - loss: 0.0011 - mae: 0.0188\n",
      "Epoch 36: loss improved from 0.00114 to 0.00113, saving model to ./weightCheckpoint/bestParam.hdf5\n",
      "36/36 [==============================] - 0s 10ms/step - loss: 0.0011 - mae: 0.0188\n",
      "Epoch 37/100\n",
      "36/36 [==============================] - ETA: 0s - loss: 0.0011 - mae: 0.0187\n",
      "Epoch 37: loss improved from 0.00113 to 0.00112, saving model to ./weightCheckpoint/bestParam.hdf5\n",
      "36/36 [==============================] - 0s 11ms/step - loss: 0.0011 - mae: 0.0187\n",
      "Epoch 38/100\n",
      "36/36 [==============================] - ETA: 0s - loss: 0.0011 - mae: 0.0186\n",
      "Epoch 38: loss improved from 0.00112 to 0.00112, saving model to ./weightCheckpoint/bestParam.hdf5\n",
      "36/36 [==============================] - 0s 11ms/step - loss: 0.0011 - mae: 0.0186\n",
      "Epoch 39/100\n",
      "35/36 [============================>.] - ETA: 0s - loss: 0.0011 - mae: 0.0183\n",
      "Epoch 39: loss improved from 0.00112 to 0.00111, saving model to ./weightCheckpoint/bestParam.hdf5\n",
      "36/36 [==============================] - 0s 10ms/step - loss: 0.0011 - mae: 0.0184\n",
      "Epoch 40/100\n",
      "32/36 [=========================>....] - ETA: 0s - loss: 0.0011 - mae: 0.0183\n",
      "Epoch 40: loss improved from 0.00111 to 0.00110, saving model to ./weightCheckpoint/bestParam.hdf5\n",
      "36/36 [==============================] - 0s 10ms/step - loss: 0.0011 - mae: 0.0183\n",
      "Epoch 41/100\n",
      "31/36 [========================>.....] - ETA: 0s - loss: 0.0010 - mae: 0.0181\n",
      "Epoch 41: loss improved from 0.00110 to 0.00110, saving model to ./weightCheckpoint/bestParam.hdf5\n",
      "36/36 [==============================] - 0s 10ms/step - loss: 0.0011 - mae: 0.0183\n",
      "Epoch 42/100\n",
      "33/36 [==========================>...] - ETA: 0s - loss: 0.0011 - mae: 0.0181\n",
      "Epoch 42: loss improved from 0.00110 to 0.00109, saving model to ./weightCheckpoint/bestParam.hdf5\n",
      "36/36 [==============================] - 0s 10ms/step - loss: 0.0011 - mae: 0.0182\n",
      "Epoch 43/100\n",
      "33/36 [==========================>...] - ETA: 0s - loss: 0.0011 - mae: 0.0182\n",
      "Epoch 43: loss improved from 0.00109 to 0.00109, saving model to ./weightCheckpoint/bestParam.hdf5\n",
      "36/36 [==============================] - 0s 10ms/step - loss: 0.0011 - mae: 0.0181\n",
      "Epoch 44/100\n",
      "34/36 [===========================>..] - ETA: 0s - loss: 0.0011 - mae: 0.0180 \n",
      "Epoch 44: loss improved from 0.00109 to 0.00109, saving model to ./weightCheckpoint/bestParam.hdf5\n",
      "36/36 [==============================] - 0s 10ms/step - loss: 0.0011 - mae: 0.0181\n",
      "Epoch 45/100\n",
      "36/36 [==============================] - ETA: 0s - loss: 0.0011 - mae: 0.0180  \n",
      "Epoch 45: loss improved from 0.00109 to 0.00108, saving model to ./weightCheckpoint/bestParam.hdf5\n",
      "36/36 [==============================] - 0s 10ms/step - loss: 0.0011 - mae: 0.0180\n",
      "Epoch 46/100\n",
      "34/36 [===========================>..] - ETA: 0s - loss: 0.0011 - mae: 0.0180\n",
      "Epoch 46: loss improved from 0.00108 to 0.00108, saving model to ./weightCheckpoint/bestParam.hdf5\n",
      "36/36 [==============================] - 0s 10ms/step - loss: 0.0011 - mae: 0.0180\n",
      "Epoch 47/100\n",
      "33/36 [==========================>...] - ETA: 0s - loss: 0.0011 - mae: 0.0179\n",
      "Epoch 47: loss improved from 0.00108 to 0.00108, saving model to ./weightCheckpoint/bestParam.hdf5\n",
      "36/36 [==============================] - 0s 10ms/step - loss: 0.0011 - mae: 0.0180\n",
      "Epoch 48/100\n",
      "33/36 [==========================>...] - ETA: 0s - loss: 0.0011 - mae: 0.0179\n",
      "Epoch 48: loss improved from 0.00108 to 0.00107, saving model to ./weightCheckpoint/bestParam.hdf5\n",
      "36/36 [==============================] - 0s 10ms/step - loss: 0.0011 - mae: 0.0179\n",
      "Epoch 49/100\n",
      "36/36 [==============================] - ETA: 0s - loss: 0.0011 - mae: 0.0179\n",
      "Epoch 49: loss improved from 0.00107 to 0.00107, saving model to ./weightCheckpoint/bestParam.hdf5\n",
      "36/36 [==============================] - 0s 11ms/step - loss: 0.0011 - mae: 0.0179\n",
      "Epoch 50/100\n",
      "34/36 [===========================>..] - ETA: 0s - loss: 0.0011 - mae: 0.0179\n",
      "Epoch 50: loss improved from 0.00107 to 0.00107, saving model to ./weightCheckpoint/bestParam.hdf5\n",
      "36/36 [==============================] - 0s 10ms/step - loss: 0.0011 - mae: 0.0178\n",
      "Epoch 51/100\n",
      "35/36 [============================>.] - ETA: 0s - loss: 0.0010 - mae: 0.0177\n",
      "Epoch 51: loss improved from 0.00107 to 0.00107, saving model to ./weightCheckpoint/bestParam.hdf5\n",
      "36/36 [==============================] - 0s 10ms/step - loss: 0.0011 - mae: 0.0178\n",
      "Epoch 52/100\n",
      "36/36 [==============================] - ETA: 0s - loss: 0.0011 - mae: 0.0178\n",
      "Epoch 52: loss improved from 0.00107 to 0.00106, saving model to ./weightCheckpoint/bestParam.hdf5\n",
      "36/36 [==============================] - 0s 10ms/step - loss: 0.0011 - mae: 0.0178\n",
      "Epoch 53/100\n",
      "33/36 [==========================>...] - ETA: 0s - loss: 0.0011 - mae: 0.0179\n",
      "Epoch 53: loss improved from 0.00106 to 0.00106, saving model to ./weightCheckpoint/bestParam.hdf5\n",
      "36/36 [==============================] - 0s 10ms/step - loss: 0.0011 - mae: 0.0178\n",
      "Epoch 54/100\n",
      "32/36 [=========================>....] - ETA: 0s - loss: 0.0011 - mae: 0.0177\n",
      "Epoch 54: loss improved from 0.00106 to 0.00106, saving model to ./weightCheckpoint/bestParam.hdf5\n",
      "36/36 [==============================] - 0s 10ms/step - loss: 0.0011 - mae: 0.0177\n",
      "Epoch 55/100\n",
      "36/36 [==============================] - ETA: 0s - loss: 0.0011 - mae: 0.0177 \n",
      "Epoch 55: loss improved from 0.00106 to 0.00106, saving model to ./weightCheckpoint/bestParam.hdf5\n",
      "36/36 [==============================] - 0s 11ms/step - loss: 0.0011 - mae: 0.0177\n",
      "Epoch 56/100\n",
      "32/36 [=========================>....] - ETA: 0s - loss: 0.0011 - mae: 0.0177\n",
      "Epoch 56: loss improved from 0.00106 to 0.00105, saving model to ./weightCheckpoint/bestParam.hdf5\n",
      "36/36 [==============================] - 0s 10ms/step - loss: 0.0011 - mae: 0.0177\n",
      "Epoch 57/100\n",
      "34/36 [===========================>..] - ETA: 0s - loss: 0.0011 - mae: 0.0176 \n",
      "Epoch 57: loss improved from 0.00105 to 0.00105, saving model to ./weightCheckpoint/bestParam.hdf5\n",
      "36/36 [==============================] - 0s 10ms/step - loss: 0.0011 - mae: 0.0176\n",
      "Epoch 58/100\n",
      "36/36 [==============================] - ETA: 0s - loss: 0.0011 - mae: 0.0176\n",
      "Epoch 58: loss improved from 0.00105 to 0.00105, saving model to ./weightCheckpoint/bestParam.hdf5\n",
      "36/36 [==============================] - 0s 11ms/step - loss: 0.0011 - mae: 0.0176\n",
      "Epoch 59/100\n",
      "32/36 [=========================>....] - ETA: 0s - loss: 0.0010 - mae: 0.0175\n",
      "Epoch 59: loss improved from 0.00105 to 0.00105, saving model to ./weightCheckpoint/bestParam.hdf5\n",
      "36/36 [==============================] - 0s 10ms/step - loss: 0.0010 - mae: 0.0176\n",
      "Epoch 60/100\n",
      "33/36 [==========================>...] - ETA: 0s - loss: 9.8459e-04 - mae: 0.0174\n",
      "Epoch 60: loss improved from 0.00105 to 0.00105, saving model to ./weightCheckpoint/bestParam.hdf5\n",
      "36/36 [==============================] - 0s 10ms/step - loss: 0.0010 - mae: 0.0176\n",
      "Epoch 61/100\n"
     ]
    },
    {
     "name": "stdout",
     "output_type": "stream",
     "text": [
      "35/36 [============================>.] - ETA: 0s - loss: 0.0010 - mae: 0.0176\n",
      "Epoch 61: loss improved from 0.00105 to 0.00104, saving model to ./weightCheckpoint/bestParam.hdf5\n",
      "36/36 [==============================] - 0s 10ms/step - loss: 0.0010 - mae: 0.0175\n",
      "Epoch 62/100\n",
      "33/36 [==========================>...] - ETA: 0s - loss: 0.0010 - mae: 0.0175 \n",
      "Epoch 62: loss improved from 0.00104 to 0.00104, saving model to ./weightCheckpoint/bestParam.hdf5\n",
      "36/36 [==============================] - 0s 10ms/step - loss: 0.0010 - mae: 0.0175\n",
      "Epoch 63/100\n",
      "35/36 [============================>.] - ETA: 0s - loss: 0.0010 - mae: 0.0175    \n",
      "Epoch 63: loss improved from 0.00104 to 0.00104, saving model to ./weightCheckpoint/bestParam.hdf5\n",
      "36/36 [==============================] - 0s 10ms/step - loss: 0.0010 - mae: 0.0175\n",
      "Epoch 64/100\n",
      "34/36 [===========================>..] - ETA: 0s - loss: 0.0010 - mae: 0.0175\n",
      "Epoch 64: loss improved from 0.00104 to 0.00104, saving model to ./weightCheckpoint/bestParam.hdf5\n",
      "36/36 [==============================] - 0s 10ms/step - loss: 0.0010 - mae: 0.0175\n",
      "Epoch 65/100\n",
      "36/36 [==============================] - ETA: 0s - loss: 0.0010 - mae: 0.0175\n",
      "Epoch 65: loss improved from 0.00104 to 0.00104, saving model to ./weightCheckpoint/bestParam.hdf5\n",
      "36/36 [==============================] - 0s 10ms/step - loss: 0.0010 - mae: 0.0175\n",
      "Epoch 66/100\n",
      "33/36 [==========================>...] - ETA: 0s - loss: 0.0010 - mae: 0.0174 \n",
      "Epoch 66: loss improved from 0.00104 to 0.00104, saving model to ./weightCheckpoint/bestParam.hdf5\n",
      "36/36 [==============================] - 0s 10ms/step - loss: 0.0010 - mae: 0.0174\n",
      "Epoch 67/100\n",
      "34/36 [===========================>..] - ETA: 0s - loss: 0.0010 - mae: 0.0174\n",
      "Epoch 67: loss improved from 0.00104 to 0.00103, saving model to ./weightCheckpoint/bestParam.hdf5\n",
      "36/36 [==============================] - 0s 10ms/step - loss: 0.0010 - mae: 0.0174\n",
      "Epoch 68/100\n",
      "31/36 [========================>.....] - ETA: 0s - loss: 0.0011 - mae: 0.0174 \n",
      "Epoch 68: loss improved from 0.00103 to 0.00103, saving model to ./weightCheckpoint/bestParam.hdf5\n",
      "36/36 [==============================] - 0s 11ms/step - loss: 0.0010 - mae: 0.0174\n",
      "Epoch 68: early stopping\n"
     ]
    }
   ],
   "source": [
    "earlyStop = EarlyStopping(\n",
    "    monitor = 'loss',\n",
    "    min_delta = 0.0001,\n",
    "    patience = patience,\n",
    "    verbose = 1\n",
    ")\n",
    "saveBest = ModelCheckpoint(\n",
    "    filepath = checkpointPath,\n",
    "    monitor = \"loss\",\n",
    "    verbose = 1,\n",
    "    save_best_only = True,\n",
    "    save_weights_only = True,\n",
    "    mode = \"auto\",\n",
    "    save_freq = \"epoch\"\n",
    ")\n",
    "\n",
    "fitStartTime = time.time()\n",
    "history = model.fit(\n",
    "    trainX,\n",
    "    trainY,\n",
    "    epochs = epochs,\n",
    "    batch_size = batchSize,\n",
    "    callbacks=[earlyStop, saveBest]\n",
    ")\n",
    "fitEndTime = time.time()\n",
    "\n",
    "\n",
    "model.load_weights(checkpointPath)"
   ]
  },
  {
   "cell_type": "markdown",
   "id": "e77355ca",
   "metadata": {},
   "source": [
    "#### Test Data + 30일 후 예측"
   ]
  },
  {
   "cell_type": "code",
   "execution_count": 11,
   "id": "3747c7d3",
   "metadata": {
    "scrolled": false
   },
   "outputs": [
    {
     "name": "stdout",
     "output_type": "stream",
     "text": [
      "5/5 [==============================] - 0s 12ms/step\n",
      "1/5 [=====>........................] - ETA: 0s"
     ]
    },
    {
     "name": "stderr",
     "output_type": "stream",
     "text": [
      "2023-01-05 11:56:24.454212: I tensorflow/core/grappler/optimizers/custom_graph_optimizer_registry.cc:113] Plugin optimizer for device_type GPU is enabled.\n",
      "2023-01-05 11:56:24.482592: I tensorflow/core/grappler/optimizers/custom_graph_optimizer_registry.cc:113] Plugin optimizer for device_type GPU is enabled.\n"
     ]
    },
    {
     "name": "stdout",
     "output_type": "stream",
     "text": [
      "5/5 [==============================] - 0s 12ms/step\n",
      "5/5 [==============================] - 0s 13ms/step\n",
      "5/5 [==============================] - 0s 12ms/step\n",
      "5/5 [==============================] - 0s 12ms/step\n",
      "5/5 [==============================] - 0s 12ms/step\n",
      "5/5 [==============================] - 0s 12ms/step\n",
      "5/5 [==============================] - 0s 12ms/step\n",
      "5/5 [==============================] - 0s 12ms/step\n",
      "5/5 [==============================] - 0s 12ms/step\n",
      "5/5 [==============================] - 0s 5ms/step\n",
      "6/6 [==============================] - 0s 12ms/step\n",
      "6/6 [==============================] - 0s 12ms/step\n",
      "6/6 [==============================] - 0s 12ms/step\n",
      "6/6 [==============================] - 0s 12ms/step\n",
      "6/6 [==============================] - 0s 12ms/step\n",
      "6/6 [==============================] - 0s 11ms/step\n",
      "6/6 [==============================] - 0s 11ms/step\n",
      "6/6 [==============================] - 0s 11ms/step\n",
      "6/6 [==============================] - 0s 11ms/step\n",
      "6/6 [==============================] - 0s 11ms/step\n",
      "6/6 [==============================] - 0s 11ms/step\n",
      "6/6 [==============================] - 0s 11ms/step\n",
      "6/6 [==============================] - 0s 11ms/step\n",
      "6/6 [==============================] - 0s 11ms/step\n",
      "6/6 [==============================] - 0s 11ms/step\n",
      "6/6 [==============================] - 0s 11ms/step\n",
      "6/6 [==============================] - 0s 11ms/step\n",
      "6/6 [==============================] - 0s 11ms/step\n",
      "6/6 [==============================] - 0s 11ms/step\n"
     ]
    }
   ],
   "source": [
    "thirtyPredict = testX\n",
    "\n",
    "for _ in range(30):\n",
    "    currentPredict = model.predict(thirtyPredict)\n",
    "    recentPredict = np.reshape(currentPredict[-1], (1, currentPredict[-1].shape[0]))\n",
    "    newPredictStep = thirtyPredict[-1, 1:]\n",
    "    nextPredict = np.append(newPredictStep, recentPredict, axis = 0)\n",
    "    nextPredict = np.reshape(nextPredict, (1, nextPredict.shape[0], nextPredict.shape[1]))\n",
    "    thirtyPredict = np.append(thirtyPredict, nextPredict, axis = 0)"
   ]
  },
  {
   "cell_type": "markdown",
   "id": "ca918f42",
   "metadata": {},
   "source": [
    "#### 시간 및 평가 기록"
   ]
  },
  {
   "cell_type": "code",
   "execution_count": 22,
   "id": "9260b57f",
   "metadata": {},
   "outputs": [
    {
     "name": "stdout",
     "output_type": "stream",
     "text": [
      "5/5 [==============================] - 0s 8ms/step - loss: 8.1450e-04 - mae: 0.0223\n",
      "(150, 20, 6)\n",
      "(180, 6)\n",
      "(180, 20, 6)\n",
      "(30, 20, 6)\n",
      "(30, 6)\n"
     ]
    },
    {
     "ename": "ValueError",
     "evalue": "Data cardinality is ambiguous:\n  x sizes: 0\n  y sizes: 30\nMake sure all arrays contain the same number of samples.",
     "output_type": "error",
     "traceback": [
      "\u001b[0;31m---------------------------------------------------------------------------\u001b[0m",
      "\u001b[0;31mValueError\u001b[0m                                Traceback (most recent call last)",
      "Cell \u001b[0;32mIn[22], line 11\u001b[0m\n\u001b[1;32m      8\u001b[0m \u001b[38;5;28mprint\u001b[39m(thirtyPredict[\u001b[38;5;241m-\u001b[39m\u001b[38;5;241m30\u001b[39m:]\u001b[38;5;241m.\u001b[39mshape)\n\u001b[1;32m      9\u001b[0m \u001b[38;5;28mprint\u001b[39m(testY[\u001b[38;5;241m-\u001b[39m\u001b[38;5;241m30\u001b[39m:]\u001b[38;5;241m.\u001b[39mshape)\n\u001b[0;32m---> 11\u001b[0m predictScore \u001b[38;5;241m=\u001b[39m \u001b[43mmodel\u001b[49m\u001b[38;5;241;43m.\u001b[39;49m\u001b[43mevaluate\u001b[49m\u001b[43m(\u001b[49m\u001b[43mthirtyPredict\u001b[49m\u001b[43m[\u001b[49m\u001b[38;5;241;43m-\u001b[39;49m\u001b[38;5;241;43m30\u001b[39;49m\u001b[43m:\u001b[49m\u001b[38;5;241;43m0\u001b[39;49m\u001b[43m]\u001b[49m\u001b[43m,\u001b[49m\u001b[43m \u001b[49m\u001b[43mtestY\u001b[49m\u001b[43m[\u001b[49m\u001b[38;5;241;43m-\u001b[39;49m\u001b[38;5;241;43m30\u001b[39;49m\u001b[43m:\u001b[49m\u001b[43m]\u001b[49m\u001b[43m)\u001b[49m\n\u001b[1;32m     14\u001b[0m f \u001b[38;5;241m=\u001b[39m \u001b[38;5;28mopen\u001b[39m(\u001b[38;5;124m\"\u001b[39m\u001b[38;5;124mresult.txt\u001b[39m\u001b[38;5;124m\"\u001b[39m, \u001b[38;5;124m\"\u001b[39m\u001b[38;5;124ma\u001b[39m\u001b[38;5;124m\"\u001b[39m)\n\u001b[1;32m     15\u001b[0m f\u001b[38;5;241m.\u001b[39mwrite(\u001b[38;5;124mf\u001b[39m\u001b[38;5;124m\"\u001b[39m\u001b[38;5;132;01m{\u001b[39;00mresultComment\u001b[38;5;132;01m}\u001b[39;00m\u001b[38;5;130;01m\\n\u001b[39;00m\u001b[38;5;124m모델 학습 시간: \u001b[39m\u001b[38;5;132;01m{\u001b[39;00mfitTime\u001b[38;5;132;01m:\u001b[39;00m\u001b[38;5;124m.3\u001b[39m\u001b[38;5;132;01m}\u001b[39;00m\u001b[38;5;124m sec\u001b[39m\u001b[38;5;130;01m\\n\u001b[39;00m\u001b[38;5;124m평가 손실: \u001b[39m\u001b[38;5;132;01m{\u001b[39;00mscore[\u001b[38;5;241m0\u001b[39m]\u001b[38;5;132;01m}\u001b[39;00m\u001b[38;5;130;01m\\n\u001b[39;00m\u001b[38;5;124m30일 예측 손실: \u001b[39m\u001b[38;5;132;01m{\u001b[39;00mpredictScore[\u001b[38;5;241m0\u001b[39m]\u001b[38;5;132;01m}\u001b[39;00m\u001b[38;5;130;01m\\n\u001b[39;00m\u001b[38;5;132;01m{\u001b[39;00mparameters\u001b[38;5;132;01m}\u001b[39;00m\u001b[38;5;130;01m\\n\u001b[39;00m\u001b[38;5;124m--------------------------------------\u001b[39m\u001b[38;5;130;01m\\n\u001b[39;00m\u001b[38;5;130;01m\\n\u001b[39;00m\u001b[38;5;124m\"\u001b[39m)\n",
      "File \u001b[0;32m/opt/homebrew/Caskroom/miniconda/base/envs/tf/lib/python3.9/site-packages/keras/utils/traceback_utils.py:67\u001b[0m, in \u001b[0;36mfilter_traceback.<locals>.error_handler\u001b[0;34m(*args, **kwargs)\u001b[0m\n\u001b[1;32m     65\u001b[0m \u001b[38;5;28;01mexcept\u001b[39;00m \u001b[38;5;167;01mException\u001b[39;00m \u001b[38;5;28;01mas\u001b[39;00m e:  \u001b[38;5;66;03m# pylint: disable=broad-except\u001b[39;00m\n\u001b[1;32m     66\u001b[0m   filtered_tb \u001b[38;5;241m=\u001b[39m _process_traceback_frames(e\u001b[38;5;241m.\u001b[39m__traceback__)\n\u001b[0;32m---> 67\u001b[0m   \u001b[38;5;28;01mraise\u001b[39;00m e\u001b[38;5;241m.\u001b[39mwith_traceback(filtered_tb) \u001b[38;5;28;01mfrom\u001b[39;00m \u001b[38;5;28mNone\u001b[39m\n\u001b[1;32m     68\u001b[0m \u001b[38;5;28;01mfinally\u001b[39;00m:\n\u001b[1;32m     69\u001b[0m   \u001b[38;5;28;01mdel\u001b[39;00m filtered_tb\n",
      "File \u001b[0;32m/opt/homebrew/Caskroom/miniconda/base/envs/tf/lib/python3.9/site-packages/keras/engine/data_adapter.py:1655\u001b[0m, in \u001b[0;36m_check_data_cardinality\u001b[0;34m(data)\u001b[0m\n\u001b[1;32m   1651\u001b[0m   msg \u001b[38;5;241m+\u001b[39m\u001b[38;5;241m=\u001b[39m \u001b[38;5;124m\"\u001b[39m\u001b[38;5;124m  \u001b[39m\u001b[38;5;132;01m{}\u001b[39;00m\u001b[38;5;124m sizes: \u001b[39m\u001b[38;5;132;01m{}\u001b[39;00m\u001b[38;5;130;01m\\n\u001b[39;00m\u001b[38;5;124m\"\u001b[39m\u001b[38;5;241m.\u001b[39mformat(\n\u001b[1;32m   1652\u001b[0m       label, \u001b[38;5;124m\"\u001b[39m\u001b[38;5;124m, \u001b[39m\u001b[38;5;124m\"\u001b[39m\u001b[38;5;241m.\u001b[39mjoin(\u001b[38;5;28mstr\u001b[39m(i\u001b[38;5;241m.\u001b[39mshape[\u001b[38;5;241m0\u001b[39m])\n\u001b[1;32m   1653\u001b[0m                        \u001b[38;5;28;01mfor\u001b[39;00m i \u001b[38;5;129;01min\u001b[39;00m tf\u001b[38;5;241m.\u001b[39mnest\u001b[38;5;241m.\u001b[39mflatten(single_data)))\n\u001b[1;32m   1654\u001b[0m msg \u001b[38;5;241m+\u001b[39m\u001b[38;5;241m=\u001b[39m \u001b[38;5;124m\"\u001b[39m\u001b[38;5;124mMake sure all arrays contain the same number of samples.\u001b[39m\u001b[38;5;124m\"\u001b[39m\n\u001b[0;32m-> 1655\u001b[0m \u001b[38;5;28;01mraise\u001b[39;00m \u001b[38;5;167;01mValueError\u001b[39;00m(msg)\n",
      "\u001b[0;31mValueError\u001b[0m: Data cardinality is ambiguous:\n  x sizes: 0\n  y sizes: 30\nMake sure all arrays contain the same number of samples."
     ]
    }
   ],
   "source": [
    "fitTime = fitEndTime - fitStartTime\n",
    "score = model.evaluate(testX, testY[:-30])\n",
    "\n",
    "print(testX.shape)\n",
    "print(testY.shape)\n",
    "print(thirtyPredict.shape)\n",
    "\n",
    "print(thirtyPredict[-30:].shape)\n",
    "print(testY[-30:].shape)\n",
    "\n",
    "predictScore = model.evaluate(thirtyPredict[-30:0], testY[-30:])\n",
    "\n",
    "\n",
    "f = open(\"result.txt\", \"a\")\n",
    "f.write(f\"{resultComment}\\n모델 학습 시간: {fitTime:.3} sec\\n평가 손실: {score[0]}\\n30일 예측 손실: {predictScore[0]}\\n{parameters}\\n--------------------------------------\\n\\n\")\n",
    "f.close()"
   ]
  },
  {
   "cell_type": "code",
   "execution_count": 14,
   "id": "84703a93",
   "metadata": {
    "scrolled": false
   },
   "outputs": [
    {
     "data": {
      "text/plain": [
       "'모델 학습 시간: 27.1 sec'"
      ]
     },
     "execution_count": 14,
     "metadata": {},
     "output_type": "execute_result"
    }
   ],
   "source": [
    "f\"모델 학습 시간: {fitTime:.3} sec\""
   ]
  },
  {
   "cell_type": "code",
   "execution_count": null,
   "id": "4ef6964d",
   "metadata": {},
   "outputs": [],
   "source": [
    "f\"평가 손실: {score[0]}\""
   ]
  },
  {
   "cell_type": "markdown",
   "id": "1a858bad",
   "metadata": {},
   "source": [
    "#### 예측"
   ]
  },
  {
   "cell_type": "code",
   "execution_count": null,
   "id": "21f11463",
   "metadata": {},
   "outputs": [],
   "source": [
    "trainPrediction = scaler.inverse_transform(model.predict(trainX))\n",
    "testPrediction = scaler.inverse_transform(model.predict(testX))\n",
    "\n",
    "inversingTrainY = scaler.inverse_transform(trainY)\n",
    "inversingTestY = scaler.inverse_transform(testY)"
   ]
  },
  {
   "cell_type": "markdown",
   "id": "980a5688",
   "metadata": {},
   "source": [
    "### 그래프"
   ]
  },
  {
   "cell_type": "markdown",
   "id": "9a47448f",
   "metadata": {},
   "source": [
    "#### Loss"
   ]
  },
  {
   "cell_type": "code",
   "execution_count": null,
   "id": "e0cbdfbf",
   "metadata": {},
   "outputs": [],
   "source": [
    "loss = history.history[\"loss\"]\n",
    "plt.title(\"Loss\")\n",
    "plt.plot(loss, label=\"loss\")\n",
    "plt.grid(True)\n",
    "plt.savefig(f\"{fileSavePath}/Loss.png\")\n",
    "plt.legend()\n",
    "plt.show()"
   ]
  },
  {
   "cell_type": "markdown",
   "id": "6d850d7d",
   "metadata": {},
   "source": [
    "#### Train Data Graph"
   ]
  },
  {
   "cell_type": "code",
   "execution_count": null,
   "id": "7ecbefab",
   "metadata": {},
   "outputs": [],
   "source": [
    "plt.title(trainGraphTitle)\n",
    "plt.plot(inversingTrainY[:, 4], label=\"Train ADJ.Close\")\n",
    "plt.plot(trainPrediction[:, 4], label=\"Predict ADJ.Close\")\n",
    "plt.grid(True)\n",
    "plt.savefig(f\"{fileSavePath}/Train.png\")\n",
    "plt.xlabel('Day')\n",
    "plt.ylabel('Price')\n",
    "plt.legend()\n",
    "plt.show()"
   ]
  },
  {
   "cell_type": "markdown",
   "id": "9f26326e",
   "metadata": {},
   "source": [
    "#### Test Data Graph"
   ]
  },
  {
   "cell_type": "code",
   "execution_count": null,
   "id": "0a50d286",
   "metadata": {},
   "outputs": [],
   "source": [
    "# plt.title(testGraphTitle)\n",
    "# plt.plot(inversingTestY[:, 4], label=\"Test ADJ.Close\")\n",
    "# plt.plot(testPrediction[:, 4], label=\"Predict ADJ.Close\")\n",
    "# plt.grid(True)\n",
    "# plt.xlabel('Day')\n",
    "# plt.ylabel('Price')\n",
    "# plt.axvline(x=len(testY)-30, color='green', linestyle='-', linewidth=1)\n",
    "# plt.legend()\n",
    "# plt.savefig(f\"{fileSavePath}/Test.png\")\n",
    "# plt.show()"
   ]
  },
  {
   "cell_type": "markdown",
   "id": "f9fdf304",
   "metadata": {},
   "source": [
    "#### Test Data + 30일 예측 그래프"
   ]
  },
  {
   "cell_type": "code",
   "execution_count": null,
   "id": "fefff00c",
   "metadata": {
    "scrolled": false
   },
   "outputs": [],
   "source": [
    "thirtyDaysAfterpredict = scaler.inverse_transform(model.predict(thirtyPredict))\n",
    "\n",
    "plt.title(\"30 Days After\")\n",
    "plt.plot(inversingTestY[:, 4], label=\"Test ADJ.Close\")\n",
    "plt.plot(thirtyDaysAfterpredict[:, 4], label=\"30 Days predict ADJ.Close\")\n",
    "plt.grid(True)\n",
    "plt.xlabel('Day')\n",
    "plt.ylabel('Price')\n",
    "plt.axvline(x=len(testY)-30, color='green', linestyle='-', linewidth=1)\n",
    "plt.legend()\n",
    "plt.savefig(f\"{fileSavePath}/30Predict.png\")\n",
    "plt.show()"
   ]
  }
 ],
 "metadata": {
  "kernelspec": {
   "display_name": "Python 3 (ipykernel)",
   "language": "python",
   "name": "python3"
  },
  "language_info": {
   "codemirror_mode": {
    "name": "ipython",
    "version": 3
   },
   "file_extension": ".py",
   "mimetype": "text/x-python",
   "name": "python",
   "nbconvert_exporter": "python",
   "pygments_lexer": "ipython3",
   "version": "3.9.15"
  }
 },
 "nbformat": 4,
 "nbformat_minor": 5
}

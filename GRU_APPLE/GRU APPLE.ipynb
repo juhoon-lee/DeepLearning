{
 "cells": [
  {
   "cell_type": "markdown",
   "id": "302e6018",
   "metadata": {},
   "source": [
    "#### 패키지 Import"
   ]
  },
  {
   "cell_type": "code",
   "execution_count": null,
   "id": "1f08c128",
   "metadata": {},
   "outputs": [],
   "source": [
    "import numpy as np\n",
    "import pandas as pd\n",
    "import matplotlib.pyplot as plt\n",
    "import time\n",
    "from sklearn.preprocessing import MinMaxScaler\n",
    "from keras.models import Sequential\n",
    "from keras.layers import GRU, Dense"
   ]
  },
  {
   "cell_type": "markdown",
   "id": "49e7140b",
   "metadata": {},
   "source": [
    "#### 전역변수 설정"
   ]
  },
  {
   "cell_type": "code",
   "execution_count": null,
   "id": "23cbce2d",
   "metadata": {},
   "outputs": [],
   "source": [
    "trainGraphTitle = \"Train Data\"\n",
    "testGraphTitle = \"Test Data\"\n",
    "loss = \"mse\" # mse\n",
    "\n",
    "resultComment = \"DataSize - 40Year\"\n",
    "fileSavePath = \"./result/DataSize/40year\"\n",
    "\n",
    "depth = \"SimpleGRU\" # SimpleGRU, TwoGRU , ThreeGRU\n",
    "# depth = \"TwoGRU\"\n",
    "# depth = \"ThreeGRU\"\n",
    "\n",
    "# 변수 \"\" 가 Default\n",
    "hiddenState = 32 # units: 16 \"32\" 64\n",
    "timeStep = 20 # input_length 10 \"20\" 40\n",
    "activation = \"tanh\" # \"tanh\" sigmoid\n",
    "epochs = 100 # 50 \"100\" 200\n",
    "batchSize = 64 # 32 \"64\" 256\n",
    "dataSetYear = 40 # 5 \"10\" 40\n",
    "optimizer = \"adam\" # \"adam\" sgd"
   ]
  },
  {
   "cell_type": "markdown",
   "id": "76e7e235",
   "metadata": {},
   "source": [
    "#### Pandas Setting"
   ]
  },
  {
   "cell_type": "code",
   "execution_count": null,
   "id": "171b5b82",
   "metadata": {},
   "outputs": [],
   "source": [
    "pd.set_option('display.max_rows', None) # row 생략 없이 출력\n",
    "pd.set_option('display.max_columns', None) # col 생략 없이 출력"
   ]
  },
  {
   "cell_type": "markdown",
   "id": "c77fd75b",
   "metadata": {},
   "source": [
    "#### Data Load"
   ]
  },
  {
   "cell_type": "code",
   "execution_count": null,
   "id": "33458f40",
   "metadata": {},
   "outputs": [],
   "source": [
    "apple = pd.read_csv(\"Apple_5Y.csv\")\n",
    "\n",
    "if dataSetYear == 10:\n",
    "    apple = pd.read_csv(\"Apple_10Y.csv\")\n",
    "elif dataSetYear == 40:\n",
    "    apple = pd.read_csv(\"Apple_Whole_Period.csv\")"
   ]
  },
  {
   "cell_type": "markdown",
   "id": "fb778e6d",
   "metadata": {},
   "source": [
    "#### Describe 확인"
   ]
  },
  {
   "cell_type": "code",
   "execution_count": null,
   "id": "3da62313",
   "metadata": {
    "scrolled": true
   },
   "outputs": [],
   "source": [
    "apple.describe()"
   ]
  },
  {
   "cell_type": "markdown",
   "id": "58bf3bfa",
   "metadata": {},
   "source": [
    "#### trainData, testData 가공하는 함수"
   ]
  },
  {
   "cell_type": "code",
   "execution_count": null,
   "id": "2a0c99c3",
   "metadata": {},
   "outputs": [],
   "source": [
    "def transformData(data: [[float]]):\n",
    "    # 날짜 제외\n",
    "    data = data.drop(columns=[\"Date\"])\n",
    "\n",
    "    # 데이터 분리 test: 200개와 나머지\n",
    "    trainSet = data[ : -200]\n",
    "    testSet = data[-200 : ]\n",
    "    \n",
    "    # 데이터 0~1로 정규화\n",
    "    sc = MinMaxScaler(feature_range=(0, 1)) \n",
    "    sc.fit(trainSet)\n",
    "    trainSet = sc.transform(trainSet)\n",
    "    testSet = sc.transform(testSet)\n",
    "    \n",
    "    # trainX, trainY, testX, testY 분리\n",
    "    def parsingData(dataSet: [[float]]) -> ([[[float]]], [[float]]):\n",
    "        dataX, dataY = [], []\n",
    "        for index in range(len(dataSet) - timeStep):\n",
    "            temp = []\n",
    "            for step in range(timeStep):\n",
    "                temp.append(dataSet[index + step])\n",
    "            dataX.append(temp)\n",
    "            dataY.append(dataSet[index + timeStep])\n",
    "\n",
    "        return np.array(dataX), np.array(dataY)\n",
    "\n",
    "    trainDataX, trainDataY = parsingData(trainSet)\n",
    "    testDataX, testDataY = parsingData(testSet)\n",
    "    \n",
    "    \n",
    "    return trainDataX, trainDataY, testDataX[:-30], testDataY, sc"
   ]
  },
  {
   "cell_type": "markdown",
   "id": "8075389b",
   "metadata": {},
   "source": [
    "#### Data Parsing"
   ]
  },
  {
   "cell_type": "code",
   "execution_count": null,
   "id": "a8d6ba5d",
   "metadata": {
    "scrolled": true
   },
   "outputs": [],
   "source": [
    "trainX, trainY, testX, testY, scaler = transformData(apple)"
   ]
  },
  {
   "cell_type": "markdown",
   "id": "22d1cb98",
   "metadata": {},
   "source": [
    "#### Model Implementation"
   ]
  },
  {
   "cell_type": "code",
   "execution_count": null,
   "id": "587777f1",
   "metadata": {},
   "outputs": [],
   "source": [
    "model = Sequential()\n",
    "\n",
    "if depth == \"ThreeGRU\":\n",
    "    model.add(\n",
    "        GRU(\n",
    "            units = hiddenState,\n",
    "            input_length = trainX.shape[1],\n",
    "            input_dim = trainX.shape[2],\n",
    "            activation = activation,\n",
    "            return_sequences = True\n",
    "        )\n",
    "    )\n",
    "    model.add(\n",
    "        GRU(\n",
    "            units = hiddenState,\n",
    "            activation = activation,\n",
    "            return_sequences = True\n",
    "        )\n",
    "    )\n",
    "    model.add(\n",
    "        GRU(\n",
    "            units = hiddenState,\n",
    "            activation = activation\n",
    "        )\n",
    "    )\n",
    "    \n",
    "    model.add(Dense(6))\n",
    "    \n",
    "elif depth == \"TwoGRU\":\n",
    "    model.add(\n",
    "        GRU(\n",
    "            units = hiddenState,\n",
    "            input_length = trainX.shape[1],\n",
    "            input_dim = trainX.shape[2],\n",
    "            activation = activation,\n",
    "            return_sequences = True\n",
    "        )\n",
    "    )\n",
    "    model.add(\n",
    "        GRU(\n",
    "            units = hiddenState,\n",
    "            activation = activation\n",
    "        )\n",
    "    )\n",
    "    \n",
    "    model.add(Dense(6))\n",
    "elif depth == \"SimpleGRU\":\n",
    "    model.add(\n",
    "    GRU(\n",
    "        units = hiddenState,\n",
    "        input_length = trainX.shape[1],\n",
    "        input_dim = trainX.shape[2],\n",
    "        activation = activation\n",
    "        )\n",
    "    )\n",
    "    model.add(Dense(6))\n",
    "\n",
    "model.summary()"
   ]
  },
  {
   "cell_type": "markdown",
   "id": "9e77d196",
   "metadata": {},
   "source": [
    "#### Model Complie"
   ]
  },
  {
   "cell_type": "code",
   "execution_count": null,
   "id": "ee7eafae",
   "metadata": {},
   "outputs": [],
   "source": [
    "model.compile(\n",
    "    loss = loss,\n",
    "    optimizer = optimizer,\n",
    "    metrics = [\"mae\"]\n",
    ")"
   ]
  },
  {
   "cell_type": "markdown",
   "id": "4de53be4",
   "metadata": {},
   "source": [
    "#### Model Training"
   ]
  },
  {
   "cell_type": "code",
   "execution_count": null,
   "id": "08fb9d38",
   "metadata": {
    "scrolled": false
   },
   "outputs": [],
   "source": [
    "fitStartTime = time.time()\n",
    "history = model.fit(\n",
    "    trainX,\n",
    "    trainY,\n",
    "    epochs = epochs,\n",
    "    batch_size = batchSize\n",
    ")\n",
    "fitEndTime = time.time()"
   ]
  },
  {
   "cell_type": "markdown",
   "id": "ca918f42",
   "metadata": {},
   "source": [
    "#### 시간 및 평가 기록"
   ]
  },
  {
   "cell_type": "code",
   "execution_count": null,
   "id": "9260b57f",
   "metadata": {},
   "outputs": [],
   "source": [
    "fitTime = fitEndTime - fitStartTime\n",
    "score = model.evaluate(testX, testY[:-30])\n",
    "\n",
    "f = open(\"result.txt\", \"a\")\n",
    "f.write(f\"{resultComment}\\n모델 학습 시간: {fitTime:.3} sec\\n평가 손실: {score[0]}\\n\\n\")\n",
    "f.close()"
   ]
  },
  {
   "cell_type": "code",
   "execution_count": null,
   "id": "84703a93",
   "metadata": {
    "scrolled": false
   },
   "outputs": [],
   "source": [
    "f\"모델 학습 시간: {fitTime:.3} sec\""
   ]
  },
  {
   "cell_type": "code",
   "execution_count": null,
   "id": "4ef6964d",
   "metadata": {},
   "outputs": [],
   "source": [
    "f\"평가 손실: {score[0]}\""
   ]
  },
  {
   "cell_type": "markdown",
   "id": "1a858bad",
   "metadata": {},
   "source": [
    "#### 예측"
   ]
  },
  {
   "cell_type": "code",
   "execution_count": null,
   "id": "21f11463",
   "metadata": {},
   "outputs": [],
   "source": [
    "trainPrediction = scaler.inverse_transform(model.predict(trainX))\n",
    "testPrediction = scaler.inverse_transform(model.predict(testX))\n",
    "\n",
    "inversingTrainY = scaler.inverse_transform(trainY)\n",
    "inversingTestY = scaler.inverse_transform(testY)"
   ]
  },
  {
   "cell_type": "markdown",
   "id": "980a5688",
   "metadata": {},
   "source": [
    "#### 그래프"
   ]
  },
  {
   "cell_type": "markdown",
   "id": "9a47448f",
   "metadata": {},
   "source": [
    "#### Loss"
   ]
  },
  {
   "cell_type": "code",
   "execution_count": null,
   "id": "e0cbdfbf",
   "metadata": {},
   "outputs": [],
   "source": [
    "loss = history.history[\"loss\"]\n",
    "plt.title(\"Loss\")\n",
    "plt.plot(loss, label=\"loss\")\n",
    "plt.grid(True)\n",
    "plt.savefig(f\"{fileSavePath}/Loss.png\")\n",
    "plt.legend()\n",
    "plt.show()"
   ]
  },
  {
   "cell_type": "markdown",
   "id": "6d850d7d",
   "metadata": {},
   "source": [
    "Train Data Graph"
   ]
  },
  {
   "cell_type": "code",
   "execution_count": null,
   "id": "7ecbefab",
   "metadata": {},
   "outputs": [],
   "source": [
    "plt.title(trainGraphTitle)\n",
    "plt.plot(inversingTrainY[:, 4], label=\"Train ADJ.Close\")\n",
    "plt.plot(trainPrediction[:, 4], label=\"Predict ADJ.Close\")\n",
    "plt.grid(True)\n",
    "plt.savefig(f\"{fileSavePath}/Train.png\")\n",
    "plt.xlabel('Day')\n",
    "plt.ylabel('Price')\n",
    "plt.legend()\n",
    "plt.show()"
   ]
  },
  {
   "cell_type": "markdown",
   "id": "9f26326e",
   "metadata": {},
   "source": [
    "Test Data Graph"
   ]
  },
  {
   "cell_type": "code",
   "execution_count": null,
   "id": "0a50d286",
   "metadata": {},
   "outputs": [],
   "source": [
    "plt.title(testGraphTitle)\n",
    "plt.plot(inversingTestY[:, 4], label=\"Test ADJ.Close\")\n",
    "plt.plot(testPrediction[:, 4], label=\"Predict ADJ.Close\")\n",
    "plt.grid(True)\n",
    "plt.savefig(f\"{fileSavePath}/Test.png\")\n",
    "plt.xlabel('Day')\n",
    "plt.ylabel('Price')\n",
    "plt.axvline(x=len(testY)-30, color='green', linestyle='-', linewidth=1)\n",
    "plt.legend()\n",
    "plt.show()"
   ]
  },
  {
   "cell_type": "markdown",
   "id": "e77355ca",
   "metadata": {},
   "source": [
    "#### 30일 후 예측"
   ]
  },
  {
   "cell_type": "code",
   "execution_count": null,
   "id": "3747c7d3",
   "metadata": {
    "scrolled": false
   },
   "outputs": [],
   "source": [
    "for _ in range(30):\n",
    "    nextPredict = model.predict(testX)\n",
    "    newData = nextPredict[-timeStep:]\n",
    "    newData = np.reshape(newData, (1, newData.shape[0], newData.shape[1]))\n",
    "    testX = np.append(testX, newData, axis = 0)"
   ]
  },
  {
   "cell_type": "markdown",
   "id": "f9fdf304",
   "metadata": {},
   "source": [
    "30일 예측 그래프"
   ]
  },
  {
   "cell_type": "code",
   "execution_count": null,
   "id": "fefff00c",
   "metadata": {},
   "outputs": [],
   "source": [
    "ThirtyDaysAfterpredict = scaler.inverse_transform(model.predict(testX))\n",
    "\n",
    "plt.title(\"30 Days After\")\n",
    "plt.plot(inversingTestY[:, 4], label=\"Test ADJ.Close\")\n",
    "plt.plot(ThirtyDaysAfterpredict[:, 4], label=\"30 Days predict ADJ.Close\")\n",
    "plt.grid(True)\n",
    "plt.savefig(f\"{fileSavePath}/30Predict.png\")\n",
    "plt.xlabel('Day')\n",
    "plt.ylabel('Price')\n",
    "plt.axvline(x=len(testY)-30, color='green', linestyle='-', linewidth=1)\n",
    "plt.legend()\n",
    "plt.show()"
   ]
  },
  {
   "cell_type": "code",
   "execution_count": null,
   "id": "2953521e",
   "metadata": {},
   "outputs": [],
   "source": []
  }
 ],
 "metadata": {
  "kernelspec": {
   "display_name": "Python 3 (ipykernel)",
   "language": "python",
   "name": "python3"
  },
  "language_info": {
   "codemirror_mode": {
    "name": "ipython",
    "version": 3
   },
   "file_extension": ".py",
   "mimetype": "text/x-python",
   "name": "python",
   "nbconvert_exporter": "python",
   "pygments_lexer": "ipython3",
   "version": "3.9.15"
  }
 },
 "nbformat": 4,
 "nbformat_minor": 5
}

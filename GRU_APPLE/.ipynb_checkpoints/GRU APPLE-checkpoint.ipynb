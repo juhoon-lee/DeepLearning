{
 "cells": [
  {
   "cell_type": "markdown",
   "id": "302e6018",
   "metadata": {},
   "source": [
    "#### 패키지 Import"
   ]
  },
  {
   "cell_type": "code",
   "execution_count": 1,
   "id": "1f08c128",
   "metadata": {},
   "outputs": [],
   "source": [
    "import numpy as np\n",
    "import pandas as pd\n",
    "import matplotlib.pyplot as plt\n",
    "import time\n",
    "from sklearn.preprocessing import MinMaxScaler\n",
    "from keras.models import Sequential\n",
    "from keras.layers import GRU, Dense"
   ]
  },
  {
   "cell_type": "markdown",
   "id": "49e7140b",
   "metadata": {},
   "source": [
    "#### 전역변수 설정"
   ]
  },
  {
   "cell_type": "code",
   "execution_count": 2,
   "id": "82dd9332",
   "metadata": {},
   "outputs": [],
   "source": [
    "trainGraphTitle = \"Train Data\"\n",
    "testGraphTitle = \"Test Data\"\n",
    "loss = \"mse\" # mse\n",
    "\n",
    "resultComment = \"Activation - sigmoid\"\n",
    "fileSavePath = \"./result/Activation/sigmoid\"\n",
    "\n",
    "depth = \"SingleGRU\" # Default\n",
    "# depth = \"DoubleGRU\" \n",
    "# depth = \"TripleGRU\"\n",
    "\n",
    "# 변수 \"\" 가 Default\n",
    "hiddenState = 32 # units: 16 \"32\" 64\n",
    "timeStep = 20 # input_length 10 \"20\" 40\n",
    "activation = \"tanh\" # \"tanh\" sigmoid\n",
    "epochs = 100 # 50 \"100\" 200\n",
    "batchSize = 64 # 32 \"64\" 256\n",
    "dataSetYear = 10 # 5 \"10\" 40\n",
    "optimizer = \"adam\" # \"adam\" sgd"
   ]
  },
  {
   "cell_type": "markdown",
   "id": "76e7e235",
   "metadata": {},
   "source": [
    "#### Pandas Setting"
   ]
  },
  {
   "cell_type": "code",
   "execution_count": 3,
   "id": "171b5b82",
   "metadata": {},
   "outputs": [],
   "source": [
    "pd.set_option('display.max_rows', None) # row 생략 없이 출력\n",
    "pd.set_option('display.max_columns', None) # col 생략 없이 출력"
   ]
  },
  {
   "cell_type": "markdown",
   "id": "c77fd75b",
   "metadata": {},
   "source": [
    "#### Data Load"
   ]
  },
  {
   "cell_type": "code",
   "execution_count": 4,
   "id": "33458f40",
   "metadata": {},
   "outputs": [],
   "source": [
    "apple = pd.read_csv(\"Apple_5Y.csv\")\n",
    "\n",
    "if dataSetYear == 10:\n",
    "    apple = pd.read_csv(\"Apple_10Y.csv\")\n",
    "elif dataSetYear == 40:\n",
    "    apple = pd.read_csv(\"Apple_Whole_Period.csv\")"
   ]
  },
  {
   "cell_type": "markdown",
   "id": "fb778e6d",
   "metadata": {},
   "source": [
    "#### Describe 확인"
   ]
  },
  {
   "cell_type": "code",
   "execution_count": 5,
   "id": "3da62313",
   "metadata": {
    "scrolled": true
   },
   "outputs": [
    {
     "data": {
      "text/html": [
       "<div>\n",
       "<style scoped>\n",
       "    .dataframe tbody tr th:only-of-type {\n",
       "        vertical-align: middle;\n",
       "    }\n",
       "\n",
       "    .dataframe tbody tr th {\n",
       "        vertical-align: top;\n",
       "    }\n",
       "\n",
       "    .dataframe thead th {\n",
       "        text-align: right;\n",
       "    }\n",
       "</style>\n",
       "<table border=\"1\" class=\"dataframe\">\n",
       "  <thead>\n",
       "    <tr style=\"text-align: right;\">\n",
       "      <th></th>\n",
       "      <th>Open</th>\n",
       "      <th>High</th>\n",
       "      <th>Low</th>\n",
       "      <th>Close</th>\n",
       "      <th>Adj Close</th>\n",
       "      <th>Volume</th>\n",
       "    </tr>\n",
       "  </thead>\n",
       "  <tbody>\n",
       "    <tr>\n",
       "      <th>count</th>\n",
       "      <td>2518.000000</td>\n",
       "      <td>2518.000000</td>\n",
       "      <td>2518.000000</td>\n",
       "      <td>2518.000000</td>\n",
       "      <td>2518.000000</td>\n",
       "      <td>2.518000e+03</td>\n",
       "    </tr>\n",
       "    <tr>\n",
       "      <th>mean</th>\n",
       "      <td>62.383387</td>\n",
       "      <td>63.087693</td>\n",
       "      <td>61.696664</td>\n",
       "      <td>62.416599</td>\n",
       "      <td>60.637030</td>\n",
       "      <td>1.713540e+08</td>\n",
       "    </tr>\n",
       "    <tr>\n",
       "      <th>std</th>\n",
       "      <td>48.683035</td>\n",
       "      <td>49.322128</td>\n",
       "      <td>48.051043</td>\n",
       "      <td>48.709794</td>\n",
       "      <td>49.248659</td>\n",
       "      <td>1.250498e+08</td>\n",
       "    </tr>\n",
       "    <tr>\n",
       "      <th>min</th>\n",
       "      <td>13.856071</td>\n",
       "      <td>14.271429</td>\n",
       "      <td>13.753571</td>\n",
       "      <td>13.947500</td>\n",
       "      <td>12.064585</td>\n",
       "      <td>3.519590e+07</td>\n",
       "    </tr>\n",
       "    <tr>\n",
       "      <th>25%</th>\n",
       "      <td>26.971249</td>\n",
       "      <td>27.219376</td>\n",
       "      <td>26.705000</td>\n",
       "      <td>26.983750</td>\n",
       "      <td>24.676634</td>\n",
       "      <td>9.188698e+07</td>\n",
       "    </tr>\n",
       "    <tr>\n",
       "      <th>50%</th>\n",
       "      <td>41.353750</td>\n",
       "      <td>41.872500</td>\n",
       "      <td>40.888750</td>\n",
       "      <td>41.313750</td>\n",
       "      <td>39.511671</td>\n",
       "      <td>1.301368e+08</td>\n",
       "    </tr>\n",
       "    <tr>\n",
       "      <th>75%</th>\n",
       "      <td>91.272499</td>\n",
       "      <td>92.881876</td>\n",
       "      <td>90.824377</td>\n",
       "      <td>91.526875</td>\n",
       "      <td>90.122925</td>\n",
       "      <td>2.045116e+08</td>\n",
       "    </tr>\n",
       "    <tr>\n",
       "      <th>max</th>\n",
       "      <td>182.630005</td>\n",
       "      <td>182.940002</td>\n",
       "      <td>179.119995</td>\n",
       "      <td>182.009995</td>\n",
       "      <td>180.959732</td>\n",
       "      <td>1.460852e+09</td>\n",
       "    </tr>\n",
       "  </tbody>\n",
       "</table>\n",
       "</div>"
      ],
      "text/plain": [
       "              Open         High          Low        Close    Adj Close  \\\n",
       "count  2518.000000  2518.000000  2518.000000  2518.000000  2518.000000   \n",
       "mean     62.383387    63.087693    61.696664    62.416599    60.637030   \n",
       "std      48.683035    49.322128    48.051043    48.709794    49.248659   \n",
       "min      13.856071    14.271429    13.753571    13.947500    12.064585   \n",
       "25%      26.971249    27.219376    26.705000    26.983750    24.676634   \n",
       "50%      41.353750    41.872500    40.888750    41.313750    39.511671   \n",
       "75%      91.272499    92.881876    90.824377    91.526875    90.122925   \n",
       "max     182.630005   182.940002   179.119995   182.009995   180.959732   \n",
       "\n",
       "             Volume  \n",
       "count  2.518000e+03  \n",
       "mean   1.713540e+08  \n",
       "std    1.250498e+08  \n",
       "min    3.519590e+07  \n",
       "25%    9.188698e+07  \n",
       "50%    1.301368e+08  \n",
       "75%    2.045116e+08  \n",
       "max    1.460852e+09  "
      ]
     },
     "execution_count": 5,
     "metadata": {},
     "output_type": "execute_result"
    }
   ],
   "source": [
    "apple.describe()"
   ]
  },
  {
   "cell_type": "markdown",
   "id": "58bf3bfa",
   "metadata": {},
   "source": [
    "#### trainData, testData 가공하는 함수"
   ]
  },
  {
   "cell_type": "code",
   "execution_count": 6,
   "id": "2a0c99c3",
   "metadata": {},
   "outputs": [],
   "source": [
    "def transformData(data: [[float]]):\n",
    "    # 날짜 제외\n",
    "    data = data.drop(columns=[\"Date\"])\n",
    "\n",
    "    # 데이터 분리 test: 200개와 나머지\n",
    "    trainSet = data[ : -200]\n",
    "    testSet = data[-200 : ]\n",
    "    \n",
    "    # 데이터 0~1로 정규화\n",
    "    sc = MinMaxScaler(feature_range=(0, 1)) \n",
    "    sc.fit(trainSet)\n",
    "    trainSet = sc.transform(trainSet)\n",
    "    testSet = sc.transform(testSet)\n",
    "    \n",
    "    # trainX, trainY, testX, testY 분리\n",
    "    def parsingData(dataSet: [[float]]) -> ([[[float]]], [[float]]):\n",
    "        dataX, dataY = [], []\n",
    "        for index in range(len(dataSet) - timeStep):\n",
    "            temp = []\n",
    "            for step in range(timeStep):\n",
    "                temp.append(dataSet[index + step])\n",
    "            dataX.append(temp)\n",
    "            dataY.append(dataSet[index + timeStep])\n",
    "\n",
    "        return np.array(dataX), np.array(dataY)\n",
    "\n",
    "    trainDataX, trainDataY = parsingData(trainSet)\n",
    "    testDataX, testDataY = parsingData(testSet)\n",
    "    \n",
    "    \n",
    "    return trainDataX, trainDataY, testDataX[:-30], testDataY, sc"
   ]
  },
  {
   "cell_type": "markdown",
   "id": "8075389b",
   "metadata": {},
   "source": [
    "#### Data Parsing"
   ]
  },
  {
   "cell_type": "code",
   "execution_count": 7,
   "id": "a8d6ba5d",
   "metadata": {
    "scrolled": true
   },
   "outputs": [],
   "source": [
    "trainX, trainY, testX, testY, scaler = transformData(apple)"
   ]
  },
  {
   "cell_type": "markdown",
   "id": "22d1cb98",
   "metadata": {},
   "source": [
    "#### Model Implementation"
   ]
  },
  {
   "cell_type": "code",
   "execution_count": 8,
   "id": "587777f1",
   "metadata": {},
   "outputs": [
    {
     "name": "stdout",
     "output_type": "stream",
     "text": [
      "Metal device set to: Apple M1\n",
      "Model: \"sequential\"\n",
      "_________________________________________________________________\n",
      " Layer (type)                Output Shape              Param #   \n",
      "=================================================================\n",
      " gru (GRU)                   (None, 32)                3840      \n",
      "                                                                 \n",
      " dense (Dense)               (None, 6)                 198       \n",
      "                                                                 \n",
      "=================================================================\n",
      "Total params: 4,038\n",
      "Trainable params: 4,038\n",
      "Non-trainable params: 0\n",
      "_________________________________________________________________\n"
     ]
    },
    {
     "name": "stderr",
     "output_type": "stream",
     "text": [
      "2023-01-05 02:49:34.002538: I tensorflow/core/common_runtime/pluggable_device/pluggable_device_factory.cc:305] Could not identify NUMA node of platform GPU ID 0, defaulting to 0. Your kernel may not have been built with NUMA support.\n",
      "2023-01-05 02:49:34.002622: I tensorflow/core/common_runtime/pluggable_device/pluggable_device_factory.cc:271] Created TensorFlow device (/job:localhost/replica:0/task:0/device:GPU:0 with 0 MB memory) -> physical PluggableDevice (device: 0, name: METAL, pci bus id: <undefined>)\n"
     ]
    }
   ],
   "source": [
    "model = Sequential()\n",
    "\n",
    "if depth == \"TripleGRU\":\n",
    "    model.add(\n",
    "        GRU(\n",
    "            units = hiddenState,\n",
    "            input_length = trainX.shape[1],\n",
    "            input_dim = trainX.shape[2],\n",
    "            activation = activation,\n",
    "            return_sequences = True\n",
    "        )\n",
    "    )\n",
    "    model.add(\n",
    "        GRU(\n",
    "            units = hiddenState,\n",
    "            activation = activation,\n",
    "            return_sequences = True\n",
    "        )\n",
    "    )\n",
    "    model.add(\n",
    "        GRU(\n",
    "            units = hiddenState,\n",
    "            activation = activation\n",
    "        )\n",
    "    )\n",
    "    \n",
    "    model.add(Dense(6))\n",
    "    \n",
    "elif depth == \"DoubleGRU\":\n",
    "    model.add(\n",
    "        GRU(\n",
    "            units = hiddenState,\n",
    "            input_length = trainX.shape[1],\n",
    "            input_dim = trainX.shape[2],\n",
    "            activation = activation,\n",
    "            return_sequences = True\n",
    "        )\n",
    "    )\n",
    "    model.add(\n",
    "        GRU(\n",
    "            units = hiddenState,\n",
    "            activation = activation\n",
    "        )\n",
    "    )\n",
    "    \n",
    "    model.add(Dense(6))\n",
    "elif depth == \"SingleGRU\":\n",
    "    model.add(\n",
    "    GRU(\n",
    "        units = hiddenState,\n",
    "        input_length = trainX.shape[1],\n",
    "        input_dim = trainX.shape[2],\n",
    "        activation = activation\n",
    "        )\n",
    "    )\n",
    "    model.add(Dense(6))\n",
    "\n",
    "model.summary()"
   ]
  },
  {
   "cell_type": "markdown",
   "id": "9e77d196",
   "metadata": {},
   "source": [
    "#### Model Complie"
   ]
  },
  {
   "cell_type": "code",
   "execution_count": 9,
   "id": "ee7eafae",
   "metadata": {},
   "outputs": [],
   "source": [
    "model.compile(\n",
    "    loss = loss,\n",
    "    optimizer = optimizer,\n",
    "    metrics = [\"mae\"]\n",
    ")"
   ]
  },
  {
   "cell_type": "markdown",
   "id": "4de53be4",
   "metadata": {},
   "source": [
    "#### Model Training"
   ]
  },
  {
   "cell_type": "code",
   "execution_count": 10,
   "id": "08fb9d38",
   "metadata": {
    "scrolled": false
   },
   "outputs": [
    {
     "name": "stdout",
     "output_type": "stream",
     "text": [
      "Epoch 1/100\n"
     ]
    },
    {
     "name": "stderr",
     "output_type": "stream",
     "text": [
      "2023-01-05 02:49:34.216829: W tensorflow/core/platform/profile_utils/cpu_utils.cc:128] Failed to get CPU frequency: 0 Hz\n",
      "2023-01-05 02:49:34.821958: I tensorflow/core/grappler/optimizers/custom_graph_optimizer_registry.cc:113] Plugin optimizer for device_type GPU is enabled.\n",
      "2023-01-05 02:49:34.916230: I tensorflow/core/grappler/optimizers/custom_graph_optimizer_registry.cc:113] Plugin optimizer for device_type GPU is enabled.\n",
      "2023-01-05 02:49:35.016357: I tensorflow/core/grappler/optimizers/custom_graph_optimizer_registry.cc:113] Plugin optimizer for device_type GPU is enabled.\n"
     ]
    },
    {
     "name": "stdout",
     "output_type": "stream",
     "text": [
      "37/37 [==============================] - 1s 10ms/step - loss: 0.0555 - mae: 0.1392\n",
      "Epoch 2/100\n",
      "37/37 [==============================] - 0s 8ms/step - loss: 0.0052 - mae: 0.0505\n",
      "Epoch 3/100\n",
      "37/37 [==============================] - 0s 9ms/step - loss: 0.0010 - mae: 0.0188\n",
      "Epoch 4/100\n",
      "37/37 [==============================] - 0s 8ms/step - loss: 8.6092e-04 - mae: 0.0165\n",
      "Epoch 5/100\n",
      "37/37 [==============================] - 0s 9ms/step - loss: 7.7626e-04 - mae: 0.0153\n",
      "Epoch 6/100\n",
      "37/37 [==============================] - 0s 9ms/step - loss: 7.1368e-04 - mae: 0.0145\n",
      "Epoch 7/100\n",
      "37/37 [==============================] - 0s 8ms/step - loss: 6.8538e-04 - mae: 0.0141\n",
      "Epoch 8/100\n",
      "37/37 [==============================] - 0s 8ms/step - loss: 6.3642e-04 - mae: 0.0130\n",
      "Epoch 9/100\n",
      "37/37 [==============================] - 0s 9ms/step - loss: 6.1848e-04 - mae: 0.0126\n",
      "Epoch 10/100\n",
      "37/37 [==============================] - 0s 8ms/step - loss: 6.0334e-04 - mae: 0.0122\n",
      "Epoch 11/100\n",
      "37/37 [==============================] - 0s 8ms/step - loss: 5.9160e-04 - mae: 0.0118\n",
      "Epoch 12/100\n",
      "37/37 [==============================] - 0s 8ms/step - loss: 5.9046e-04 - mae: 0.0118\n",
      "Epoch 13/100\n",
      "37/37 [==============================] - 0s 8ms/step - loss: 5.7639e-04 - mae: 0.0115\n",
      "Epoch 14/100\n",
      "37/37 [==============================] - 0s 8ms/step - loss: 5.7596e-04 - mae: 0.0115\n",
      "Epoch 15/100\n",
      "37/37 [==============================] - 0s 8ms/step - loss: 5.6766e-04 - mae: 0.0112\n",
      "Epoch 16/100\n",
      "37/37 [==============================] - 0s 8ms/step - loss: 5.7372e-04 - mae: 0.0114\n",
      "Epoch 17/100\n",
      "37/37 [==============================] - 0s 8ms/step - loss: 5.6729e-04 - mae: 0.0112\n",
      "Epoch 18/100\n",
      "37/37 [==============================] - 0s 8ms/step - loss: 5.6470e-04 - mae: 0.0111\n",
      "Epoch 19/100\n",
      "37/37 [==============================] - 0s 8ms/step - loss: 5.5554e-04 - mae: 0.0109\n",
      "Epoch 20/100\n",
      "37/37 [==============================] - 0s 8ms/step - loss: 5.5987e-04 - mae: 0.0112\n",
      "Epoch 21/100\n",
      "37/37 [==============================] - 0s 8ms/step - loss: 5.4672e-04 - mae: 0.0108\n",
      "Epoch 22/100\n",
      "37/37 [==============================] - 0s 8ms/step - loss: 5.4703e-04 - mae: 0.0108\n",
      "Epoch 23/100\n",
      "37/37 [==============================] - 0s 8ms/step - loss: 5.4347e-04 - mae: 0.0107\n",
      "Epoch 24/100\n",
      "37/37 [==============================] - 0s 8ms/step - loss: 5.4185e-04 - mae: 0.0107\n",
      "Epoch 25/100\n",
      "37/37 [==============================] - 0s 8ms/step - loss: 5.3979e-04 - mae: 0.0106\n",
      "Epoch 26/100\n",
      "37/37 [==============================] - 0s 8ms/step - loss: 5.3666e-04 - mae: 0.0106\n",
      "Epoch 27/100\n",
      "37/37 [==============================] - 0s 8ms/step - loss: 5.4235e-04 - mae: 0.0108\n",
      "Epoch 28/100\n",
      "37/37 [==============================] - 0s 8ms/step - loss: 5.4485e-04 - mae: 0.0108\n",
      "Epoch 29/100\n",
      "37/37 [==============================] - 0s 8ms/step - loss: 5.7645e-04 - mae: 0.0118\n",
      "Epoch 30/100\n",
      "37/37 [==============================] - 0s 8ms/step - loss: 5.3103e-04 - mae: 0.0105\n",
      "Epoch 31/100\n",
      "37/37 [==============================] - 0s 8ms/step - loss: 5.3351e-04 - mae: 0.0106\n",
      "Epoch 32/100\n",
      "37/37 [==============================] - 0s 9ms/step - loss: 5.3741e-04 - mae: 0.0106\n",
      "Epoch 33/100\n",
      "37/37 [==============================] - 0s 8ms/step - loss: 5.2387e-04 - mae: 0.0103\n",
      "Epoch 34/100\n",
      "37/37 [==============================] - 0s 8ms/step - loss: 5.3032e-04 - mae: 0.0104\n",
      "Epoch 35/100\n",
      "37/37 [==============================] - 0s 8ms/step - loss: 5.2071e-04 - mae: 0.0103\n",
      "Epoch 36/100\n",
      "37/37 [==============================] - 0s 8ms/step - loss: 5.3538e-04 - mae: 0.0107\n",
      "Epoch 37/100\n",
      "37/37 [==============================] - 0s 8ms/step - loss: 5.2216e-04 - mae: 0.0104\n",
      "Epoch 38/100\n",
      "37/37 [==============================] - 0s 8ms/step - loss: 5.3140e-04 - mae: 0.0106\n",
      "Epoch 39/100\n",
      "37/37 [==============================] - 0s 8ms/step - loss: 5.2578e-04 - mae: 0.0106\n",
      "Epoch 40/100\n",
      "37/37 [==============================] - 0s 8ms/step - loss: 5.1847e-04 - mae: 0.0102\n",
      "Epoch 41/100\n",
      "37/37 [==============================] - 0s 8ms/step - loss: 5.1867e-04 - mae: 0.0102\n",
      "Epoch 42/100\n",
      "37/37 [==============================] - 0s 8ms/step - loss: 5.2060e-04 - mae: 0.0104\n",
      "Epoch 43/100\n",
      "37/37 [==============================] - 0s 8ms/step - loss: 5.2070e-04 - mae: 0.0103\n",
      "Epoch 44/100\n",
      "37/37 [==============================] - 0s 8ms/step - loss: 5.1409e-04 - mae: 0.0102\n",
      "Epoch 45/100\n",
      "37/37 [==============================] - 0s 8ms/step - loss: 5.1498e-04 - mae: 0.0101\n",
      "Epoch 46/100\n",
      "37/37 [==============================] - 0s 8ms/step - loss: 5.0833e-04 - mae: 0.0100\n",
      "Epoch 47/100\n",
      "37/37 [==============================] - 0s 8ms/step - loss: 5.1061e-04 - mae: 0.0102\n",
      "Epoch 48/100\n",
      "37/37 [==============================] - 0s 8ms/step - loss: 5.0888e-04 - mae: 0.0101\n",
      "Epoch 49/100\n",
      "37/37 [==============================] - 0s 8ms/step - loss: 5.0481e-04 - mae: 0.0100\n",
      "Epoch 50/100\n",
      "37/37 [==============================] - 0s 8ms/step - loss: 5.2046e-04 - mae: 0.0104\n",
      "Epoch 51/100\n",
      "37/37 [==============================] - 0s 8ms/step - loss: 5.1740e-04 - mae: 0.0104\n",
      "Epoch 52/100\n",
      "37/37 [==============================] - 0s 8ms/step - loss: 5.1833e-04 - mae: 0.0104\n",
      "Epoch 53/100\n",
      "37/37 [==============================] - 0s 8ms/step - loss: 5.1942e-04 - mae: 0.0107\n",
      "Epoch 54/100\n",
      "37/37 [==============================] - 0s 8ms/step - loss: 5.1217e-04 - mae: 0.0104\n",
      "Epoch 55/100\n",
      "37/37 [==============================] - 0s 8ms/step - loss: 5.0884e-04 - mae: 0.0102\n",
      "Epoch 56/100\n",
      "37/37 [==============================] - 0s 8ms/step - loss: 4.9865e-04 - mae: 0.0099\n",
      "Epoch 57/100\n",
      "37/37 [==============================] - 0s 8ms/step - loss: 4.9698e-04 - mae: 0.0098\n",
      "Epoch 58/100\n",
      "37/37 [==============================] - 0s 8ms/step - loss: 5.0792e-04 - mae: 0.0102\n",
      "Epoch 59/100\n",
      "37/37 [==============================] - 0s 8ms/step - loss: 5.0128e-04 - mae: 0.0100\n",
      "Epoch 60/100\n",
      "37/37 [==============================] - 0s 8ms/step - loss: 5.0342e-04 - mae: 0.0100\n",
      "Epoch 61/100\n",
      "37/37 [==============================] - 0s 8ms/step - loss: 4.9468e-04 - mae: 0.0098\n",
      "Epoch 62/100\n",
      "37/37 [==============================] - 0s 8ms/step - loss: 5.0325e-04 - mae: 0.0102\n",
      "Epoch 63/100\n",
      "37/37 [==============================] - 0s 9ms/step - loss: 5.0076e-04 - mae: 0.0100\n",
      "Epoch 64/100\n",
      "37/37 [==============================] - 0s 8ms/step - loss: 5.1199e-04 - mae: 0.0106\n",
      "Epoch 65/100\n",
      "37/37 [==============================] - 0s 8ms/step - loss: 4.9282e-04 - mae: 0.0098\n",
      "Epoch 66/100\n",
      "37/37 [==============================] - 0s 9ms/step - loss: 5.0861e-04 - mae: 0.0104\n",
      "Epoch 67/100\n",
      "37/37 [==============================] - 0s 8ms/step - loss: 4.9525e-04 - mae: 0.0099\n",
      "Epoch 68/100\n",
      "37/37 [==============================] - 0s 8ms/step - loss: 5.2079e-04 - mae: 0.0109\n",
      "Epoch 69/100\n",
      "37/37 [==============================] - 0s 8ms/step - loss: 4.9294e-04 - mae: 0.0099\n",
      "Epoch 70/100\n",
      "37/37 [==============================] - 0s 8ms/step - loss: 5.1149e-04 - mae: 0.0108\n",
      "Epoch 71/100\n",
      "37/37 [==============================] - 0s 8ms/step - loss: 4.9063e-04 - mae: 0.0097\n",
      "Epoch 72/100\n",
      "37/37 [==============================] - 0s 8ms/step - loss: 5.0127e-04 - mae: 0.0102\n",
      "Epoch 73/100\n",
      "37/37 [==============================] - 0s 8ms/step - loss: 4.9122e-04 - mae: 0.0099\n",
      "Epoch 74/100\n",
      "37/37 [==============================] - 0s 9ms/step - loss: 4.9208e-04 - mae: 0.0099\n",
      "Epoch 75/100\n",
      "37/37 [==============================] - 0s 8ms/step - loss: 4.8570e-04 - mae: 0.0097\n",
      "Epoch 76/100\n",
      "37/37 [==============================] - 0s 8ms/step - loss: 4.9267e-04 - mae: 0.0100\n",
      "Epoch 77/100\n",
      "37/37 [==============================] - 0s 8ms/step - loss: 4.9453e-04 - mae: 0.0098\n",
      "Epoch 78/100\n",
      "37/37 [==============================] - 0s 9ms/step - loss: 4.8599e-04 - mae: 0.0099\n",
      "Epoch 79/100\n",
      "37/37 [==============================] - 0s 8ms/step - loss: 4.8061e-04 - mae: 0.0096\n",
      "Epoch 80/100\n",
      "37/37 [==============================] - 0s 9ms/step - loss: 4.8165e-04 - mae: 0.0096\n",
      "Epoch 81/100\n",
      "37/37 [==============================] - 0s 9ms/step - loss: 4.9031e-04 - mae: 0.0101\n",
      "Epoch 82/100\n",
      "37/37 [==============================] - 0s 8ms/step - loss: 4.8137e-04 - mae: 0.0097\n",
      "Epoch 83/100\n",
      "37/37 [==============================] - 0s 9ms/step - loss: 4.9006e-04 - mae: 0.0101\n",
      "Epoch 84/100\n"
     ]
    },
    {
     "name": "stdout",
     "output_type": "stream",
     "text": [
      "37/37 [==============================] - 0s 8ms/step - loss: 5.3084e-04 - mae: 0.0109\n",
      "Epoch 85/100\n",
      "37/37 [==============================] - 0s 8ms/step - loss: 4.7888e-04 - mae: 0.0096\n",
      "Epoch 86/100\n",
      "37/37 [==============================] - 0s 8ms/step - loss: 4.7684e-04 - mae: 0.0096\n",
      "Epoch 87/100\n",
      "37/37 [==============================] - 0s 8ms/step - loss: 4.9590e-04 - mae: 0.0099\n",
      "Epoch 88/100\n",
      "37/37 [==============================] - 0s 8ms/step - loss: 4.8416e-04 - mae: 0.0099\n",
      "Epoch 89/100\n",
      "37/37 [==============================] - 0s 8ms/step - loss: 4.7454e-04 - mae: 0.0096\n",
      "Epoch 90/100\n",
      "37/37 [==============================] - 0s 8ms/step - loss: 4.7341e-04 - mae: 0.0095\n",
      "Epoch 91/100\n",
      "37/37 [==============================] - 0s 8ms/step - loss: 4.7096e-04 - mae: 0.0094\n",
      "Epoch 92/100\n",
      "37/37 [==============================] - 0s 8ms/step - loss: 4.7690e-04 - mae: 0.0096\n",
      "Epoch 93/100\n",
      "37/37 [==============================] - 0s 8ms/step - loss: 4.7247e-04 - mae: 0.0096\n",
      "Epoch 94/100\n",
      "37/37 [==============================] - 0s 8ms/step - loss: 4.7910e-04 - mae: 0.0098\n",
      "Epoch 95/100\n",
      "37/37 [==============================] - 0s 8ms/step - loss: 4.7101e-04 - mae: 0.0095\n",
      "Epoch 96/100\n",
      "37/37 [==============================] - 0s 8ms/step - loss: 4.6975e-04 - mae: 0.0094\n",
      "Epoch 97/100\n",
      "37/37 [==============================] - 0s 8ms/step - loss: 4.8179e-04 - mae: 0.0098\n",
      "Epoch 98/100\n",
      "37/37 [==============================] - 0s 8ms/step - loss: 4.7569e-04 - mae: 0.0098\n",
      "Epoch 99/100\n",
      "37/37 [==============================] - 0s 8ms/step - loss: 4.7623e-04 - mae: 0.0095\n",
      "Epoch 100/100\n",
      "37/37 [==============================] - 0s 8ms/step - loss: 4.7573e-04 - mae: 0.0097\n"
     ]
    }
   ],
   "source": [
    "fitStartTime = time.time()\n",
    "history = model.fit(\n",
    "    trainX,\n",
    "    trainY,\n",
    "    epochs = epochs,\n",
    "    batch_size = batchSize\n",
    ")\n",
    "fitEndTime = time.time()"
   ]
  },
  {
   "cell_type": "markdown",
   "id": "ca918f42",
   "metadata": {},
   "source": [
    "#### 시간 및 평가 기록"
   ]
  },
  {
   "cell_type": "code",
   "execution_count": 11,
   "id": "9260b57f",
   "metadata": {},
   "outputs": [
    {
     "name": "stdout",
     "output_type": "stream",
     "text": [
      "5/5 [==============================] - 0s 5ms/step - loss: 6.7406e-04 - mae: 0.0198\n"
     ]
    },
    {
     "name": "stderr",
     "output_type": "stream",
     "text": [
      "2023-01-05 02:50:06.463713: I tensorflow/core/grappler/optimizers/custom_graph_optimizer_registry.cc:113] Plugin optimizer for device_type GPU is enabled.\n",
      "2023-01-05 02:50:06.495117: I tensorflow/core/grappler/optimizers/custom_graph_optimizer_registry.cc:113] Plugin optimizer for device_type GPU is enabled.\n"
     ]
    }
   ],
   "source": [
    "fitTime = fitEndTime - fitStartTime\n",
    "score = model.evaluate(testX, testY[:-30])\n",
    "\n",
    "f = open(\"result.txt\", \"a\")\n",
    "f.write(f\"{resultComment}\\n모델 학습 시간: {fitTime:.3} sec\\n평가 손실: {score[0]}\\n\\n\")\n",
    "f.close()"
   ]
  },
  {
   "cell_type": "code",
   "execution_count": 12,
   "id": "84703a93",
   "metadata": {
    "scrolled": false
   },
   "outputs": [
    {
     "data": {
      "text/plain": [
       "'모델 학습 시간: 32.1 sec'"
      ]
     },
     "execution_count": 12,
     "metadata": {},
     "output_type": "execute_result"
    }
   ],
   "source": [
    "f\"모델 학습 시간: {fitTime:.3} sec\""
   ]
  },
  {
   "cell_type": "code",
   "execution_count": 13,
   "id": "4ef6964d",
   "metadata": {},
   "outputs": [
    {
     "data": {
      "text/plain": [
       "'평가 손실: 0.0006740561802871525'"
      ]
     },
     "execution_count": 13,
     "metadata": {},
     "output_type": "execute_result"
    }
   ],
   "source": [
    "f\"평가 손실: {score[0]}\""
   ]
  },
  {
   "cell_type": "markdown",
   "id": "1a858bad",
   "metadata": {},
   "source": [
    "#### 예측"
   ]
  },
  {
   "cell_type": "code",
   "execution_count": 14,
   "id": "21f11463",
   "metadata": {},
   "outputs": [
    {
     "name": "stdout",
     "output_type": "stream",
     "text": [
      "36/73 [=============>................] - ETA: 0s"
     ]
    },
    {
     "name": "stderr",
     "output_type": "stream",
     "text": [
      "2023-01-05 02:50:06.692805: I tensorflow/core/grappler/optimizers/custom_graph_optimizer_registry.cc:113] Plugin optimizer for device_type GPU is enabled.\n",
      "2023-01-05 02:50:06.721141: I tensorflow/core/grappler/optimizers/custom_graph_optimizer_registry.cc:113] Plugin optimizer for device_type GPU is enabled.\n"
     ]
    },
    {
     "name": "stdout",
     "output_type": "stream",
     "text": [
      "73/73 [==============================] - 0s 3ms/step\n",
      "5/5 [==============================] - 0s 3ms/step\n"
     ]
    }
   ],
   "source": [
    "trainPrediction = scaler.inverse_transform(model.predict(trainX))\n",
    "testPrediction = scaler.inverse_transform(model.predict(testX))\n",
    "\n",
    "inversingTrainY = scaler.inverse_transform(trainY)\n",
    "inversingTestY = scaler.inverse_transform(testY)"
   ]
  },
  {
   "cell_type": "markdown",
   "id": "980a5688",
   "metadata": {},
   "source": [
    "### 그래프"
   ]
  },
  {
   "cell_type": "markdown",
   "id": "9a47448f",
   "metadata": {},
   "source": [
    "#### Loss"
   ]
  },
  {
   "cell_type": "code",
   "execution_count": 15,
   "id": "e0cbdfbf",
   "metadata": {},
   "outputs": [
    {
     "data": {
      "image/png": "[encoded data removed]",
      "text/plain": [
       "<Figure size 640x480 with 1 Axes>"
      ]
     },
     "metadata": {},
     "output_type": "display_data"
    }
   ],
   "source": [
    "loss = history.history[\"loss\"]\n",
    "plt.title(\"Loss\")\n",
    "plt.plot(loss, label=\"loss\")\n",
    "plt.grid(True)\n",
    "plt.savefig(f\"{fileSavePath}/Loss.png\")\n",
    "plt.legend()\n",
    "plt.show()"
   ]
  },
  {
   "cell_type": "markdown",
   "id": "6d850d7d",
   "metadata": {},
   "source": [
    "#### Train Data Graph"
   ]
  },
  {
   "cell_type": "code",
   "execution_count": 16,
   "id": "7ecbefab",
   "metadata": {},
   "outputs": [
    {
     "data": {
      "image/png": "[encoded data removed]",
      "text/plain": [
       "<Figure size 640x480 with 1 Axes>"
      ]
     },
     "metadata": {},
     "output_type": "display_data"
    }
   ],
   "source": [
    "plt.title(trainGraphTitle)\n",
    "plt.plot(inversingTrainY[:, 4], label=\"Train ADJ.Close\")\n",
    "plt.plot(trainPrediction[:, 4], label=\"Predict ADJ.Close\")\n",
    "plt.grid(True)\n",
    "plt.savefig(f\"{fileSavePath}/Train.png\")\n",
    "plt.xlabel('Day')\n",
    "plt.ylabel('Price')\n",
    "plt.legend()\n",
    "plt.show()"
   ]
  },
  {
   "cell_type": "markdown",
   "id": "9f26326e",
   "metadata": {},
   "source": [
    "#### Test Data Graph"
   ]
  },
  {
   "cell_type": "code",
   "execution_count": 17,
   "id": "0a50d286",
   "metadata": {},
   "outputs": [],
   "source": [
    "# plt.title(testGraphTitle)\n",
    "# plt.plot(inversingTestY[:, 4], label=\"Test ADJ.Close\")\n",
    "# plt.plot(testPrediction[:, 4], label=\"Predict ADJ.Close\")\n",
    "# plt.grid(True)\n",
    "# plt.xlabel('Day')\n",
    "# plt.ylabel('Price')\n",
    "# plt.axvline(x=len(testY)-30, color='green', linestyle='-', linewidth=1)\n",
    "# plt.legend()\n",
    "# plt.savefig(f\"{fileSavePath}/Test.png\")\n",
    "# plt.show()"
   ]
  },
  {
   "cell_type": "markdown",
   "id": "e77355ca",
   "metadata": {},
   "source": [
    "#### Test Data + 30일 후 예측"
   ]
  },
  {
   "cell_type": "code",
   "execution_count": 47,
   "id": "3747c7d3",
   "metadata": {
    "scrolled": false
   },
   "outputs": [
    {
     "name": "stdout",
     "output_type": "stream",
     "text": [
      "5/5 [==============================] - 0s 6ms/step\n",
      "6/6 [==============================] - 0s 4ms/step\n",
      "6/6 [==============================] - 0s 4ms/step\n",
      "6/6 [==============================] - 0s 4ms/step\n",
      "6/6 [==============================] - 0s 3ms/step\n",
      "6/6 [==============================] - 0s 4ms/step\n",
      "6/6 [==============================] - 0s 4ms/step\n",
      "6/6 [==============================] - 0s 4ms/step\n",
      "6/6 [==============================] - 0s 4ms/step\n",
      "6/6 [==============================] - 0s 4ms/step\n",
      "6/6 [==============================] - 0s 4ms/step\n",
      "6/6 [==============================] - 0s 4ms/step\n",
      "6/6 [==============================] - 0s 4ms/step\n",
      "6/6 [==============================] - 0s 4ms/step\n",
      "6/6 [==============================] - 0s 4ms/step\n",
      "6/6 [==============================] - 0s 4ms/step\n",
      "6/6 [==============================] - 0s 4ms/step\n",
      "6/6 [==============================] - 0s 4ms/step\n",
      "6/6 [==============================] - 0s 4ms/step\n",
      "6/6 [==============================] - 0s 4ms/step\n",
      "6/6 [==============================] - 0s 4ms/step\n",
      "6/6 [==============================] - 0s 5ms/step\n",
      "6/6 [==============================] - 0s 5ms/step\n",
      "6/6 [==============================] - 0s 4ms/step\n",
      "6/6 [==============================] - 0s 4ms/step\n",
      "6/6 [==============================] - 0s 5ms/step\n",
      "6/6 [==============================] - 0s 4ms/step\n",
      "6/6 [==============================] - 0s 4ms/step\n",
      "6/6 [==============================] - 0s 4ms/step\n",
      "6/6 [==============================] - 0s 4ms/step\n"
     ]
    }
   ],
   "source": [
    "thirtyPredict = testX\n",
    "\n",
    "for _ in range(30):\n",
    "    currentPredict = model.predict(thirtyPredict)\n",
    "    recentPredict = np.reshape(currentPredict[-1], (1, currentPredict[-1].shape[0]))\n",
    "    newPredictStep = thirtyPredict[-1, 1:]\n",
    "    nextPredict = np.append(newPredictStep, recentPredict, axis = 0)\n",
    "    nextPredict = np.reshape(nextPredict, (1, nextPredict.shape[0], nextPredict.shape[1]))\n",
    "    thirtyPredict = np.append(thirtyPredict, nextPredict, axis = 0)"
   ]
  },
  {
   "cell_type": "markdown",
   "id": "f9fdf304",
   "metadata": {},
   "source": [
    "#### Test Data + 30일 예측 그래프"
   ]
  },
  {
   "cell_type": "code",
   "execution_count": 46,
   "id": "fefff00c",
   "metadata": {},
   "outputs": [
    {
     "name": "stdout",
     "output_type": "stream",
     "text": [
      "6/6 [==============================] - 0s 6ms/step\n"
     ]
    },
    {
     "data": {
      "image/png": "[encoded data removed]",
      "text/plain": [
       "<Figure size 640x480 with 1 Axes>"
      ]
     },
     "metadata": {},
     "output_type": "display_data"
    }
   ],
   "source": [
    "thirtyDaysAfterpredict = scaler.inverse_transform(model.predict(thirtyPredict))\n",
    "\n",
    "plt.title(\"30 Days After\")\n",
    "plt.plot(inversingTestY[:, 4], label=\"Test ADJ.Close\")\n",
    "plt.plot(thirtyDaysAfterpredict[:, 4], label=\"30 Days predict ADJ.Close\")\n",
    "plt.grid(True)\n",
    "plt.xlabel('Day')\n",
    "plt.ylabel('Price')\n",
    "plt.axvline(x=len(testY)-30, color='green', linestyle='-', linewidth=1)\n",
    "plt.legend()\n",
    "plt.savefig(f\"{fileSavePath}/30Predict.png\")\n",
    "plt.show()"
   ]
  }
 ],
 "metadata": {
  "kernelspec": {
   "display_name": "Python 3 (ipykernel)",
   "language": "python",
   "name": "python3"
  },
  "language_info": {
   "codemirror_mode": {
    "name": "ipython",
    "version": 3
   },
   "file_extension": ".py",
   "mimetype": "text/x-python",
   "name": "python",
   "nbconvert_exporter": "python",
   "pygments_lexer": "ipython3",
   "version": "3.9.15"
  }
 },
 "nbformat": 4,
 "nbformat_minor": 5
}

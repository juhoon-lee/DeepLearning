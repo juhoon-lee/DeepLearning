{
 "cells": [
  {
   "cell_type": "markdown",
   "id": "302e6018",
   "metadata": {},
   "source": [
    "#### 패키지 Import"
   ]
  },
  {
   "cell_type": "code",
   "execution_count": 1,
   "id": "1f08c128",
   "metadata": {},
   "outputs": [],
   "source": [
    "import numpy as np\n",
    "import pandas as pd\n",
    "import matplotlib.pyplot as plt\n",
    "import time\n",
    "from sklearn.preprocessing import MinMaxScaler\n",
    "from keras.models import Sequential\n",
    "from keras.layers import GRU, Dense\n",
    "from keras.callbacks import EarlyStopping, ModelCheckpoint"
   ]
  },
  {
   "cell_type": "markdown",
   "id": "49e7140b",
   "metadata": {},
   "source": [
    "#### 전역변수 설정"
   ]
  },
  {
   "cell_type": "code",
   "execution_count": 2,
   "id": "6da7a8f9",
   "metadata": {},
   "outputs": [],
   "source": [
    "trainGraphTitle = \"Train Data\"\n",
    "testGraphTitle = \"Test Data\"\n",
    "checkpointPath = \"./weightCheckpoint/bestParam.hdf5\"\n",
    "loss = \"mse\" \n",
    "\n",
    "resultComment = \"TimeStep - 10\"\n",
    "fileSavePath = \"./result/TimeStep/10\"\n",
    "\n",
    "depth = \"SingleGRU\" # Default\n",
    "# depth = \"DoubleGRU\" \n",
    "# depth = \"TripleGRU\"\n",
    "\n",
    "# 변수 \"\" 가 Default\n",
    "hiddenState = 32 # units: 16 \"32\" 64\n",
    "timeStep = 10 # input_length 10 \"20\" 40\n",
    "activation = \"tanh\" # \"tanh\" sigmoid\n",
    "epochs = 100 # 50 \"100\" 200\n",
    "batchSize = 64 # 32 \"64\" 256\n",
    "dataSetYear = 10 # 5 \"10\" 40\n",
    "optimizer = \"adam\" # \"adam\" sgd\n",
    "patience = 30 # 10 \"30\" \"50\"\n",
    "\n",
    "parameters = f\"\"\"\n",
    "layer = {depth}\n",
    "hiddenState = {hiddenState}\n",
    "timeStep = {timeStep}\n",
    "activation = {activation}\n",
    "epochs = {epochs}\n",
    "batchSize = {batchSize}\n",
    "dataSetYear = {dataSetYear}\n",
    "optimizer = {optimizer}\n",
    "patience = {patience}\n",
    "\"\"\""
   ]
  },
  {
   "cell_type": "markdown",
   "id": "76e7e235",
   "metadata": {},
   "source": [
    "#### Pandas Setting"
   ]
  },
  {
   "cell_type": "code",
   "execution_count": 3,
   "id": "171b5b82",
   "metadata": {},
   "outputs": [],
   "source": [
    "pd.set_option('display.max_rows', None) # row 생략 없이 출력\n",
    "pd.set_option('display.max_columns', None) # col 생략 없이 출력"
   ]
  },
  {
   "cell_type": "markdown",
   "id": "c77fd75b",
   "metadata": {},
   "source": [
    "#### Data Load"
   ]
  },
  {
   "cell_type": "code",
   "execution_count": 4,
   "id": "33458f40",
   "metadata": {},
   "outputs": [],
   "source": [
    "apple = pd.read_csv(\"Apple_5Y.csv\")\n",
    "\n",
    "if dataSetYear == 10:\n",
    "    apple = pd.read_csv(\"Apple_10Y.csv\")\n",
    "elif dataSetYear == 40:\n",
    "    apple = pd.read_csv(\"Apple_Whole_Period.csv\")"
   ]
  },
  {
   "cell_type": "markdown",
   "id": "fb778e6d",
   "metadata": {},
   "source": [
    "#### Describe 확인"
   ]
  },
  {
   "cell_type": "code",
   "execution_count": 5,
   "id": "3da62313",
   "metadata": {
    "scrolled": true
   },
   "outputs": [
    {
     "data": {
      "text/html": [
       "<div>\n",
       "<style scoped>\n",
       "    .dataframe tbody tr th:only-of-type {\n",
       "        vertical-align: middle;\n",
       "    }\n",
       "\n",
       "    .dataframe tbody tr th {\n",
       "        vertical-align: top;\n",
       "    }\n",
       "\n",
       "    .dataframe thead th {\n",
       "        text-align: right;\n",
       "    }\n",
       "</style>\n",
       "<table border=\"1\" class=\"dataframe\">\n",
       "  <thead>\n",
       "    <tr style=\"text-align: right;\">\n",
       "      <th></th>\n",
       "      <th>Open</th>\n",
       "      <th>High</th>\n",
       "      <th>Low</th>\n",
       "      <th>Close</th>\n",
       "      <th>Adj Close</th>\n",
       "      <th>Volume</th>\n",
       "    </tr>\n",
       "  </thead>\n",
       "  <tbody>\n",
       "    <tr>\n",
       "      <th>count</th>\n",
       "      <td>2518.000000</td>\n",
       "      <td>2518.000000</td>\n",
       "      <td>2518.000000</td>\n",
       "      <td>2518.000000</td>\n",
       "      <td>2518.000000</td>\n",
       "      <td>2.518000e+03</td>\n",
       "    </tr>\n",
       "    <tr>\n",
       "      <th>mean</th>\n",
       "      <td>62.383387</td>\n",
       "      <td>63.087693</td>\n",
       "      <td>61.696664</td>\n",
       "      <td>62.416599</td>\n",
       "      <td>60.637030</td>\n",
       "      <td>1.713540e+08</td>\n",
       "    </tr>\n",
       "    <tr>\n",
       "      <th>std</th>\n",
       "      <td>48.683035</td>\n",
       "      <td>49.322128</td>\n",
       "      <td>48.051043</td>\n",
       "      <td>48.709794</td>\n",
       "      <td>49.248659</td>\n",
       "      <td>1.250498e+08</td>\n",
       "    </tr>\n",
       "    <tr>\n",
       "      <th>min</th>\n",
       "      <td>13.856071</td>\n",
       "      <td>14.271429</td>\n",
       "      <td>13.753571</td>\n",
       "      <td>13.947500</td>\n",
       "      <td>12.064585</td>\n",
       "      <td>3.519590e+07</td>\n",
       "    </tr>\n",
       "    <tr>\n",
       "      <th>25%</th>\n",
       "      <td>26.971249</td>\n",
       "      <td>27.219376</td>\n",
       "      <td>26.705000</td>\n",
       "      <td>26.983750</td>\n",
       "      <td>24.676634</td>\n",
       "      <td>9.188698e+07</td>\n",
       "    </tr>\n",
       "    <tr>\n",
       "      <th>50%</th>\n",
       "      <td>41.353750</td>\n",
       "      <td>41.872500</td>\n",
       "      <td>40.888750</td>\n",
       "      <td>41.313750</td>\n",
       "      <td>39.511671</td>\n",
       "      <td>1.301368e+08</td>\n",
       "    </tr>\n",
       "    <tr>\n",
       "      <th>75%</th>\n",
       "      <td>91.272499</td>\n",
       "      <td>92.881876</td>\n",
       "      <td>90.824377</td>\n",
       "      <td>91.526875</td>\n",
       "      <td>90.122925</td>\n",
       "      <td>2.045116e+08</td>\n",
       "    </tr>\n",
       "    <tr>\n",
       "      <th>max</th>\n",
       "      <td>182.630005</td>\n",
       "      <td>182.940002</td>\n",
       "      <td>179.119995</td>\n",
       "      <td>182.009995</td>\n",
       "      <td>180.959732</td>\n",
       "      <td>1.460852e+09</td>\n",
       "    </tr>\n",
       "  </tbody>\n",
       "</table>\n",
       "</div>"
      ],
      "text/plain": [
       "              Open         High          Low        Close    Adj Close  \\\n",
       "count  2518.000000  2518.000000  2518.000000  2518.000000  2518.000000   \n",
       "mean     62.383387    63.087693    61.696664    62.416599    60.637030   \n",
       "std      48.683035    49.322128    48.051043    48.709794    49.248659   \n",
       "min      13.856071    14.271429    13.753571    13.947500    12.064585   \n",
       "25%      26.971249    27.219376    26.705000    26.983750    24.676634   \n",
       "50%      41.353750    41.872500    40.888750    41.313750    39.511671   \n",
       "75%      91.272499    92.881876    90.824377    91.526875    90.122925   \n",
       "max     182.630005   182.940002   179.119995   182.009995   180.959732   \n",
       "\n",
       "             Volume  \n",
       "count  2.518000e+03  \n",
       "mean   1.713540e+08  \n",
       "std    1.250498e+08  \n",
       "min    3.519590e+07  \n",
       "25%    9.188698e+07  \n",
       "50%    1.301368e+08  \n",
       "75%    2.045116e+08  \n",
       "max    1.460852e+09  "
      ]
     },
     "execution_count": 5,
     "metadata": {},
     "output_type": "execute_result"
    }
   ],
   "source": [
    "apple.describe()"
   ]
  },
  {
   "cell_type": "markdown",
   "id": "58bf3bfa",
   "metadata": {},
   "source": [
    "#### trainData, testData 가공하는 함수"
   ]
  },
  {
   "cell_type": "code",
   "execution_count": 6,
   "id": "2a0c99c3",
   "metadata": {},
   "outputs": [],
   "source": [
    "def transformData(data: [[float]]):\n",
    "    # 날짜 제외\n",
    "    data = data.drop(columns=[\"Date\"])\n",
    "\n",
    "    # 데이터 분리 test: 200개와 나머지\n",
    "    trainSet = data[ : -200]\n",
    "    testSet = data[-200 : ]\n",
    "    \n",
    "    # 데이터 0~1로 정규화\n",
    "    sc = MinMaxScaler(feature_range=(0, 1)) \n",
    "    sc.fit(trainSet)\n",
    "    trainSet = sc.transform(trainSet)\n",
    "    testSet = sc.transform(testSet)\n",
    "    \n",
    "    # trainX, trainY, testX, testY 분리\n",
    "    def parsingData(dataSet: [[float]]) -> ([[[float]]], [[float]]):\n",
    "        dataX, dataY = [], []\n",
    "        for index in range(len(dataSet) - timeStep):\n",
    "            temp = []\n",
    "            for step in range(timeStep):\n",
    "                temp.append(dataSet[index + step])\n",
    "            dataX.append(temp)\n",
    "            dataY.append(dataSet[index + timeStep])\n",
    "\n",
    "        return np.array(dataX), np.array(dataY)\n",
    "\n",
    "    trainDataX, trainDataY = parsingData(trainSet)\n",
    "    testDataX, testDataY = parsingData(testSet)\n",
    "    \n",
    "    \n",
    "    return trainDataX, trainDataY, testDataX[:-30], testDataY, sc"
   ]
  },
  {
   "cell_type": "markdown",
   "id": "8075389b",
   "metadata": {},
   "source": [
    "#### Data Parsing"
   ]
  },
  {
   "cell_type": "code",
   "execution_count": 7,
   "id": "a8d6ba5d",
   "metadata": {
    "scrolled": true
   },
   "outputs": [],
   "source": [
    "trainX, trainY, testX, testY, scaler = transformData(apple)"
   ]
  },
  {
   "cell_type": "markdown",
   "id": "22d1cb98",
   "metadata": {},
   "source": [
    "#### Model Implementation"
   ]
  },
  {
   "cell_type": "code",
   "execution_count": 8,
   "id": "587777f1",
   "metadata": {},
   "outputs": [
    {
     "name": "stdout",
     "output_type": "stream",
     "text": [
      "Metal device set to: Apple M1\n",
      "Model: \"sequential\"\n",
      "_________________________________________________________________\n",
      " Layer (type)                Output Shape              Param #   \n",
      "=================================================================\n",
      " gru (GRU)                   (None, 32)                3840      \n",
      "                                                                 \n",
      " dense (Dense)               (None, 6)                 198       \n",
      "                                                                 \n",
      "=================================================================\n",
      "Total params: 4,038\n",
      "Trainable params: 4,038\n",
      "Non-trainable params: 0\n",
      "_________________________________________________________________\n"
     ]
    },
    {
     "name": "stderr",
     "output_type": "stream",
     "text": [
      "2023-01-05 11:35:14.654464: I tensorflow/core/common_runtime/pluggable_device/pluggable_device_factory.cc:305] Could not identify NUMA node of platform GPU ID 0, defaulting to 0. Your kernel may not have been built with NUMA support.\n",
      "2023-01-05 11:35:14.654633: I tensorflow/core/common_runtime/pluggable_device/pluggable_device_factory.cc:271] Created TensorFlow device (/job:localhost/replica:0/task:0/device:GPU:0 with 0 MB memory) -> physical PluggableDevice (device: 0, name: METAL, pci bus id: <undefined>)\n"
     ]
    }
   ],
   "source": [
    "model = Sequential()\n",
    "\n",
    "if depth == \"TripleGRU\":\n",
    "    model.add(\n",
    "        GRU(\n",
    "            units = hiddenState,\n",
    "            input_length = trainX.shape[1],\n",
    "            input_dim = trainX.shape[2],\n",
    "            activation = activation,\n",
    "            return_sequences = True\n",
    "        )\n",
    "    )\n",
    "    model.add(\n",
    "        GRU(\n",
    "            units = hiddenState,\n",
    "            activation = activation,\n",
    "            return_sequences = True\n",
    "        )\n",
    "    )\n",
    "    model.add(\n",
    "        GRU(\n",
    "            units = hiddenState,\n",
    "            activation = activation\n",
    "        )\n",
    "    )\n",
    "    \n",
    "    model.add(Dense(6))\n",
    "    \n",
    "elif depth == \"DoubleGRU\":\n",
    "    model.add(\n",
    "        GRU(\n",
    "            units = hiddenState,\n",
    "            input_length = trainX.shape[1],\n",
    "            input_dim = trainX.shape[2],\n",
    "            activation = activation,\n",
    "            return_sequences = True\n",
    "        )\n",
    "    )\n",
    "    model.add(\n",
    "        GRU(\n",
    "            units = hiddenState,\n",
    "            activation = activation\n",
    "        )\n",
    "    )\n",
    "    \n",
    "    model.add(Dense(6))\n",
    "elif depth == \"SingleGRU\":\n",
    "    model.add(\n",
    "    GRU(\n",
    "        units = hiddenState,\n",
    "        input_length = trainX.shape[1],\n",
    "        input_dim = trainX.shape[2],\n",
    "        activation = activation\n",
    "        )\n",
    "    )\n",
    "    model.add(Dense(6))\n",
    "\n",
    "model.summary()"
   ]
  },
  {
   "cell_type": "markdown",
   "id": "9e77d196",
   "metadata": {},
   "source": [
    "#### Model Complie"
   ]
  },
  {
   "cell_type": "code",
   "execution_count": 9,
   "id": "ee7eafae",
   "metadata": {},
   "outputs": [],
   "source": [
    "model.compile(\n",
    "    loss = loss,\n",
    "    optimizer = optimizer,\n",
    "    metrics = [\"mae\"]\n",
    ")"
   ]
  },
  {
   "cell_type": "markdown",
   "id": "4de53be4",
   "metadata": {},
   "source": [
    "#### Model Training"
   ]
  },
  {
   "cell_type": "code",
   "execution_count": 10,
   "id": "08fb9d38",
   "metadata": {
    "scrolled": false
   },
   "outputs": [
    {
     "name": "stdout",
     "output_type": "stream",
     "text": [
      "Epoch 1/100\n"
     ]
    },
    {
     "name": "stderr",
     "output_type": "stream",
     "text": [
      "2023-01-05 11:35:14.893385: W tensorflow/core/platform/profile_utils/cpu_utils.cc:128] Failed to get CPU frequency: 0 Hz\n",
      "2023-01-05 11:35:15.515382: I tensorflow/core/grappler/optimizers/custom_graph_optimizer_registry.cc:113] Plugin optimizer for device_type GPU is enabled.\n",
      "2023-01-05 11:35:15.616429: I tensorflow/core/grappler/optimizers/custom_graph_optimizer_registry.cc:113] Plugin optimizer for device_type GPU is enabled.\n"
     ]
    },
    {
     "name": "stdout",
     "output_type": "stream",
     "text": [
      "12/37 [========>.....................] - ETA: 0s - loss: 0.1135 - mae: 0.1927"
     ]
    },
    {
     "name": "stderr",
     "output_type": "stream",
     "text": [
      "2023-01-05 11:35:15.762171: I tensorflow/core/grappler/optimizers/custom_graph_optimizer_registry.cc:113] Plugin optimizer for device_type GPU is enabled.\n"
     ]
    },
    {
     "name": "stdout",
     "output_type": "stream",
     "text": [
      "37/37 [==============================] - ETA: 0s - loss: 0.0556 - mae: 0.1273\n",
      "Epoch 1: loss improved from inf to 0.05561, saving model to ./weightCheckpoint/bestParam.hdf5\n",
      "37/37 [==============================] - 1s 11ms/step - loss: 0.0556 - mae: 0.1273\n",
      "Epoch 2/100\n",
      "33/37 [=========================>....] - ETA: 0s - loss: 0.0051 - mae: 0.0552\n",
      "Epoch 2: loss improved from 0.05561 to 0.00484, saving model to ./weightCheckpoint/bestParam.hdf5\n",
      "37/37 [==============================] - 0s 9ms/step - loss: 0.0048 - mae: 0.0534\n",
      "Epoch 3/100\n",
      "32/37 [========================>.....] - ETA: 0s - loss: 0.0014 - mae: 0.0259\n",
      "Epoch 3: loss improved from 0.00484 to 0.00141, saving model to ./weightCheckpoint/bestParam.hdf5\n",
      "37/37 [==============================] - 0s 9ms/step - loss: 0.0014 - mae: 0.0256\n",
      "Epoch 4/100\n",
      "32/37 [========================>.....] - ETA: 0s - loss: 0.0011 - mae: 0.0212\n",
      "Epoch 4: loss improved from 0.00141 to 0.00108, saving model to ./weightCheckpoint/bestParam.hdf5\n",
      "37/37 [==============================] - 0s 9ms/step - loss: 0.0011 - mae: 0.0211\n",
      "Epoch 5/100\n",
      "34/37 [==========================>...] - ETA: 0s - loss: 9.3050e-04 - mae: 0.0190\n",
      "Epoch 5: loss improved from 0.00108 to 0.00093, saving model to ./weightCheckpoint/bestParam.hdf5\n",
      "37/37 [==============================] - 0s 10ms/step - loss: 9.3036e-04 - mae: 0.0190\n",
      "Epoch 6/100\n",
      "35/37 [===========================>..] - ETA: 0s - loss: 8.1204e-04 - mae: 0.0169\n",
      "Epoch 6: loss improved from 0.00093 to 0.00082, saving model to ./weightCheckpoint/bestParam.hdf5\n",
      "37/37 [==============================] - 0s 13ms/step - loss: 8.2292e-04 - mae: 0.0170\n",
      "Epoch 7/100\n",
      "33/37 [=========================>....] - ETA: 0s - loss: 8.0144e-04 - mae: 0.0169\n",
      "Epoch 7: loss improved from 0.00082 to 0.00081, saving model to ./weightCheckpoint/bestParam.hdf5\n",
      "37/37 [==============================] - 0s 12ms/step - loss: 8.0757e-04 - mae: 0.0169\n",
      "Epoch 8/100\n",
      "33/37 [=========================>....] - ETA: 0s - loss: 7.1138e-04 - mae: 0.0148\n",
      "Epoch 8: loss improved from 0.00081 to 0.00070, saving model to ./weightCheckpoint/bestParam.hdf5\n",
      "37/37 [==============================] - 0s 11ms/step - loss: 7.0151e-04 - mae: 0.0147\n",
      "Epoch 9/100\n",
      "35/37 [===========================>..] - ETA: 0s - loss: 6.7041e-04 - mae: 0.0140\n",
      "Epoch 9: loss improved from 0.00070 to 0.00067, saving model to ./weightCheckpoint/bestParam.hdf5\n",
      "37/37 [==============================] - 0s 10ms/step - loss: 6.6999e-04 - mae: 0.0140\n",
      "Epoch 10/100\n",
      "35/37 [===========================>..] - ETA: 0s - loss: 6.4606e-04 - mae: 0.0136\n",
      "Epoch 10: loss improved from 0.00067 to 0.00065, saving model to ./weightCheckpoint/bestParam.hdf5\n",
      "37/37 [==============================] - 0s 11ms/step - loss: 6.5093e-04 - mae: 0.0136\n",
      "Epoch 11/100\n",
      "33/37 [=========================>....] - ETA: 0s - loss: 6.4599e-04 - mae: 0.0132\n",
      "Epoch 11: loss improved from 0.00065 to 0.00063, saving model to ./weightCheckpoint/bestParam.hdf5\n",
      "37/37 [==============================] - 0s 11ms/step - loss: 6.3460e-04 - mae: 0.0132\n",
      "Epoch 12/100\n",
      "36/37 [============================>.] - ETA: 0s - loss: 6.2856e-04 - mae: 0.0131\n",
      "Epoch 12: loss improved from 0.00063 to 0.00063, saving model to ./weightCheckpoint/bestParam.hdf5\n",
      "37/37 [==============================] - 0s 10ms/step - loss: 6.2756e-04 - mae: 0.0131\n",
      "Epoch 13/100\n",
      "34/37 [==========================>...] - ETA: 0s - loss: 6.0728e-04 - mae: 0.0128\n",
      "Epoch 13: loss improved from 0.00063 to 0.00061, saving model to ./weightCheckpoint/bestParam.hdf5\n",
      "37/37 [==============================] - 0s 10ms/step - loss: 6.1107e-04 - mae: 0.0127\n",
      "Epoch 14/100\n",
      "36/37 [============================>.] - ETA: 0s - loss: 6.0021e-04 - mae: 0.0125\n",
      "Epoch 14: loss improved from 0.00061 to 0.00060, saving model to ./weightCheckpoint/bestParam.hdf5\n",
      "37/37 [==============================] - 0s 9ms/step - loss: 6.0122e-04 - mae: 0.0126\n",
      "Epoch 15/100\n",
      "35/37 [===========================>..] - ETA: 0s - loss: 6.0457e-04 - mae: 0.0126\n",
      "Epoch 15: loss did not improve from 0.00060\n",
      "37/37 [==============================] - 0s 10ms/step - loss: 6.0184e-04 - mae: 0.0126\n",
      "Epoch 16/100\n",
      "35/37 [===========================>..] - ETA: 0s - loss: 5.7622e-04 - mae: 0.0122\n",
      "Epoch 16: loss improved from 0.00060 to 0.00059, saving model to ./weightCheckpoint/bestParam.hdf5\n",
      "37/37 [==============================] - 0s 10ms/step - loss: 5.8617e-04 - mae: 0.0122\n",
      "Epoch 17/100\n",
      "36/37 [============================>.] - ETA: 0s - loss: 5.6308e-04 - mae: 0.0119\n",
      "Epoch 17: loss improved from 0.00059 to 0.00058, saving model to ./weightCheckpoint/bestParam.hdf5\n",
      "37/37 [==============================] - 0s 10ms/step - loss: 5.7704e-04 - mae: 0.0120\n",
      "Epoch 18/100\n",
      "35/37 [===========================>..] - ETA: 0s - loss: 5.9701e-04 - mae: 0.0123\n",
      "Epoch 18: loss did not improve from 0.00058\n",
      "37/37 [==============================] - 0s 9ms/step - loss: 5.8875e-04 - mae: 0.0123\n",
      "Epoch 19/100\n",
      "34/37 [==========================>...] - ETA: 0s - loss: 5.3637e-04 - mae: 0.0115\n",
      "Epoch 19: loss improved from 0.00058 to 0.00056, saving model to ./weightCheckpoint/bestParam.hdf5\n",
      "37/37 [==============================] - 0s 10ms/step - loss: 5.6259e-04 - mae: 0.0116\n",
      "Epoch 20/100\n",
      "35/37 [===========================>..] - ETA: 0s - loss: 5.6610e-04 - mae: 0.0116\n",
      "Epoch 20: loss improved from 0.00056 to 0.00056, saving model to ./weightCheckpoint/bestParam.hdf5\n",
      "37/37 [==============================] - 0s 10ms/step - loss: 5.6048e-04 - mae: 0.0116\n",
      "Epoch 21/100\n",
      "36/37 [============================>.] - ETA: 0s - loss: 5.5278e-04 - mae: 0.0114\n",
      "Epoch 21: loss improved from 0.00056 to 0.00055, saving model to ./weightCheckpoint/bestParam.hdf5\n",
      "37/37 [==============================] - 0s 10ms/step - loss: 5.5214e-04 - mae: 0.0114\n",
      "Epoch 22/100\n",
      "36/37 [============================>.] - ETA: 0s - loss: 5.5314e-04 - mae: 0.0114\n",
      "Epoch 22: loss did not improve from 0.00055\n",
      "37/37 [==============================] - 0s 10ms/step - loss: 5.5249e-04 - mae: 0.0114\n",
      "Epoch 23/100\n",
      "34/37 [==========================>...] - ETA: 0s - loss: 5.5674e-04 - mae: 0.0113\n",
      "Epoch 23: loss did not improve from 0.00055\n",
      "37/37 [==============================] - 0s 10ms/step - loss: 5.5359e-04 - mae: 0.0113\n",
      "Epoch 24/100\n",
      "34/37 [==========================>...] - ETA: 0s - loss: 5.4601e-04 - mae: 0.0112\n",
      "Epoch 24: loss improved from 0.00055 to 0.00055, saving model to ./weightCheckpoint/bestParam.hdf5\n",
      "37/37 [==============================] - 0s 10ms/step - loss: 5.4520e-04 - mae: 0.0112\n",
      "Epoch 25/100\n",
      "36/37 [============================>.] - ETA: 0s - loss: 5.4047e-04 - mae: 0.0110\n",
      "Epoch 25: loss improved from 0.00055 to 0.00054, saving model to ./weightCheckpoint/bestParam.hdf5\n",
      "37/37 [==============================] - 0s 10ms/step - loss: 5.4109e-04 - mae: 0.0110\n",
      "Epoch 26/100\n",
      "35/37 [===========================>..] - ETA: 0s - loss: 5.4063e-04 - mae: 0.0110\n",
      "Epoch 26: loss improved from 0.00054 to 0.00054, saving model to ./weightCheckpoint/bestParam.hdf5\n",
      "37/37 [==============================] - 0s 10ms/step - loss: 5.3569e-04 - mae: 0.0110\n",
      "Epoch 27/100\n",
      "32/37 [========================>.....] - ETA: 0s - loss: 5.2916e-04 - mae: 0.0109\n",
      "Epoch 27: loss improved from 0.00054 to 0.00053, saving model to ./weightCheckpoint/bestParam.hdf5\n",
      "37/37 [==============================] - 0s 10ms/step - loss: 5.3286e-04 - mae: 0.0108\n",
      "Epoch 28/100\n",
      "36/37 [============================>.] - ETA: 0s - loss: 5.3803e-04 - mae: 0.0110\n",
      "Epoch 28: loss did not improve from 0.00053\n",
      "37/37 [==============================] - 0s 9ms/step - loss: 5.3725e-04 - mae: 0.0110\n",
      "Epoch 29/100\n",
      "37/37 [==============================] - ETA: 0s - loss: 5.2924e-04 - mae: 0.0108\n",
      "Epoch 29: loss improved from 0.00053 to 0.00053, saving model to ./weightCheckpoint/bestParam.hdf5\n",
      "37/37 [==============================] - 0s 10ms/step - loss: 5.2924e-04 - mae: 0.0108\n",
      "Epoch 30/100\n",
      "37/37 [==============================] - ETA: 0s - loss: 5.2825e-04 - mae: 0.0108\n",
      "Epoch 30: loss improved from 0.00053 to 0.00053, saving model to ./weightCheckpoint/bestParam.hdf5\n",
      "37/37 [==============================] - 0s 10ms/step - loss: 5.2825e-04 - mae: 0.0108\n",
      "Epoch 31/100\n",
      "36/37 [============================>.] - ETA: 0s - loss: 5.2448e-04 - mae: 0.0106\n",
      "Epoch 31: loss improved from 0.00053 to 0.00052, saving model to ./weightCheckpoint/bestParam.hdf5\n"
     ]
    },
    {
     "name": "stdout",
     "output_type": "stream",
     "text": [
      "37/37 [==============================] - 0s 10ms/step - loss: 5.2379e-04 - mae: 0.0106\n",
      "Epoch 32/100\n",
      "37/37 [==============================] - ETA: 0s - loss: 5.2288e-04 - mae: 0.0105\n",
      "Epoch 32: loss improved from 0.00052 to 0.00052, saving model to ./weightCheckpoint/bestParam.hdf5\n",
      "37/37 [==============================] - 0s 9ms/step - loss: 5.2288e-04 - mae: 0.0105\n",
      "Epoch 33/100\n",
      "36/37 [============================>.] - ETA: 0s - loss: 5.2027e-04 - mae: 0.0106\n",
      "Epoch 33: loss improved from 0.00052 to 0.00052, saving model to ./weightCheckpoint/bestParam.hdf5\n",
      "37/37 [==============================] - 0s 9ms/step - loss: 5.2075e-04 - mae: 0.0106\n",
      "Epoch 34/100\n",
      "36/37 [============================>.] - ETA: 0s - loss: 5.1959e-04 - mae: 0.0105\n",
      "Epoch 34: loss did not improve from 0.00052\n",
      "37/37 [==============================] - 0s 9ms/step - loss: 5.2227e-04 - mae: 0.0106\n",
      "Epoch 35/100\n",
      "36/37 [============================>.] - ETA: 0s - loss: 5.2058e-04 - mae: 0.0107\n",
      "Epoch 35: loss improved from 0.00052 to 0.00052, saving model to ./weightCheckpoint/bestParam.hdf5\n",
      "37/37 [==============================] - 0s 9ms/step - loss: 5.2030e-04 - mae: 0.0107\n",
      "Epoch 36/100\n",
      "36/37 [============================>.] - ETA: 0s - loss: 5.1805e-04 - mae: 0.0105\n",
      "Epoch 36: loss improved from 0.00052 to 0.00052, saving model to ./weightCheckpoint/bestParam.hdf5\n",
      "37/37 [==============================] - 0s 9ms/step - loss: 5.1789e-04 - mae: 0.0105\n",
      "Epoch 37/100\n",
      "35/37 [===========================>..] - ETA: 0s - loss: 5.3838e-04 - mae: 0.0111\n",
      "Epoch 37: loss did not improve from 0.00052\n",
      "37/37 [==============================] - 0s 9ms/step - loss: 5.3434e-04 - mae: 0.0111\n",
      "Epoch 38/100\n",
      "36/37 [============================>.] - ETA: 0s - loss: 5.1316e-04 - mae: 0.0103\n",
      "Epoch 38: loss improved from 0.00052 to 0.00051, saving model to ./weightCheckpoint/bestParam.hdf5\n",
      "37/37 [==============================] - 0s 9ms/step - loss: 5.1249e-04 - mae: 0.0103\n",
      "Epoch 39/100\n",
      "36/37 [============================>.] - ETA: 0s - loss: 5.1270e-04 - mae: 0.0105\n",
      "Epoch 39: loss improved from 0.00051 to 0.00051, saving model to ./weightCheckpoint/bestParam.hdf5\n",
      "37/37 [==============================] - 0s 10ms/step - loss: 5.1214e-04 - mae: 0.0105\n",
      "Epoch 40/100\n",
      "36/37 [============================>.] - ETA: 0s - loss: 5.1768e-04 - mae: 0.0106\n",
      "Epoch 40: loss did not improve from 0.00051\n",
      "37/37 [==============================] - 0s 9ms/step - loss: 5.1731e-04 - mae: 0.0106\n",
      "Epoch 41/100\n",
      "37/37 [==============================] - ETA: 0s - loss: 5.1063e-04 - mae: 0.0102\n",
      "Epoch 41: loss improved from 0.00051 to 0.00051, saving model to ./weightCheckpoint/bestParam.hdf5\n",
      "37/37 [==============================] - 0s 9ms/step - loss: 5.1063e-04 - mae: 0.0102\n",
      "Epoch 42/100\n",
      "36/37 [============================>.] - ETA: 0s - loss: 5.1249e-04 - mae: 0.0104\n",
      "Epoch 42: loss did not improve from 0.00051\n",
      "37/37 [==============================] - 0s 9ms/step - loss: 5.1182e-04 - mae: 0.0104\n",
      "Epoch 43/100\n",
      "36/37 [============================>.] - ETA: 0s - loss: 5.0553e-04 - mae: 0.0102\n",
      "Epoch 43: loss improved from 0.00051 to 0.00050, saving model to ./weightCheckpoint/bestParam.hdf5\n",
      "37/37 [==============================] - 0s 9ms/step - loss: 5.0481e-04 - mae: 0.0102\n",
      "Epoch 44/100\n",
      "36/37 [============================>.] - ETA: 0s - loss: 5.2041e-04 - mae: 0.0106\n",
      "Epoch 44: loss did not improve from 0.00050\n",
      "37/37 [==============================] - 0s 9ms/step - loss: 5.1971e-04 - mae: 0.0106\n",
      "Epoch 44: early stopping\n"
     ]
    }
   ],
   "source": [
    "earlyStop = EarlyStopping(\n",
    "    monitor = 'loss',\n",
    "    min_delta = 0.0001,\n",
    "    patience = patience,\n",
    "    verbose = 1\n",
    ")\n",
    "saveBest = ModelCheckpoint(\n",
    "    filepath = checkpointPath,\n",
    "    monitor = \"loss\",\n",
    "    verbose = 1,\n",
    "    save_best_only = True,\n",
    "    save_weights_only = True,\n",
    "    mode = \"auto\",\n",
    "    save_freq = \"epoch\"\n",
    ")\n",
    "\n",
    "fitStartTime = time.time()\n",
    "history = model.fit(\n",
    "    trainX,\n",
    "    trainY,\n",
    "    epochs = epochs,\n",
    "    batch_size = batchSize,\n",
    "    callbacks=[earlyStop, saveBest]\n",
    ")\n",
    "fitEndTime = time.time()\n",
    "\n",
    "\n",
    "model.load_weights(checkpointPath)"
   ]
  },
  {
   "cell_type": "markdown",
   "id": "ca918f42",
   "metadata": {},
   "source": [
    "#### 시간 및 평가 기록"
   ]
  },
  {
   "cell_type": "code",
   "execution_count": 11,
   "id": "9260b57f",
   "metadata": {},
   "outputs": [
    {
     "name": "stdout",
     "output_type": "stream",
     "text": [
      "5/5 [==============================] - 0s 5ms/step - loss: 7.9698e-04 - mae: 0.0220\n"
     ]
    },
    {
     "name": "stderr",
     "output_type": "stream",
     "text": [
      "2023-01-05 11:35:32.038498: I tensorflow/core/grappler/optimizers/custom_graph_optimizer_registry.cc:113] Plugin optimizer for device_type GPU is enabled.\n",
      "2023-01-05 11:35:32.071957: I tensorflow/core/grappler/optimizers/custom_graph_optimizer_registry.cc:113] Plugin optimizer for device_type GPU is enabled.\n"
     ]
    }
   ],
   "source": [
    "fitTime = fitEndTime - fitStartTime\n",
    "score = model.evaluate(testX, testY[:-30])\n",
    "\n",
    "f = open(\"result.txt\", \"a\")\n",
    "f.write(f\"{resultComment}\\n모델 학습 시간: {fitTime:.3} sec\\n평가 손실: {score[0]}\\n{parameters}\\n--------------------------------------\\n\\n\")\n",
    "f.close()"
   ]
  },
  {
   "cell_type": "code",
   "execution_count": 12,
   "id": "84703a93",
   "metadata": {
    "scrolled": false
   },
   "outputs": [
    {
     "data": {
      "text/plain": [
       "'모델 학습 시간: 17.0 sec'"
      ]
     },
     "execution_count": 12,
     "metadata": {},
     "output_type": "execute_result"
    }
   ],
   "source": [
    "f\"모델 학습 시간: {fitTime:.3} sec\""
   ]
  },
  {
   "cell_type": "code",
   "execution_count": 13,
   "id": "4ef6964d",
   "metadata": {},
   "outputs": [
    {
     "data": {
      "text/plain": [
       "'평가 손실: 0.0007969806320033967'"
      ]
     },
     "execution_count": 13,
     "metadata": {},
     "output_type": "execute_result"
    }
   ],
   "source": [
    "f\"평가 손실: {score[0]}\""
   ]
  },
  {
   "cell_type": "markdown",
   "id": "1a858bad",
   "metadata": {},
   "source": [
    "#### 예측"
   ]
  },
  {
   "cell_type": "code",
   "execution_count": 14,
   "id": "21f11463",
   "metadata": {},
   "outputs": [
    {
     "name": "stdout",
     "output_type": "stream",
     "text": [
      "28/73 [==========>...................] - ETA: 0s"
     ]
    },
    {
     "name": "stderr",
     "output_type": "stream",
     "text": [
      "2023-01-05 11:35:32.285368: I tensorflow/core/grappler/optimizers/custom_graph_optimizer_registry.cc:113] Plugin optimizer for device_type GPU is enabled.\n",
      "2023-01-05 11:35:32.315501: I tensorflow/core/grappler/optimizers/custom_graph_optimizer_registry.cc:113] Plugin optimizer for device_type GPU is enabled.\n"
     ]
    },
    {
     "name": "stdout",
     "output_type": "stream",
     "text": [
      "73/73 [==============================] - 0s 4ms/step\n",
      "5/5 [==============================] - 0s 3ms/step\n"
     ]
    }
   ],
   "source": [
    "trainPrediction = scaler.inverse_transform(model.predict(trainX))\n",
    "testPrediction = scaler.inverse_transform(model.predict(testX))\n",
    "\n",
    "inversingTrainY = scaler.inverse_transform(trainY)\n",
    "inversingTestY = scaler.inverse_transform(testY)"
   ]
  },
  {
   "cell_type": "markdown",
   "id": "980a5688",
   "metadata": {},
   "source": [
    "### 그래프"
   ]
  },
  {
   "cell_type": "markdown",
   "id": "9a47448f",
   "metadata": {},
   "source": [
    "#### Loss"
   ]
  },
  {
   "cell_type": "code",
   "execution_count": 15,
   "id": "e0cbdfbf",
   "metadata": {},
   "outputs": [
    {
     "data": {
      "image/png": "[encoded data removed]",
      "text/plain": [
       "<Figure size 640x480 with 1 Axes>"
      ]
     },
     "metadata": {},
     "output_type": "display_data"
    }
   ],
   "source": [
    "loss = history.history[\"loss\"]\n",
    "plt.title(\"Loss\")\n",
    "plt.plot(loss, label=\"loss\")\n",
    "plt.grid(True)\n",
    "plt.savefig(f\"{fileSavePath}/Loss.png\")\n",
    "plt.legend()\n",
    "plt.show()"
   ]
  },
  {
   "cell_type": "markdown",
   "id": "6d850d7d",
   "metadata": {},
   "source": [
    "#### Train Data Graph"
   ]
  },
  {
   "cell_type": "code",
   "execution_count": 16,
   "id": "7ecbefab",
   "metadata": {},
   "outputs": [
    {
     "data": {
      "image/png": "[encoded data removed]",
      "text/plain": [
       "<Figure size 640x480 with 1 Axes>"
      ]
     },
     "metadata": {},
     "output_type": "display_data"
    }
   ],
   "source": [
    "plt.title(trainGraphTitle)\n",
    "plt.plot(inversingTrainY[:, 4], label=\"Train ADJ.Close\")\n",
    "plt.plot(trainPrediction[:, 4], label=\"Predict ADJ.Close\")\n",
    "plt.grid(True)\n",
    "plt.savefig(f\"{fileSavePath}/Train.png\")\n",
    "plt.xlabel('Day')\n",
    "plt.ylabel('Price')\n",
    "plt.legend()\n",
    "plt.show()"
   ]
  },
  {
   "cell_type": "markdown",
   "id": "9f26326e",
   "metadata": {},
   "source": [
    "#### Test Data Graph"
   ]
  },
  {
   "cell_type": "code",
   "execution_count": 17,
   "id": "0a50d286",
   "metadata": {},
   "outputs": [],
   "source": [
    "# plt.title(testGraphTitle)\n",
    "# plt.plot(inversingTestY[:, 4], label=\"Test ADJ.Close\")\n",
    "# plt.plot(testPrediction[:, 4], label=\"Predict ADJ.Close\")\n",
    "# plt.grid(True)\n",
    "# plt.xlabel('Day')\n",
    "# plt.ylabel('Price')\n",
    "# plt.axvline(x=len(testY)-30, color='green', linestyle='-', linewidth=1)\n",
    "# plt.legend()\n",
    "# plt.savefig(f\"{fileSavePath}/Test.png\")\n",
    "# plt.show()"
   ]
  },
  {
   "cell_type": "markdown",
   "id": "e77355ca",
   "metadata": {},
   "source": [
    "#### Test Data + 30일 후 예측"
   ]
  },
  {
   "cell_type": "code",
   "execution_count": 18,
   "id": "3747c7d3",
   "metadata": {
    "scrolled": false
   },
   "outputs": [
    {
     "name": "stdout",
     "output_type": "stream",
     "text": [
      "5/5 [==============================] - 0s 5ms/step\n",
      "6/6 [==============================] - 0s 13ms/step\n",
      "6/6 [==============================] - 0s 9ms/step\n",
      "6/6 [==============================] - 0s 10ms/step\n",
      "6/6 [==============================] - 0s 4ms/step\n",
      "6/6 [==============================] - 0s 9ms/step\n",
      "6/6 [==============================] - 0s 9ms/step\n",
      "6/6 [==============================] - 0s 9ms/step\n",
      "6/6 [==============================] - 0s 9ms/step\n",
      "6/6 [==============================] - 0s 8ms/step\n",
      "6/6 [==============================] - 0s 8ms/step\n",
      "6/6 [==============================] - 0s 8ms/step\n",
      "6/6 [==============================] - 0s 8ms/step\n",
      "6/6 [==============================] - 0s 8ms/step\n",
      "6/6 [==============================] - 0s 8ms/step\n",
      "6/6 [==============================] - 0s 8ms/step\n",
      "6/6 [==============================] - 0s 9ms/step\n",
      "6/6 [==============================] - 0s 9ms/step\n",
      "6/6 [==============================] - 0s 9ms/step\n",
      "6/6 [==============================] - 0s 9ms/step\n",
      "6/6 [==============================] - 0s 8ms/step\n",
      "6/6 [==============================] - 0s 8ms/step\n",
      "6/6 [==============================] - 0s 10ms/step\n",
      "6/6 [==============================] - 0s 8ms/step\n",
      "6/6 [==============================] - 0s 8ms/step\n",
      "6/6 [==============================] - 0s 9ms/step\n",
      "6/6 [==============================] - 0s 8ms/step\n",
      "6/6 [==============================] - 0s 9ms/step\n",
      "6/6 [==============================] - 0s 9ms/step\n",
      "6/6 [==============================] - 0s 8ms/step\n"
     ]
    }
   ],
   "source": [
    "thirtyPredict = testX\n",
    "\n",
    "for _ in range(30):\n",
    "    currentPredict = model.predict(thirtyPredict)\n",
    "    recentPredict = np.reshape(currentPredict[-1], (1, currentPredict[-1].shape[0]))\n",
    "    newPredictStep = thirtyPredict[-1, 1:]\n",
    "    nextPredict = np.append(newPredictStep, recentPredict, axis = 0)\n",
    "    nextPredict = np.reshape(nextPredict, (1, nextPredict.shape[0], nextPredict.shape[1]))\n",
    "    thirtyPredict = np.append(thirtyPredict, nextPredict, axis = 0)"
   ]
  },
  {
   "cell_type": "markdown",
   "id": "f9fdf304",
   "metadata": {},
   "source": [
    "#### Test Data + 30일 예측 그래프"
   ]
  },
  {
   "cell_type": "code",
   "execution_count": 19,
   "id": "fefff00c",
   "metadata": {},
   "outputs": [
    {
     "name": "stdout",
     "output_type": "stream",
     "text": [
      "6/6 [==============================] - 0s 9ms/step\n"
     ]
    },
    {
     "data": {
      "image/png": "[encoded data removed]",
      "text/plain": [
       "<Figure size 640x480 with 1 Axes>"
      ]
     },
     "metadata": {},
     "output_type": "display_data"
    }
   ],
   "source": [
    "thirtyDaysAfterpredict = scaler.inverse_transform(model.predict(thirtyPredict))\n",
    "\n",
    "plt.title(\"30 Days After\")\n",
    "plt.plot(inversingTestY[:, 4], label=\"Test ADJ.Close\")\n",
    "plt.plot(thirtyDaysAfterpredict[:, 4], label=\"30 Days predict ADJ.Close\")\n",
    "plt.grid(True)\n",
    "plt.xlabel('Day')\n",
    "plt.ylabel('Price')\n",
    "plt.axvline(x=len(testY)-30, color='green', linestyle='-', linewidth=1)\n",
    "plt.legend()\n",
    "plt.savefig(f\"{fileSavePath}/30Predict.png\")\n",
    "plt.show()"
   ]
  }
 ],
 "metadata": {
  "kernelspec": {
   "display_name": "Python 3 (ipykernel)",
   "language": "python",
   "name": "python3"
  },
  "language_info": {
   "codemirror_mode": {
    "name": "ipython",
    "version": 3
   },
   "file_extension": ".py",
   "mimetype": "text/x-python",
   "name": "python",
   "nbconvert_exporter": "python",
   "pygments_lexer": "ipython3",
   "version": "3.9.15"
  }
 },
 "nbformat": 4,
 "nbformat_minor": 5
}

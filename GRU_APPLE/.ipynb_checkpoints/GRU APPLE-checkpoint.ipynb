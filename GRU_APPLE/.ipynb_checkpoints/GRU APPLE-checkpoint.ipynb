{
 "cells": [
  {
   "cell_type": "markdown",
   "id": "302e6018",
   "metadata": {},
   "source": [
    "#### 패키지 Import"
   ]
  },
  {
   "cell_type": "code",
   "execution_count": 1,
   "id": "1f08c128",
   "metadata": {},
   "outputs": [],
   "source": [
    "import numpy as np\n",
    "import pandas as pd\n",
    "import matplotlib.pyplot as plt\n",
    "import time\n",
    "from sklearn.preprocessing import MinMaxScaler\n",
    "from keras.models import Sequential\n",
    "from keras.layers import GRU, Dense\n",
    "from keras.callbacks import EarlyStopping, ModelCheckpoint"
   ]
  },
  {
   "cell_type": "markdown",
   "id": "49e7140b",
   "metadata": {},
   "source": [
    "#### 변수 설정"
   ]
  },
  {
   "cell_type": "code",
   "execution_count": 2,
   "id": "a453900a",
   "metadata": {},
   "outputs": [],
   "source": [
    "trainGraphTitle = \"Train Data\"\n",
    "testGraphTitle = \"Test Data\"\n",
    "checkpointPath = \"./weightCheckpoint/bestParam.hdf5\"\n",
    "loss = \"mse\" \n",
    "\n",
    "title = \"ETC\"\n",
    "detail = \"test\"\n",
    "resultComment = f\"{title} - {detail}\"\n",
    "fileSavePath = f\"./result/{title}/{detail}\"\n",
    "\n",
    "depth = \"SingleGRU\" # Default\n",
    "# depth = \"DoubleGRU\" \n",
    "# depth = \"TripleGRU\"\n",
    "\n",
    "# 변수 \"\" 가 Default\n",
    "hiddenState = 32 # units: 16 \"32\" 64\n",
    "timeStep = 20 # input_length 10 \"20\" 40\n",
    "activation = \"tanh\" # \"tanh\" sigmoid\n",
    "epochs = 100 # 50 \"100\" 200\n",
    "batchSize = 64 # 32 \"64\" 256\n",
    "dataSize = 10 # 5 \"10\" 40\n",
    "optimizer = \"adam\" # \"adam\" sgd\n",
    "patience = 100 # 10 \"30\" 50\n",
    "\n",
    "depth = \"DoubleGRU\" \n",
    "hiddenState = 16\n",
    "timeStep = 40\n",
    "activation = \"tanh\"\n",
    "epochs = 100\n",
    "batchSize = 32\n",
    "dataSize = 40\n",
    "optimizer = \"adam\"\n",
    "patience = 30"
   ]
  },
  {
   "cell_type": "markdown",
   "id": "76e7e235",
   "metadata": {},
   "source": [
    "#### Pandas Setting"
   ]
  },
  {
   "cell_type": "code",
   "execution_count": 3,
   "id": "171b5b82",
   "metadata": {},
   "outputs": [],
   "source": [
    "pd.set_option('display.max_rows', None) # row 생략 없이 출력\n",
    "pd.set_option('display.max_columns', None) # col 생략 없이 출력"
   ]
  },
  {
   "cell_type": "markdown",
   "id": "c77fd75b",
   "metadata": {},
   "source": [
    "#### Data Load"
   ]
  },
  {
   "cell_type": "code",
   "execution_count": 4,
   "id": "33458f40",
   "metadata": {},
   "outputs": [],
   "source": [
    "apple = pd.read_csv(\"Apple_5Y.csv\")\n",
    "\n",
    "if dataSize == 10:\n",
    "    apple = pd.read_csv(\"Apple_10Y.csv\")\n",
    "elif dataSize == 40:\n",
    "    apple = pd.read_csv(\"Apple_Whole_Period.csv\")"
   ]
  },
  {
   "cell_type": "markdown",
   "id": "fb778e6d",
   "metadata": {},
   "source": [
    "#### Describe 확인"
   ]
  },
  {
   "cell_type": "code",
   "execution_count": 5,
   "id": "3da62313",
   "metadata": {
    "scrolled": true
   },
   "outputs": [
    {
     "data": {
      "text/html": [
       "<div>\n",
       "<style scoped>\n",
       "    .dataframe tbody tr th:only-of-type {\n",
       "        vertical-align: middle;\n",
       "    }\n",
       "\n",
       "    .dataframe tbody tr th {\n",
       "        vertical-align: top;\n",
       "    }\n",
       "\n",
       "    .dataframe thead th {\n",
       "        text-align: right;\n",
       "    }\n",
       "</style>\n",
       "<table border=\"1\" class=\"dataframe\">\n",
       "  <thead>\n",
       "    <tr style=\"text-align: right;\">\n",
       "      <th></th>\n",
       "      <th>Open</th>\n",
       "      <th>High</th>\n",
       "      <th>Low</th>\n",
       "      <th>Close</th>\n",
       "      <th>Adj Close</th>\n",
       "      <th>Volume</th>\n",
       "    </tr>\n",
       "  </thead>\n",
       "  <tbody>\n",
       "    <tr>\n",
       "      <th>count</th>\n",
       "      <td>10602.000000</td>\n",
       "      <td>10602.000000</td>\n",
       "      <td>10602.000000</td>\n",
       "      <td>10602.000000</td>\n",
       "      <td>10602.000000</td>\n",
       "      <td>1.060200e+04</td>\n",
       "    </tr>\n",
       "    <tr>\n",
       "      <th>mean</th>\n",
       "      <td>16.470998</td>\n",
       "      <td>16.658052</td>\n",
       "      <td>16.284922</td>\n",
       "      <td>16.477925</td>\n",
       "      <td>15.807495</td>\n",
       "      <td>3.276539e+08</td>\n",
       "    </tr>\n",
       "    <tr>\n",
       "      <th>std</th>\n",
       "      <td>35.131697</td>\n",
       "      <td>35.556418</td>\n",
       "      <td>34.715065</td>\n",
       "      <td>35.150839</td>\n",
       "      <td>34.824451</td>\n",
       "      <td>3.378635e+08</td>\n",
       "    </tr>\n",
       "    <tr>\n",
       "      <th>min</th>\n",
       "      <td>0.049665</td>\n",
       "      <td>0.049665</td>\n",
       "      <td>0.049107</td>\n",
       "      <td>0.049107</td>\n",
       "      <td>0.038213</td>\n",
       "      <td>0.000000e+00</td>\n",
       "    </tr>\n",
       "    <tr>\n",
       "      <th>25%</th>\n",
       "      <td>0.287338</td>\n",
       "      <td>0.294643</td>\n",
       "      <td>0.280759</td>\n",
       "      <td>0.287338</td>\n",
       "      <td>0.237548</td>\n",
       "      <td>1.213772e+08</td>\n",
       "    </tr>\n",
       "    <tr>\n",
       "      <th>50%</th>\n",
       "      <td>0.486607</td>\n",
       "      <td>0.493304</td>\n",
       "      <td>0.477679</td>\n",
       "      <td>0.486049</td>\n",
       "      <td>0.402768</td>\n",
       "      <td>2.146984e+08</td>\n",
       "    </tr>\n",
       "    <tr>\n",
       "      <th>75%</th>\n",
       "      <td>16.130179</td>\n",
       "      <td>16.309196</td>\n",
       "      <td>15.966607</td>\n",
       "      <td>16.095179</td>\n",
       "      <td>13.919097</td>\n",
       "      <td>4.067266e+08</td>\n",
       "    </tr>\n",
       "    <tr>\n",
       "      <th>max</th>\n",
       "      <td>182.630005</td>\n",
       "      <td>182.940002</td>\n",
       "      <td>179.119995</td>\n",
       "      <td>182.009995</td>\n",
       "      <td>180.959747</td>\n",
       "      <td>7.421641e+09</td>\n",
       "    </tr>\n",
       "  </tbody>\n",
       "</table>\n",
       "</div>"
      ],
      "text/plain": [
       "               Open          High           Low         Close     Adj Close  \\\n",
       "count  10602.000000  10602.000000  10602.000000  10602.000000  10602.000000   \n",
       "mean      16.470998     16.658052     16.284922     16.477925     15.807495   \n",
       "std       35.131697     35.556418     34.715065     35.150839     34.824451   \n",
       "min        0.049665      0.049665      0.049107      0.049107      0.038213   \n",
       "25%        0.287338      0.294643      0.280759      0.287338      0.237548   \n",
       "50%        0.486607      0.493304      0.477679      0.486049      0.402768   \n",
       "75%       16.130179     16.309196     15.966607     16.095179     13.919097   \n",
       "max      182.630005    182.940002    179.119995    182.009995    180.959747   \n",
       "\n",
       "             Volume  \n",
       "count  1.060200e+04  \n",
       "mean   3.276539e+08  \n",
       "std    3.378635e+08  \n",
       "min    0.000000e+00  \n",
       "25%    1.213772e+08  \n",
       "50%    2.146984e+08  \n",
       "75%    4.067266e+08  \n",
       "max    7.421641e+09  "
      ]
     },
     "execution_count": 5,
     "metadata": {},
     "output_type": "execute_result"
    }
   ],
   "source": [
    "apple.describe()"
   ]
  },
  {
   "cell_type": "markdown",
   "id": "58bf3bfa",
   "metadata": {},
   "source": [
    "#### trainData, testData 가공"
   ]
  },
  {
   "cell_type": "code",
   "execution_count": 6,
   "id": "2a0c99c3",
   "metadata": {},
   "outputs": [],
   "source": [
    "def transformData(data: [[float]]):\n",
    "    # 날짜 제외\n",
    "    data = data.drop(columns=[\"Date\"])\n",
    "\n",
    "    # 데이터 분리 test: 200개와 나머지\n",
    "    trainSet = data[ : -200]\n",
    "    testSet = data[-200 : ]\n",
    "    \n",
    "    # 데이터 0~1로 정규화\n",
    "    sc = MinMaxScaler(feature_range=(0, 1)) \n",
    "    sc.fit(trainSet)\n",
    "    trainSet = sc.transform(trainSet)\n",
    "    testSet = sc.transform(testSet)\n",
    "    \n",
    "    # trainX, trainY, testX, testY 분리\n",
    "    def parsingData(dataSet: [[float]]) -> ([[[float]]], [[float]]):\n",
    "        dataX, dataY = [], []\n",
    "        for index in range(len(dataSet) - timeStep):\n",
    "            temp = []\n",
    "            for step in range(timeStep):\n",
    "                temp.append(dataSet[index + step])\n",
    "            dataX.append(temp)\n",
    "            dataY.append(dataSet[index + timeStep])\n",
    "\n",
    "        return np.array(dataX), np.array(dataY)\n",
    "\n",
    "    trainDataX, trainDataY = parsingData(trainSet)\n",
    "    testDataX, testDataY = parsingData(testSet)\n",
    "    \n",
    "    \n",
    "    return trainDataX, trainDataY, testDataX[:-30], testDataY, sc"
   ]
  },
  {
   "cell_type": "markdown",
   "id": "8075389b",
   "metadata": {},
   "source": [
    "#### Data Parsing"
   ]
  },
  {
   "cell_type": "code",
   "execution_count": 7,
   "id": "a8d6ba5d",
   "metadata": {
    "scrolled": true
   },
   "outputs": [],
   "source": [
    "trainX, trainY, testX, testY, scaler = transformData(apple)"
   ]
  },
  {
   "cell_type": "markdown",
   "id": "22d1cb98",
   "metadata": {},
   "source": [
    "#### Model Implementation"
   ]
  },
  {
   "cell_type": "code",
   "execution_count": 8,
   "id": "587777f1",
   "metadata": {},
   "outputs": [
    {
     "name": "stdout",
     "output_type": "stream",
     "text": [
      "Metal device set to: Apple M1\n"
     ]
    },
    {
     "name": "stderr",
     "output_type": "stream",
     "text": [
      "2023-01-05 20:51:18.386489: I tensorflow/core/common_runtime/pluggable_device/pluggable_device_factory.cc:305] Could not identify NUMA node of platform GPU ID 0, defaulting to 0. Your kernel may not have been built with NUMA support.\n",
      "2023-01-05 20:51:18.387440: I tensorflow/core/common_runtime/pluggable_device/pluggable_device_factory.cc:271] Created TensorFlow device (/job:localhost/replica:0/task:0/device:GPU:0 with 0 MB memory) -> physical PluggableDevice (device: 0, name: METAL, pci bus id: <undefined>)\n"
     ]
    },
    {
     "name": "stdout",
     "output_type": "stream",
     "text": [
      "Model: \"sequential\"\n",
      "_________________________________________________________________\n",
      " Layer (type)                Output Shape              Param #   \n",
      "=================================================================\n",
      " gru (GRU)                   (None, 40, 16)            1152      \n",
      "                                                                 \n",
      " gru_1 (GRU)                 (None, 16)                1632      \n",
      "                                                                 \n",
      " dense (Dense)               (None, 6)                 102       \n",
      "                                                                 \n",
      "=================================================================\n",
      "Total params: 2,886\n",
      "Trainable params: 2,886\n",
      "Non-trainable params: 0\n",
      "_________________________________________________________________\n"
     ]
    }
   ],
   "source": [
    "model = Sequential()\n",
    "\n",
    "if depth == \"SingleGRU\":\n",
    "    model.add(\n",
    "    GRU(\n",
    "        units = hiddenState,\n",
    "        input_length = trainX.shape[1],\n",
    "        input_dim = trainX.shape[2],\n",
    "        activation = activation\n",
    "        )\n",
    "    )\n",
    "    model.add(Dense(6))\n",
    "    \n",
    "    \n",
    "    \n",
    "    \n",
    "elif depth == \"DoubleGRU\":\n",
    "    model.add(\n",
    "        GRU(\n",
    "            units = hiddenState,\n",
    "            input_length = trainX.shape[1],\n",
    "            input_dim = trainX.shape[2],\n",
    "            activation = activation,\n",
    "            return_sequences = True\n",
    "        )\n",
    "    )\n",
    "    model.add(\n",
    "        GRU(\n",
    "            units = hiddenState,\n",
    "            activation = activation\n",
    "        )\n",
    "    )\n",
    "    \n",
    "    model.add(Dense(6))\n",
    "    \n",
    "elif depth == \"TripleGRU\":\n",
    "    model.add(\n",
    "        GRU(\n",
    "            units = hiddenState,\n",
    "            input_length = trainX.shape[1],\n",
    "            input_dim = trainX.shape[2],\n",
    "            activation = activation,\n",
    "            return_sequences = True\n",
    "        )\n",
    "    )\n",
    "    model.add(\n",
    "        GRU(\n",
    "            units = hiddenState,\n",
    "            activation = activation,\n",
    "            return_sequences = True\n",
    "        )\n",
    "    )\n",
    "    model.add(\n",
    "        GRU(\n",
    "            units = hiddenState,\n",
    "            activation = activation\n",
    "        )\n",
    "    )\n",
    "    \n",
    "    model.add(Dense(6))\n",
    "\n",
    "model.summary()"
   ]
  },
  {
   "cell_type": "markdown",
   "id": "9e77d196",
   "metadata": {},
   "source": [
    "#### Model Complie"
   ]
  },
  {
   "cell_type": "code",
   "execution_count": 9,
   "id": "ee7eafae",
   "metadata": {},
   "outputs": [],
   "source": [
    "model.compile(\n",
    "    loss = loss,\n",
    "    optimizer = optimizer,\n",
    "    metrics = [\"mae\"]\n",
    ")"
   ]
  },
  {
   "cell_type": "markdown",
   "id": "4de53be4",
   "metadata": {},
   "source": [
    "#### Model Training"
   ]
  },
  {
   "cell_type": "code",
   "execution_count": 10,
   "id": "08fb9d38",
   "metadata": {
    "scrolled": false
   },
   "outputs": [
    {
     "name": "stdout",
     "output_type": "stream",
     "text": [
      "Epoch 1/100\n"
     ]
    },
    {
     "name": "stderr",
     "output_type": "stream",
     "text": [
      "2023-01-05 20:51:18.828534: W tensorflow/core/platform/profile_utils/cpu_utils.cc:128] Failed to get CPU frequency: 0 Hz\n",
      "2023-01-05 20:51:19.933825: I tensorflow/core/grappler/optimizers/custom_graph_optimizer_registry.cc:113] Plugin optimizer for device_type GPU is enabled.\n",
      "2023-01-05 20:51:20.104429: I tensorflow/core/grappler/optimizers/custom_graph_optimizer_registry.cc:113] Plugin optimizer for device_type GPU is enabled.\n",
      "2023-01-05 20:51:20.215676: I tensorflow/core/grappler/optimizers/custom_graph_optimizer_registry.cc:113] Plugin optimizer for device_type GPU is enabled.\n",
      "2023-01-05 20:51:20.369907: I tensorflow/core/grappler/optimizers/custom_graph_optimizer_registry.cc:113] Plugin optimizer for device_type GPU is enabled.\n"
     ]
    },
    {
     "name": "stdout",
     "output_type": "stream",
     "text": [
      "  3/324 [..............................] - ETA: 9s - loss: 0.0295 - mae: 0.0678  "
     ]
    },
    {
     "name": "stderr",
     "output_type": "stream",
     "text": [
      "2023-01-05 20:51:20.511157: I tensorflow/core/grappler/optimizers/custom_graph_optimizer_registry.cc:113] Plugin optimizer for device_type GPU is enabled.\n"
     ]
    },
    {
     "name": "stdout",
     "output_type": "stream",
     "text": [
      "324/324 [==============================] - ETA: 0s - loss: 0.0020 - mae: 0.0185\n",
      "Epoch 1: loss improved from inf to 0.00204, saving model to ./weightCheckpoint/bestParam.hdf5\n",
      "324/324 [==============================] - 10s 25ms/step - loss: 0.0020 - mae: 0.0185\n",
      "Epoch 2/100\n",
      "323/324 [============================>.] - ETA: 0s - loss: 6.4758e-04 - mae: 0.0124\n",
      "Epoch 2: loss improved from 0.00204 to 0.00065, saving model to ./weightCheckpoint/bestParam.hdf5\n",
      "324/324 [==============================] - 8s 25ms/step - loss: 6.4772e-04 - mae: 0.0124\n",
      "Epoch 3/100\n",
      "323/324 [============================>.] - ETA: 0s - loss: 2.4463e-04 - mae: 0.0071\n",
      "Epoch 3: loss improved from 0.00065 to 0.00024, saving model to ./weightCheckpoint/bestParam.hdf5\n",
      "324/324 [==============================] - 8s 26ms/step - loss: 2.4412e-04 - mae: 0.0071\n",
      "Epoch 4/100\n",
      "323/324 [============================>.] - ETA: 0s - loss: 2.0925e-04 - mae: 0.0061\n",
      "Epoch 4: loss improved from 0.00024 to 0.00021, saving model to ./weightCheckpoint/bestParam.hdf5\n",
      "324/324 [==============================] - 9s 27ms/step - loss: 2.0914e-04 - mae: 0.0061\n",
      "Epoch 5/100\n",
      "322/324 [============================>.] - ETA: 0s - loss: 2.0020e-04 - mae: 0.0059\n",
      "Epoch 5: loss improved from 0.00021 to 0.00020, saving model to ./weightCheckpoint/bestParam.hdf5\n",
      "324/324 [==============================] - 8s 26ms/step - loss: 1.9995e-04 - mae: 0.0059\n",
      "Epoch 6/100\n",
      "324/324 [==============================] - ETA: 0s - loss: 1.8622e-04 - mae: 0.0055\n",
      "Epoch 6: loss improved from 0.00020 to 0.00019, saving model to ./weightCheckpoint/bestParam.hdf5\n",
      "324/324 [==============================] - 9s 26ms/step - loss: 1.8622e-04 - mae: 0.0055\n",
      "Epoch 7/100\n",
      "324/324 [==============================] - ETA: 0s - loss: 1.8326e-04 - mae: 0.0055\n",
      "Epoch 7: loss improved from 0.00019 to 0.00018, saving model to ./weightCheckpoint/bestParam.hdf5\n",
      "324/324 [==============================] - 9s 26ms/step - loss: 1.8326e-04 - mae: 0.0055\n",
      "Epoch 8/100\n",
      "323/324 [============================>.] - ETA: 0s - loss: 1.8346e-04 - mae: 0.0057\n",
      "Epoch 8: loss did not improve from 0.00018\n",
      "324/324 [==============================] - 9s 27ms/step - loss: 1.8341e-04 - mae: 0.0057\n",
      "Epoch 9/100\n",
      "324/324 [==============================] - ETA: 0s - loss: 1.7651e-04 - mae: 0.0055\n",
      "Epoch 9: loss improved from 0.00018 to 0.00018, saving model to ./weightCheckpoint/bestParam.hdf5\n",
      "324/324 [==============================] - 9s 26ms/step - loss: 1.7651e-04 - mae: 0.0055\n",
      "Epoch 10/100\n",
      "323/324 [============================>.] - ETA: 0s - loss: 1.7366e-04 - mae: 0.0054\n",
      "Epoch 10: loss improved from 0.00018 to 0.00017, saving model to ./weightCheckpoint/bestParam.hdf5\n",
      "324/324 [==============================] - 8s 25ms/step - loss: 1.7385e-04 - mae: 0.0054\n",
      "Epoch 11/100\n",
      "322/324 [============================>.] - ETA: 0s - loss: 1.6966e-04 - mae: 0.0053\n",
      "Epoch 11: loss improved from 0.00017 to 0.00017, saving model to ./weightCheckpoint/bestParam.hdf5\n",
      "324/324 [==============================] - 8s 24ms/step - loss: 1.6927e-04 - mae: 0.0053\n",
      "Epoch 12/100\n",
      "323/324 [============================>.] - ETA: 0s - loss: 1.7167e-04 - mae: 0.0056\n",
      "Epoch 12: loss did not improve from 0.00017\n",
      "324/324 [==============================] - 8s 24ms/step - loss: 1.7155e-04 - mae: 0.0056\n",
      "Epoch 13/100\n",
      "324/324 [==============================] - ETA: 0s - loss: 1.6670e-04 - mae: 0.0054\n",
      "Epoch 13: loss improved from 0.00017 to 0.00017, saving model to ./weightCheckpoint/bestParam.hdf5\n",
      "324/324 [==============================] - 8s 24ms/step - loss: 1.6670e-04 - mae: 0.0054\n",
      "Epoch 14/100\n",
      "324/324 [==============================] - ETA: 0s - loss: 1.6237e-04 - mae: 0.0053\n",
      "Epoch 14: loss improved from 0.00017 to 0.00016, saving model to ./weightCheckpoint/bestParam.hdf5\n",
      "324/324 [==============================] - 8s 24ms/step - loss: 1.6237e-04 - mae: 0.0053\n",
      "Epoch 15/100\n",
      "324/324 [==============================] - ETA: 0s - loss: 1.6084e-04 - mae: 0.0052\n",
      "Epoch 15: loss improved from 0.00016 to 0.00016, saving model to ./weightCheckpoint/bestParam.hdf5\n",
      "324/324 [==============================] - 8s 24ms/step - loss: 1.6084e-04 - mae: 0.0052\n",
      "Epoch 16/100\n",
      "322/324 [============================>.] - ETA: 0s - loss: 1.5908e-04 - mae: 0.0052\n",
      "Epoch 16: loss improved from 0.00016 to 0.00016, saving model to ./weightCheckpoint/bestParam.hdf5\n",
      "324/324 [==============================] - 8s 26ms/step - loss: 1.5854e-04 - mae: 0.0052\n",
      "Epoch 17/100\n",
      "323/324 [============================>.] - ETA: 0s - loss: 1.6713e-04 - mae: 0.0055\n",
      "Epoch 17: loss did not improve from 0.00016\n",
      "324/324 [==============================] - 9s 26ms/step - loss: 1.6684e-04 - mae: 0.0055\n",
      "Epoch 18/100\n",
      "324/324 [==============================] - ETA: 0s - loss: 1.5938e-04 - mae: 0.0052\n",
      "Epoch 18: loss did not improve from 0.00016\n",
      "324/324 [==============================] - 9s 28ms/step - loss: 1.5938e-04 - mae: 0.0052\n",
      "Epoch 19/100\n",
      "324/324 [==============================] - ETA: 0s - loss: 1.5755e-04 - mae: 0.0051\n",
      "Epoch 19: loss improved from 0.00016 to 0.00016, saving model to ./weightCheckpoint/bestParam.hdf5\n",
      "324/324 [==============================] - 9s 28ms/step - loss: 1.5755e-04 - mae: 0.0051\n",
      "Epoch 20/100\n",
      "322/324 [============================>.] - ETA: 0s - loss: 1.5292e-04 - mae: 0.0049\n",
      "Epoch 20: loss improved from 0.00016 to 0.00015, saving model to ./weightCheckpoint/bestParam.hdf5\n",
      "324/324 [==============================] - 9s 29ms/step - loss: 1.5342e-04 - mae: 0.0050\n",
      "Epoch 21/100\n",
      "323/324 [============================>.] - ETA: 0s - loss: 1.6080e-04 - mae: 0.0053\n",
      "Epoch 21: loss did not improve from 0.00015\n",
      "324/324 [==============================] - 8s 26ms/step - loss: 1.6047e-04 - mae: 0.0052\n",
      "Epoch 22/100\n",
      "324/324 [==============================] - ETA: 0s - loss: 1.5382e-04 - mae: 0.0050\n",
      "Epoch 22: loss did not improve from 0.00015\n",
      "324/324 [==============================] - 9s 28ms/step - loss: 1.5382e-04 - mae: 0.0050\n",
      "Epoch 23/100\n",
      "324/324 [==============================] - ETA: 0s - loss: 1.6204e-04 - mae: 0.0053\n",
      "Epoch 23: loss did not improve from 0.00015\n",
      "324/324 [==============================] - 9s 28ms/step - loss: 1.6204e-04 - mae: 0.0053\n",
      "Epoch 24/100\n",
      "324/324 [==============================] - ETA: 0s - loss: 1.6013e-04 - mae: 0.0054\n",
      "Epoch 24: loss did not improve from 0.00015\n",
      "324/324 [==============================] - 9s 29ms/step - loss: 1.6013e-04 - mae: 0.0054\n",
      "Epoch 25/100\n",
      "323/324 [============================>.] - ETA: 0s - loss: 1.6418e-04 - mae: 0.0056\n",
      "Epoch 25: loss did not improve from 0.00015\n",
      "324/324 [==============================] - 9s 27ms/step - loss: 1.6406e-04 - mae: 0.0056\n",
      "Epoch 26/100\n",
      "324/324 [==============================] - ETA: 0s - loss: 2.5521e-04 - mae: 0.0087\n",
      "Epoch 26: loss did not improve from 0.00015\n",
      "324/324 [==============================] - 9s 28ms/step - loss: 2.5521e-04 - mae: 0.0087\n",
      "Epoch 27/100\n",
      "323/324 [============================>.] - ETA: 0s - loss: 2.0212e-04 - mae: 0.0075\n",
      "Epoch 27: loss did not improve from 0.00015\n",
      "324/324 [==============================] - 9s 28ms/step - loss: 2.0207e-04 - mae: 0.0075\n",
      "Epoch 28/100\n",
      "324/324 [==============================] - ETA: 0s - loss: 1.8708e-04 - mae: 0.0068\n",
      "Epoch 28: loss did not improve from 0.00015\n",
      "324/324 [==============================] - 9s 27ms/step - loss: 1.8708e-04 - mae: 0.0068\n",
      "Epoch 29/100\n",
      "323/324 [============================>.] - ETA: 0s - loss: 1.8234e-04 - mae: 0.0068\n",
      "Epoch 29: loss did not improve from 0.00015\n",
      "324/324 [==============================] - 8s 26ms/step - loss: 1.8231e-04 - mae: 0.0068\n",
      "Epoch 30/100\n",
      "323/324 [============================>.] - ETA: 0s - loss: 1.9200e-04 - mae: 0.0073\n",
      "Epoch 30: loss did not improve from 0.00015\n",
      "324/324 [==============================] - 9s 27ms/step - loss: 1.9173e-04 - mae: 0.0073\n",
      "Epoch 31/100\n",
      "323/324 [============================>.] - ETA: 0s - loss: 2.0285e-04 - mae: 0.0075\n",
      "Epoch 31: loss did not improve from 0.00015\n",
      "324/324 [==============================] - 9s 28ms/step - loss: 2.0267e-04 - mae: 0.0075\n",
      "Epoch 32/100\n",
      "323/324 [============================>.] - ETA: 0s - loss: 1.9928e-04 - mae: 0.0071\n",
      "Epoch 32: loss did not improve from 0.00015\n",
      "324/324 [==============================] - 9s 29ms/step - loss: 1.9918e-04 - mae: 0.0071\n"
     ]
    },
    {
     "name": "stdout",
     "output_type": "stream",
     "text": [
      "Epoch 33/100\n",
      "324/324 [==============================] - ETA: 0s - loss: 2.1263e-04 - mae: 0.0076\n",
      "Epoch 33: loss did not improve from 0.00015\n",
      "324/324 [==============================] - 9s 28ms/step - loss: 2.1263e-04 - mae: 0.0076\n",
      "Epoch 33: early stopping\n"
     ]
    }
   ],
   "source": [
    "earlyStop = EarlyStopping(\n",
    "    monitor = 'loss',\n",
    "    min_delta = 0.0001,\n",
    "    patience = patience,\n",
    "    verbose = 1\n",
    ")\n",
    "saveBest = ModelCheckpoint(\n",
    "    filepath = checkpointPath,\n",
    "    monitor = \"loss\",\n",
    "    verbose = 1,\n",
    "    save_best_only = True,\n",
    "    save_weights_only = True,\n",
    "    mode = \"auto\",\n",
    "    save_freq = \"epoch\"\n",
    ")\n",
    "\n",
    "fitStartTime = time.time()\n",
    "history = model.fit(\n",
    "    trainX,\n",
    "    trainY,\n",
    "    epochs = epochs,\n",
    "    batch_size = batchSize,\n",
    "    callbacks = [earlyStop, saveBest]\n",
    ")\n",
    "fitEndTime = time.time()\n",
    "\n",
    "\n",
    "model.load_weights(checkpointPath)"
   ]
  },
  {
   "cell_type": "markdown",
   "id": "e77355ca",
   "metadata": {},
   "source": [
    "#### 이후 30일 예측"
   ]
  },
  {
   "cell_type": "code",
   "execution_count": 11,
   "id": "3747c7d3",
   "metadata": {
    "scrolled": false
   },
   "outputs": [
    {
     "name": "stderr",
     "output_type": "stream",
     "text": [
      "2023-01-05 20:56:05.597448: I tensorflow/core/grappler/optimizers/custom_graph_optimizer_registry.cc:113] Plugin optimizer for device_type GPU is enabled.\n",
      "2023-01-05 20:56:05.673631: I tensorflow/core/grappler/optimizers/custom_graph_optimizer_registry.cc:113] Plugin optimizer for device_type GPU is enabled.\n",
      "2023-01-05 20:56:05.787440: I tensorflow/core/grappler/optimizers/custom_graph_optimizer_registry.cc:113] Plugin optimizer for device_type GPU is enabled.\n"
     ]
    },
    {
     "name": "stdout",
     "output_type": "stream",
     "text": [
      "5/5 [==============================] - 1s 46ms/step\n",
      "5/5 [==============================] - 0s 40ms/step\n",
      "5/5 [==============================] - 0s 41ms/step\n",
      "5/5 [==============================] - 0s 41ms/step\n",
      "5/5 [==============================] - 0s 43ms/step\n",
      "5/5 [==============================] - 0s 48ms/step\n",
      "5/5 [==============================] - 0s 41ms/step\n",
      "5/5 [==============================] - 0s 38ms/step\n",
      "5/5 [==============================] - 0s 42ms/step\n",
      "5/5 [==============================] - 0s 39ms/step\n",
      "5/5 [==============================] - 0s 39ms/step\n",
      "5/5 [==============================] - 0s 41ms/step\n",
      "5/5 [==============================] - 0s 39ms/step\n",
      "5/5 [==============================] - 0s 40ms/step\n",
      "5/5 [==============================] - 0s 39ms/step\n",
      "5/5 [==============================] - 0s 41ms/step\n",
      "5/5 [==============================] - 0s 40ms/step\n",
      "5/5 [==============================] - 0s 38ms/step\n",
      "5/5 [==============================] - 0s 39ms/step\n",
      "5/5 [==============================] - 0s 39ms/step\n",
      "5/5 [==============================] - 0s 40ms/step\n",
      "5/5 [==============================] - 0s 39ms/step\n",
      "5/5 [==============================] - 0s 38ms/step\n",
      "5/5 [==============================] - 0s 38ms/step\n",
      "5/5 [==============================] - 0s 37ms/step\n",
      "5/5 [==============================] - 0s 38ms/step\n",
      "5/5 [==============================] - 0s 38ms/step\n",
      "5/5 [==============================] - 0s 38ms/step\n",
      "5/5 [==============================] - 0s 38ms/step\n",
      "5/5 [==============================] - 0s 37ms/step\n"
     ]
    }
   ],
   "source": [
    "thirtyPredict = testX\n",
    "\n",
    "for _ in range(30):\n",
    "    currentPredict = model.predict(thirtyPredict)\n",
    "    recentPredict = np.reshape(currentPredict[-1], (1, currentPredict[-1].shape[0]))\n",
    "    newPredictStep = thirtyPredict[-1, 1:]\n",
    "    nextPredict = np.append(newPredictStep, recentPredict, axis = 0)\n",
    "    nextPredict = np.reshape(nextPredict, (1, nextPredict.shape[0], nextPredict.shape[1]))\n",
    "    thirtyPredict = np.append(thirtyPredict, nextPredict, axis = 0)"
   ]
  },
  {
   "cell_type": "markdown",
   "id": "ca918f42",
   "metadata": {},
   "source": [
    "#### 결과 기록"
   ]
  },
  {
   "cell_type": "code",
   "execution_count": 12,
   "id": "9260b57f",
   "metadata": {},
   "outputs": [
    {
     "name": "stderr",
     "output_type": "stream",
     "text": [
      "2023-01-05 20:56:11.917409: I tensorflow/core/grappler/optimizers/custom_graph_optimizer_registry.cc:113] Plugin optimizer for device_type GPU is enabled.\n",
      "2023-01-05 20:56:11.976650: I tensorflow/core/grappler/optimizers/custom_graph_optimizer_registry.cc:113] Plugin optimizer for device_type GPU is enabled.\n",
      "2023-01-05 20:56:12.052485: I tensorflow/core/grappler/optimizers/custom_graph_optimizer_registry.cc:113] Plugin optimizer for device_type GPU is enabled.\n"
     ]
    },
    {
     "name": "stdout",
     "output_type": "stream",
     "text": [
      "5/5 [==============================] - 1s 43ms/step - loss: 6.9864e-04 - mae: 0.0207\n",
      "1/1 [==============================] - 0s 137ms/step - loss: 0.0014 - mae: 0.0287\n"
     ]
    }
   ],
   "source": [
    "fitTime = fitEndTime - fitStartTime\n",
    "score = model.evaluate(testX, testY[:-30])\n",
    "predictScore = model.evaluate(thirtyPredict[-30:], testY[-30:])\n",
    "parameters = f\"\"\"\n",
    "layer = {depth}\n",
    "hiddenState = {hiddenState}\n",
    "timeStep = {timeStep}\n",
    "activation = {activation}\n",
    "epochs = {epochs}\n",
    "batchSize = {batchSize}\n",
    "dataSize = {dataSize}\n",
    "optimizer = {optimizer}\n",
    "patience = {patience}\n",
    "\"\"\"\n",
    "\n",
    "f = open(\"result.txt\", \"a\")\n",
    "f.write(f\"{resultComment}\\n모델 학습 시간: {fitTime:.3} sec\\n평가 손실: {score[0]:.6}\\n30일 예측 손실: {predictScore[0]:.6}\\n{parameters}\\n--------------------------------------\\n\\n\")\n",
    "f.close()"
   ]
  },
  {
   "cell_type": "code",
   "execution_count": 13,
   "id": "84703a93",
   "metadata": {
    "scrolled": false
   },
   "outputs": [
    {
     "name": "stdout",
     "output_type": "stream",
     "text": [
      "모델 학습 시간: 2.86e+02 sec\n"
     ]
    }
   ],
   "source": [
    "print(f\"모델 학습 시간: {fitTime:.3} sec\")"
   ]
  },
  {
   "cell_type": "code",
   "execution_count": 14,
   "id": "4ef6964d",
   "metadata": {},
   "outputs": [
    {
     "name": "stdout",
     "output_type": "stream",
     "text": [
      "평가 손실: 0.0006986359949223697\n"
     ]
    }
   ],
   "source": [
    "print(f\"평가 손실: {score[0]}\")"
   ]
  },
  {
   "cell_type": "code",
   "execution_count": 15,
   "id": "c600af1b",
   "metadata": {},
   "outputs": [
    {
     "name": "stdout",
     "output_type": "stream",
     "text": [
      "30일 예측 손실: 0.0013799843145534396\n"
     ]
    }
   ],
   "source": [
    "print(f\"30일 예측 손실: {predictScore[0]}\")"
   ]
  },
  {
   "cell_type": "markdown",
   "id": "1a858bad",
   "metadata": {},
   "source": [
    "#### Test Data 예측 및 역정규화"
   ]
  },
  {
   "cell_type": "code",
   "execution_count": 16,
   "id": "21f11463",
   "metadata": {},
   "outputs": [
    {
     "name": "stdout",
     "output_type": "stream",
     "text": [
      "324/324 [==============================] - 4s 11ms/step\n",
      "5/5 [==============================] - 0s 13ms/step\n"
     ]
    }
   ],
   "source": [
    "trainPrediction = scaler.inverse_transform(model.predict(trainX))\n",
    "testPrediction = scaler.inverse_transform(model.predict(testX))\n",
    "\n",
    "inversingTrainY = scaler.inverse_transform(trainY)\n",
    "inversingTestY = scaler.inverse_transform(testY)"
   ]
  },
  {
   "cell_type": "markdown",
   "id": "980a5688",
   "metadata": {},
   "source": [
    "### 그래프"
   ]
  },
  {
   "cell_type": "markdown",
   "id": "9a47448f",
   "metadata": {},
   "source": [
    "#### Loss"
   ]
  },
  {
   "cell_type": "code",
   "execution_count": 17,
   "id": "e0cbdfbf",
   "metadata": {},
   "outputs": [
    {
     "data": {
      "image/png": "[encoded data removed]",
      "text/plain": [
       "<Figure size 640x480 with 1 Axes>"
      ]
     },
     "metadata": {},
     "output_type": "display_data"
    }
   ],
   "source": [
    "loss = history.history[\"loss\"]\n",
    "plt.title(\"Loss\")\n",
    "plt.plot(loss, label=\"loss\")\n",
    "plt.grid(True)\n",
    "plt.savefig(f\"{fileSavePath}/Loss.png\")\n",
    "plt.legend()\n",
    "plt.show()"
   ]
  },
  {
   "cell_type": "markdown",
   "id": "6d850d7d",
   "metadata": {},
   "source": [
    "#### Train Data Graph"
   ]
  },
  {
   "cell_type": "code",
   "execution_count": 18,
   "id": "7ecbefab",
   "metadata": {},
   "outputs": [
    {
     "data": {
      "image/png": "[encoded data removed]",
      "text/plain": [
       "<Figure size 640x480 with 1 Axes>"
      ]
     },
     "metadata": {},
     "output_type": "display_data"
    }
   ],
   "source": [
    "plt.title(trainGraphTitle)\n",
    "plt.plot(inversingTrainY[:, 4], label=\"Train ADJ.Close\")\n",
    "plt.plot(trainPrediction[:, 4], label=\"Predict ADJ.Close\")\n",
    "plt.grid(True)\n",
    "plt.savefig(f\"{fileSavePath}/Train.png\")\n",
    "plt.xlabel('Day')\n",
    "plt.ylabel('Price')\n",
    "plt.legend()\n",
    "plt.show()"
   ]
  },
  {
   "cell_type": "markdown",
   "id": "9f26326e",
   "metadata": {},
   "source": [
    "#### Test Data Graph"
   ]
  },
  {
   "cell_type": "code",
   "execution_count": 19,
   "id": "0a50d286",
   "metadata": {},
   "outputs": [],
   "source": [
    "# plt.title(testGraphTitle)\n",
    "# plt.plot(inversingTestY[:, 4], label=\"Test ADJ.Close\")\n",
    "# plt.plot(testPrediction[:, 4], label=\"Predict ADJ.Close\")\n",
    "# plt.grid(True)\n",
    "# plt.xlabel('Day')\n",
    "# plt.ylabel('Price')\n",
    "# plt.axvline(x=len(testY)-30, color='green', linestyle='-', linewidth=1)\n",
    "# plt.legend()\n",
    "# plt.savefig(f\"{fileSavePath}/Test.png\")\n",
    "# plt.show()"
   ]
  },
  {
   "cell_type": "markdown",
   "id": "f9fdf304",
   "metadata": {},
   "source": [
    "#### Test Data + 30일 예측 그래프"
   ]
  },
  {
   "cell_type": "code",
   "execution_count": 20,
   "id": "fefff00c",
   "metadata": {
    "scrolled": false
   },
   "outputs": [
    {
     "name": "stdout",
     "output_type": "stream",
     "text": [
      "5/5 [==============================] - 0s 11ms/step\n"
     ]
    },
    {
     "data": {
      "image/png": "[encoded data removed]",
      "text/plain": [
       "<Figure size 640x480 with 1 Axes>"
      ]
     },
     "metadata": {},
     "output_type": "display_data"
    }
   ],
   "source": [
    "thirtyDaysAfterpredict = scaler.inverse_transform(model.predict(thirtyPredict))\n",
    "\n",
    "plt.title(\"30 Days After\")\n",
    "plt.plot(inversingTestY[:, 4], label=\"Test ADJ.Close\")\n",
    "plt.plot(thirtyDaysAfterpredict[:, 4], label=\"30 Days predict ADJ.Close\")\n",
    "plt.grid(True)\n",
    "plt.xlabel('Day')\n",
    "plt.ylabel('Price')\n",
    "plt.axvline(x=len(testY)-30, color='green', linestyle='-', linewidth=1)\n",
    "plt.legend()\n",
    "plt.savefig(f\"{fileSavePath}/30Predict.png\")\n",
    "plt.show()"
   ]
  }
 ],
 "metadata": {
  "kernelspec": {
   "display_name": "Python 3 (ipykernel)",
   "language": "python",
   "name": "python3"
  },
  "language_info": {
   "codemirror_mode": {
    "name": "ipython",
    "version": 3
   },
   "file_extension": ".py",
   "mimetype": "text/x-python",
   "name": "python",
   "nbconvert_exporter": "python",
   "pygments_lexer": "ipython3",
   "version": "3.9.15"
  }
 },
 "nbformat": 4,
 "nbformat_minor": 5
}
